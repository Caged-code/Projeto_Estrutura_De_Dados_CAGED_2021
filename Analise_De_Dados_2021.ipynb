{
  "nbformat": 4,
  "nbformat_minor": 0,
  "metadata": {
    "colab": {
      "name": "Analise De Dados.ipynb",
      "provenance": [],
      "collapsed_sections": []
    },
    "kernelspec": {
      "name": "python3",
      "display_name": "Python 3"
    },
    "language_info": {
      "name": "python"
    }
  },
  "cells": [
    {
      "cell_type": "code",
      "metadata": {
        "id": "bNdMJGfNRrmW"
      },
      "source": [
        "# Projeto Estrutura De Dados CAGED 2021"
      ],
      "execution_count": null,
      "outputs": []
    },
    {
      "cell_type": "code",
      "metadata": {
        "id": "haq63ELBrrBg"
      },
      "source": [
        "from google.colab import drive\n",
        "drive.mount('/content/drive')"
      ],
      "execution_count": null,
      "outputs": []
    },
    {
      "cell_type": "code",
      "metadata": {
        "id": "0J1xMjPdRs7f"
      },
      "source": [
        "#Nomes Completos:\n",
        "#Ana Beatriz Silva de Araujo Leite\n",
        "#Anna Carolina de Oliveira Vale Mendes\n",
        "#Camila de Fátima Ferreira Pacheco\n",
        "#Rafael dos Santos Pereira\n",
        "#Rafael Bettini Dias\n",
        "#Pedro Reginaldo Tome Silva"
      ],
      "execution_count": null,
      "outputs": []
    },
    {
      "cell_type": "code",
      "metadata": {
        "id": "PuOZcujD9nOB"
      },
      "source": [
        "#Importando as bibliotecas\n",
        "import pandas as pd\n",
        "import matplotlib.pyplot as plt\n",
        "import numpy as np\n",
        "low_memory=False\n",
        "import requests\n",
        "from bs4 import BeautifulSoup\n",
        "from requests import get\n",
        "import seaborn as sns\n"
      ],
      "execution_count": null,
      "outputs": []
    },
    {
      "cell_type": "code",
      "metadata": {
        "id": "KnaQGctaRtDW"
      },
      "source": [
        "#Questão 1: \n",
        "#1 – Qual foi o índice de pessoas empregadas e desempregadas em certo período, categorizadas por: - Gênero - Classe social - Faixa Etária - Nível de escolaridade - Setores (Agronegócio, Indústria, Comércio, etc...)"
      ],
      "execution_count": null,
      "outputs": []
    },
    {
      "cell_type": "code",
      "metadata": {
        "colab": {
          "base_uri": "https://localhost:8080/",
          "height": 473
        },
        "id": "W8jKOcj4RtGf",
        "outputId": "09283c60-2d5e-4c82-948a-6a2433efefc5"
      },
      "source": [
        "#Importando a base de dados\n",
        "tabela = ('/content/drive/MyDrive/Colab Notebooks/CAGEDLIGTH.csv')\n",
        "df = pd.read_csv(tabela, delimiter=';',\n",
        "                encoding='ISO-8859-1',\n",
        "                error_bad_lines=False)\n",
        "display(df)\n"
      ],
      "execution_count": null,
      "outputs": [
        {
          "output_type": "stream",
          "text": [
            "/usr/local/lib/python3.7/dist-packages/IPython/core/interactiveshell.py:2718: DtypeWarning: Columns (0) have mixed types.Specify dtype option on import or set low_memory=False.\n",
            "  interactivity=interactivity, compiler=compiler, result=result)\n"
          ],
          "name": "stderr"
        },
        {
          "output_type": "display_data",
          "data": {
            "text/html": [
              "<div>\n",
              "<style scoped>\n",
              "    .dataframe tbody tr th:only-of-type {\n",
              "        vertical-align: middle;\n",
              "    }\n",
              "\n",
              "    .dataframe tbody tr th {\n",
              "        vertical-align: top;\n",
              "    }\n",
              "\n",
              "    .dataframe thead th {\n",
              "        text-align: right;\n",
              "    }\n",
              "</style>\n",
              "<table border=\"1\" class=\"dataframe\">\n",
              "  <thead>\n",
              "    <tr style=\"text-align: right;\">\n",
              "      <th></th>\n",
              "      <th>competencia</th>\n",
              "      <th>regiao</th>\n",
              "      <th>uf</th>\n",
              "      <th>municipio</th>\n",
              "      <th>secao</th>\n",
              "      <th>subclasse</th>\n",
              "      <th>saldomovimentacao</th>\n",
              "      <th>cbo2002ocupacao</th>\n",
              "      <th>categoria</th>\n",
              "      <th>graudeinstrucao</th>\n",
              "      <th>idade</th>\n",
              "      <th>horascontratuais</th>\n",
              "      <th>racacor</th>\n",
              "      <th>sexo</th>\n",
              "      <th>tipoempregador</th>\n",
              "      <th>tipoestabelecimento</th>\n",
              "      <th>tipomovimentacao</th>\n",
              "      <th>tipodedeficiencia</th>\n",
              "      <th>indtrabintermitente</th>\n",
              "      <th>indtrabparcial</th>\n",
              "      <th>salario</th>\n",
              "      <th>tamestabjan</th>\n",
              "      <th>indicadoraprendiz</th>\n",
              "      <th>fonte</th>\n",
              "    </tr>\n",
              "  </thead>\n",
              "  <tbody>\n",
              "    <tr>\n",
              "      <th>0</th>\n",
              "      <td>202003</td>\n",
              "      <td>3.0</td>\n",
              "      <td>31.0</td>\n",
              "      <td>317020.0</td>\n",
              "      <td>G</td>\n",
              "      <td>4752100.0</td>\n",
              "      <td>-1.0</td>\n",
              "      <td>521110.0</td>\n",
              "      <td>999.0</td>\n",
              "      <td>7.0</td>\n",
              "      <td>21.0</td>\n",
              "      <td>44.0</td>\n",
              "      <td>6.0</td>\n",
              "      <td>3.0</td>\n",
              "      <td>0.0</td>\n",
              "      <td>1.0</td>\n",
              "      <td>31.0</td>\n",
              "      <td>0.0</td>\n",
              "      <td>0.0</td>\n",
              "      <td>0.0</td>\n",
              "      <td>1165.859985</td>\n",
              "      <td>3.0</td>\n",
              "      <td>0.0</td>\n",
              "      <td>1.0</td>\n",
              "    </tr>\n",
              "    <tr>\n",
              "      <th>1</th>\n",
              "      <td>202003</td>\n",
              "      <td>5.0</td>\n",
              "      <td>51.0</td>\n",
              "      <td>510795.0</td>\n",
              "      <td>G</td>\n",
              "      <td>4711301.0</td>\n",
              "      <td>-1.0</td>\n",
              "      <td>421125.0</td>\n",
              "      <td>101.0</td>\n",
              "      <td>7.0</td>\n",
              "      <td>34.0</td>\n",
              "      <td>44.0</td>\n",
              "      <td>3.0</td>\n",
              "      <td>3.0</td>\n",
              "      <td>0.0</td>\n",
              "      <td>1.0</td>\n",
              "      <td>40.0</td>\n",
              "      <td>0.0</td>\n",
              "      <td>0.0</td>\n",
              "      <td>0.0</td>\n",
              "      <td>1020.000000</td>\n",
              "      <td>7.0</td>\n",
              "      <td>0.0</td>\n",
              "      <td>1.0</td>\n",
              "    </tr>\n",
              "    <tr>\n",
              "      <th>2</th>\n",
              "      <td>202003</td>\n",
              "      <td>2.0</td>\n",
              "      <td>26.0</td>\n",
              "      <td>260790.0</td>\n",
              "      <td>C</td>\n",
              "      <td>3292202.0</td>\n",
              "      <td>-1.0</td>\n",
              "      <td>862150.0</td>\n",
              "      <td>101.0</td>\n",
              "      <td>7.0</td>\n",
              "      <td>37.0</td>\n",
              "      <td>44.0</td>\n",
              "      <td>6.0</td>\n",
              "      <td>1.0</td>\n",
              "      <td>0.0</td>\n",
              "      <td>1.0</td>\n",
              "      <td>31.0</td>\n",
              "      <td>0.0</td>\n",
              "      <td>0.0</td>\n",
              "      <td>0.0</td>\n",
              "      <td>1200.000000</td>\n",
              "      <td>4.0</td>\n",
              "      <td>0.0</td>\n",
              "      <td>1.0</td>\n",
              "    </tr>\n",
              "    <tr>\n",
              "      <th>3</th>\n",
              "      <td>202003</td>\n",
              "      <td>3.0</td>\n",
              "      <td>35.0</td>\n",
              "      <td>355030.0</td>\n",
              "      <td>N</td>\n",
              "      <td>7820500.0</td>\n",
              "      <td>-1.0</td>\n",
              "      <td>422105.0</td>\n",
              "      <td>106.0</td>\n",
              "      <td>7.0</td>\n",
              "      <td>20.0</td>\n",
              "      <td>44.0</td>\n",
              "      <td>1.0</td>\n",
              "      <td>3.0</td>\n",
              "      <td>0.0</td>\n",
              "      <td>1.0</td>\n",
              "      <td>43.0</td>\n",
              "      <td>0.0</td>\n",
              "      <td>0.0</td>\n",
              "      <td>0.0</td>\n",
              "      <td>1396.000000</td>\n",
              "      <td>10.0</td>\n",
              "      <td>0.0</td>\n",
              "      <td>1.0</td>\n",
              "    </tr>\n",
              "    <tr>\n",
              "      <th>4</th>\n",
              "      <td>202003</td>\n",
              "      <td>3.0</td>\n",
              "      <td>35.0</td>\n",
              "      <td>355030.0</td>\n",
              "      <td>R</td>\n",
              "      <td>9312300.0</td>\n",
              "      <td>-1.0</td>\n",
              "      <td>517330.0</td>\n",
              "      <td>101.0</td>\n",
              "      <td>7.0</td>\n",
              "      <td>36.0</td>\n",
              "      <td>44.0</td>\n",
              "      <td>2.0</td>\n",
              "      <td>1.0</td>\n",
              "      <td>0.0</td>\n",
              "      <td>1.0</td>\n",
              "      <td>31.0</td>\n",
              "      <td>0.0</td>\n",
              "      <td>0.0</td>\n",
              "      <td>0.0</td>\n",
              "      <td>2474.189941</td>\n",
              "      <td>10.0</td>\n",
              "      <td>0.0</td>\n",
              "      <td>1.0</td>\n",
              "    </tr>\n",
              "    <tr>\n",
              "      <th>...</th>\n",
              "      <td>...</td>\n",
              "      <td>...</td>\n",
              "      <td>...</td>\n",
              "      <td>...</td>\n",
              "      <td>...</td>\n",
              "      <td>...</td>\n",
              "      <td>...</td>\n",
              "      <td>...</td>\n",
              "      <td>...</td>\n",
              "      <td>...</td>\n",
              "      <td>...</td>\n",
              "      <td>...</td>\n",
              "      <td>...</td>\n",
              "      <td>...</td>\n",
              "      <td>...</td>\n",
              "      <td>...</td>\n",
              "      <td>...</td>\n",
              "      <td>...</td>\n",
              "      <td>...</td>\n",
              "      <td>...</td>\n",
              "      <td>...</td>\n",
              "      <td>...</td>\n",
              "      <td>...</td>\n",
              "      <td>...</td>\n",
              "    </tr>\n",
              "    <tr>\n",
              "      <th>2999996</th>\n",
              "      <td>202012</td>\n",
              "      <td>3.0</td>\n",
              "      <td>31.0</td>\n",
              "      <td>310620.0</td>\n",
              "      <td>J</td>\n",
              "      <td>6201501.0</td>\n",
              "      <td>1.0</td>\n",
              "      <td>212405.0</td>\n",
              "      <td>101.0</td>\n",
              "      <td>9.0</td>\n",
              "      <td>34.0</td>\n",
              "      <td>40.0</td>\n",
              "      <td>1.0</td>\n",
              "      <td>1.0</td>\n",
              "      <td>0.0</td>\n",
              "      <td>1.0</td>\n",
              "      <td>20.0</td>\n",
              "      <td>0.0</td>\n",
              "      <td>0.0</td>\n",
              "      <td>0.0</td>\n",
              "      <td>10800.000000</td>\n",
              "      <td>9.0</td>\n",
              "      <td>0.0</td>\n",
              "      <td>1.0</td>\n",
              "    </tr>\n",
              "    <tr>\n",
              "      <th>2999997</th>\n",
              "      <td>202012</td>\n",
              "      <td>3.0</td>\n",
              "      <td>35.0</td>\n",
              "      <td>355030.0</td>\n",
              "      <td>N</td>\n",
              "      <td>7820500.0</td>\n",
              "      <td>-1.0</td>\n",
              "      <td>322205.0</td>\n",
              "      <td>106.0</td>\n",
              "      <td>7.0</td>\n",
              "      <td>23.0</td>\n",
              "      <td>36.0</td>\n",
              "      <td>3.0</td>\n",
              "      <td>3.0</td>\n",
              "      <td>0.0</td>\n",
              "      <td>1.0</td>\n",
              "      <td>43.0</td>\n",
              "      <td>0.0</td>\n",
              "      <td>0.0</td>\n",
              "      <td>0.0</td>\n",
              "      <td>1740.560059</td>\n",
              "      <td>10.0</td>\n",
              "      <td>0.0</td>\n",
              "      <td>1.0</td>\n",
              "    </tr>\n",
              "    <tr>\n",
              "      <th>2999998</th>\n",
              "      <td>202012</td>\n",
              "      <td>4.0</td>\n",
              "      <td>42.0</td>\n",
              "      <td>420540.0</td>\n",
              "      <td>G</td>\n",
              "      <td>4711302.0</td>\n",
              "      <td>-1.0</td>\n",
              "      <td>517330.0</td>\n",
              "      <td>101.0</td>\n",
              "      <td>7.0</td>\n",
              "      <td>47.0</td>\n",
              "      <td>44.0</td>\n",
              "      <td>3.0</td>\n",
              "      <td>1.0</td>\n",
              "      <td>0.0</td>\n",
              "      <td>1.0</td>\n",
              "      <td>40.0</td>\n",
              "      <td>0.0</td>\n",
              "      <td>0.0</td>\n",
              "      <td>0.0</td>\n",
              "      <td>1473.849976</td>\n",
              "      <td>7.0</td>\n",
              "      <td>0.0</td>\n",
              "      <td>1.0</td>\n",
              "    </tr>\n",
              "    <tr>\n",
              "      <th>2999999</th>\n",
              "      <td>202012</td>\n",
              "      <td>3.0</td>\n",
              "      <td>35.0</td>\n",
              "      <td>351870.0</td>\n",
              "      <td>G</td>\n",
              "      <td>4721104.0</td>\n",
              "      <td>-1.0</td>\n",
              "      <td>521110.0</td>\n",
              "      <td>101.0</td>\n",
              "      <td>6.0</td>\n",
              "      <td>16.0</td>\n",
              "      <td>44.0</td>\n",
              "      <td>1.0</td>\n",
              "      <td>3.0</td>\n",
              "      <td>0.0</td>\n",
              "      <td>1.0</td>\n",
              "      <td>40.0</td>\n",
              "      <td>0.0</td>\n",
              "      <td>0.0</td>\n",
              "      <td>0.0</td>\n",
              "      <td>1056.569946</td>\n",
              "      <td>2.0</td>\n",
              "      <td>0.0</td>\n",
              "      <td>1.0</td>\n",
              "    </tr>\n",
              "    <tr>\n",
              "      <th>3000000</th>\n",
              "      <td>\u001a</td>\n",
              "      <td>NaN</td>\n",
              "      <td>NaN</td>\n",
              "      <td>NaN</td>\n",
              "      <td>NaN</td>\n",
              "      <td>NaN</td>\n",
              "      <td>NaN</td>\n",
              "      <td>NaN</td>\n",
              "      <td>NaN</td>\n",
              "      <td>NaN</td>\n",
              "      <td>NaN</td>\n",
              "      <td>NaN</td>\n",
              "      <td>NaN</td>\n",
              "      <td>NaN</td>\n",
              "      <td>NaN</td>\n",
              "      <td>NaN</td>\n",
              "      <td>NaN</td>\n",
              "      <td>NaN</td>\n",
              "      <td>NaN</td>\n",
              "      <td>NaN</td>\n",
              "      <td>NaN</td>\n",
              "      <td>NaN</td>\n",
              "      <td>NaN</td>\n",
              "      <td>NaN</td>\n",
              "    </tr>\n",
              "  </tbody>\n",
              "</table>\n",
              "<p>3000001 rows × 24 columns</p>\n",
              "</div>"
            ],
            "text/plain": [
              "        competencia  regiao    uf  ...  tamestabjan indicadoraprendiz  fonte\n",
              "0            202003     3.0  31.0  ...          3.0               0.0    1.0\n",
              "1            202003     5.0  51.0  ...          7.0               0.0    1.0\n",
              "2            202003     2.0  26.0  ...          4.0               0.0    1.0\n",
              "3            202003     3.0  35.0  ...         10.0               0.0    1.0\n",
              "4            202003     3.0  35.0  ...         10.0               0.0    1.0\n",
              "...             ...     ...   ...  ...          ...               ...    ...\n",
              "2999996      202012     3.0  31.0  ...          9.0               0.0    1.0\n",
              "2999997      202012     3.0  35.0  ...         10.0               0.0    1.0\n",
              "2999998      202012     4.0  42.0  ...          7.0               0.0    1.0\n",
              "2999999      202012     3.0  35.0  ...          2.0               0.0    1.0\n",
              "3000000           \u001a     NaN   NaN  ...          NaN               NaN    NaN\n",
              "\n",
              "[3000001 rows x 24 columns]"
            ]
          },
          "metadata": {
            "tags": []
          }
        }
      ]
    },
    {
      "cell_type": "code",
      "metadata": {
        "id": "oyRMoLFJRtJW"
      },
      "source": [
        "# Pessoas empregadas e desempregadas:"
      ],
      "execution_count": null,
      "outputs": []
    },
    {
      "cell_type": "code",
      "metadata": {
        "colab": {
          "base_uri": "https://localhost:8080/",
          "height": 419
        },
        "id": "4SstazlSRtMB",
        "outputId": "afe6c27e-82fc-429a-bc56-cd5f46581899"
      },
      "source": [
        "# filtrando por categoria \n",
        "\n",
        "tpmovcategoria = df.filter(['categoria'])\n",
        "\n",
        "# remover a coluna que está 100% vazia\n",
        "df = df.dropna(how='all', axis=1)\n",
        "\n",
        "# remover a linha que tem um item vazio\n",
        "df = df.dropna()\n",
        "display(tpmovcategoria)"
      ],
      "execution_count": null,
      "outputs": [
        {
          "output_type": "display_data",
          "data": {
            "text/html": [
              "<div>\n",
              "<style scoped>\n",
              "    .dataframe tbody tr th:only-of-type {\n",
              "        vertical-align: middle;\n",
              "    }\n",
              "\n",
              "    .dataframe tbody tr th {\n",
              "        vertical-align: top;\n",
              "    }\n",
              "\n",
              "    .dataframe thead th {\n",
              "        text-align: right;\n",
              "    }\n",
              "</style>\n",
              "<table border=\"1\" class=\"dataframe\">\n",
              "  <thead>\n",
              "    <tr style=\"text-align: right;\">\n",
              "      <th></th>\n",
              "      <th>categoria</th>\n",
              "    </tr>\n",
              "  </thead>\n",
              "  <tbody>\n",
              "    <tr>\n",
              "      <th>0</th>\n",
              "      <td>999.0</td>\n",
              "    </tr>\n",
              "    <tr>\n",
              "      <th>1</th>\n",
              "      <td>101.0</td>\n",
              "    </tr>\n",
              "    <tr>\n",
              "      <th>2</th>\n",
              "      <td>101.0</td>\n",
              "    </tr>\n",
              "    <tr>\n",
              "      <th>3</th>\n",
              "      <td>106.0</td>\n",
              "    </tr>\n",
              "    <tr>\n",
              "      <th>4</th>\n",
              "      <td>101.0</td>\n",
              "    </tr>\n",
              "    <tr>\n",
              "      <th>...</th>\n",
              "      <td>...</td>\n",
              "    </tr>\n",
              "    <tr>\n",
              "      <th>2999996</th>\n",
              "      <td>101.0</td>\n",
              "    </tr>\n",
              "    <tr>\n",
              "      <th>2999997</th>\n",
              "      <td>106.0</td>\n",
              "    </tr>\n",
              "    <tr>\n",
              "      <th>2999998</th>\n",
              "      <td>101.0</td>\n",
              "    </tr>\n",
              "    <tr>\n",
              "      <th>2999999</th>\n",
              "      <td>101.0</td>\n",
              "    </tr>\n",
              "    <tr>\n",
              "      <th>3000000</th>\n",
              "      <td>NaN</td>\n",
              "    </tr>\n",
              "  </tbody>\n",
              "</table>\n",
              "<p>3000001 rows × 1 columns</p>\n",
              "</div>"
            ],
            "text/plain": [
              "         categoria\n",
              "0            999.0\n",
              "1            101.0\n",
              "2            101.0\n",
              "3            106.0\n",
              "4            101.0\n",
              "...            ...\n",
              "2999996      101.0\n",
              "2999997      106.0\n",
              "2999998      101.0\n",
              "2999999      101.0\n",
              "3000000        NaN\n",
              "\n",
              "[3000001 rows x 1 columns]"
            ]
          },
          "metadata": {
            "tags": []
          }
        }
      ]
    },
    {
      "cell_type": "code",
      "metadata": {
        "id": "UMV3NPPQY38R"
      },
      "source": [
        "categoria_troca = {999: 'Não Identificado', 101:'Empregado - Geral, inclusive o empregado público da administração direta ou indireta contratado pela CLT', 102: 'Empregado - Trabalhador rural por pequeno prazo da Lei 11.718/2008', 103: 'Empregado - Aprendiz', 104: 'Empregado - Doméstico', 105: 'Empregado - Contrato a termo firmado nos termos da Lei 9.601/1998', 106: 'Trabalhador temporário - Contrato nos termos da Lei 6.019/1974', 107: 'Empregado - Contrato de trabalho Verde e Amarelo - sem acordo para antecipação mensal da multa rescisória do FGTS', 108: 'Empregado - Contrato de trabalho Verde e Amarelo - com acordo para antecipação mensal da multa rescisória do FGTS', 111: 'Empregado - Contrato de trabalho intermitente' }\n",
        "df.loc[(df.categoria.isnull()), 'categoria'] = 999\n",
        "df['categoria'] = df['categoria'].apply(lambda x: categoria_troca[x])"
      ],
      "execution_count": null,
      "outputs": []
    },
    {
      "cell_type": "code",
      "metadata": {
        "colab": {
          "base_uri": "https://localhost:8080/",
          "height": 187
        },
        "id": "x21r6uY1bPqb",
        "outputId": "6511a89c-672b-4f0f-df44-276fa329f664"
      },
      "source": [
        "display(df['categoria'].value_counts())"
      ],
      "execution_count": null,
      "outputs": [
        {
          "output_type": "display_data",
          "data": {
            "text/plain": [
              "Empregado - Geral, inclusive o empregado público da administração direta ou indireta contratado pela CLT             2533772\n",
              "Não Identificado                                                                                                      189628\n",
              "Trabalhador temporário - Contrato nos termos da Lei 6.019/1974                                                        139008\n",
              "Empregado - Aprendiz                                                                                                   58847\n",
              "Empregado - Contrato a termo firmado nos termos da Lei 9.601/1998                                                      40526\n",
              "Empregado - Contrato de trabalho intermitente                                                                          29868\n",
              "Empregado - Trabalhador rural por pequeno prazo da Lei 11.718/2008                                                      7215\n",
              "Empregado - Contrato de trabalho Verde e Amarelo - sem acordo para antecipação mensal da multa rescisória do FGTS        878\n",
              "Empregado - Contrato de trabalho Verde e Amarelo - com acordo para antecipação mensal da multa rescisória do FGTS        233\n",
              "Name: categoria, dtype: int64"
            ]
          },
          "metadata": {
            "tags": []
          }
        }
      ]
    },
    {
      "cell_type": "code",
      "metadata": {
        "colab": {
          "base_uri": "https://localhost:8080/",
          "height": 1000
        },
        "id": "0rfLQN9Mc1iT",
        "outputId": "1167ef0a-6689-4065-910b-b318742f2418"
      },
      "source": [
        "display(df)"
      ],
      "execution_count": null,
      "outputs": [
        {
          "output_type": "display_data",
          "data": {
            "text/html": [
              "<div>\n",
              "<style scoped>\n",
              "    .dataframe tbody tr th:only-of-type {\n",
              "        vertical-align: middle;\n",
              "    }\n",
              "\n",
              "    .dataframe tbody tr th {\n",
              "        vertical-align: top;\n",
              "    }\n",
              "\n",
              "    .dataframe thead th {\n",
              "        text-align: right;\n",
              "    }\n",
              "</style>\n",
              "<table border=\"1\" class=\"dataframe\">\n",
              "  <thead>\n",
              "    <tr style=\"text-align: right;\">\n",
              "      <th></th>\n",
              "      <th>competencia</th>\n",
              "      <th>regiao</th>\n",
              "      <th>uf</th>\n",
              "      <th>municipio</th>\n",
              "      <th>secao</th>\n",
              "      <th>subclasse</th>\n",
              "      <th>saldomovimentacao</th>\n",
              "      <th>cbo2002ocupacao</th>\n",
              "      <th>categoria</th>\n",
              "      <th>graudeinstrucao</th>\n",
              "      <th>idade</th>\n",
              "      <th>horascontratuais</th>\n",
              "      <th>racacor</th>\n",
              "      <th>sexo</th>\n",
              "      <th>tipoempregador</th>\n",
              "      <th>tipoestabelecimento</th>\n",
              "      <th>tipomovimentacao</th>\n",
              "      <th>tipodedeficiencia</th>\n",
              "      <th>indtrabintermitente</th>\n",
              "      <th>indtrabparcial</th>\n",
              "      <th>salario</th>\n",
              "      <th>tamestabjan</th>\n",
              "      <th>indicadoraprendiz</th>\n",
              "      <th>fonte</th>\n",
              "    </tr>\n",
              "  </thead>\n",
              "  <tbody>\n",
              "    <tr>\n",
              "      <th>0</th>\n",
              "      <td>202003</td>\n",
              "      <td>3.0</td>\n",
              "      <td>31.0</td>\n",
              "      <td>317020.0</td>\n",
              "      <td>G</td>\n",
              "      <td>4752100.0</td>\n",
              "      <td>-1.0</td>\n",
              "      <td>521110.0</td>\n",
              "      <td>Não Identificado</td>\n",
              "      <td>7.0</td>\n",
              "      <td>21.0</td>\n",
              "      <td>44.0</td>\n",
              "      <td>6.0</td>\n",
              "      <td>3.0</td>\n",
              "      <td>0.0</td>\n",
              "      <td>1.0</td>\n",
              "      <td>31.0</td>\n",
              "      <td>0.0</td>\n",
              "      <td>0.0</td>\n",
              "      <td>0.0</td>\n",
              "      <td>1165.859985</td>\n",
              "      <td>3.0</td>\n",
              "      <td>0.0</td>\n",
              "      <td>1.0</td>\n",
              "    </tr>\n",
              "    <tr>\n",
              "      <th>1</th>\n",
              "      <td>202003</td>\n",
              "      <td>5.0</td>\n",
              "      <td>51.0</td>\n",
              "      <td>510795.0</td>\n",
              "      <td>G</td>\n",
              "      <td>4711301.0</td>\n",
              "      <td>-1.0</td>\n",
              "      <td>421125.0</td>\n",
              "      <td>Empregado - Geral, inclusive o empregado públi...</td>\n",
              "      <td>7.0</td>\n",
              "      <td>34.0</td>\n",
              "      <td>44.0</td>\n",
              "      <td>3.0</td>\n",
              "      <td>3.0</td>\n",
              "      <td>0.0</td>\n",
              "      <td>1.0</td>\n",
              "      <td>40.0</td>\n",
              "      <td>0.0</td>\n",
              "      <td>0.0</td>\n",
              "      <td>0.0</td>\n",
              "      <td>1020.000000</td>\n",
              "      <td>7.0</td>\n",
              "      <td>0.0</td>\n",
              "      <td>1.0</td>\n",
              "    </tr>\n",
              "    <tr>\n",
              "      <th>2</th>\n",
              "      <td>202003</td>\n",
              "      <td>2.0</td>\n",
              "      <td>26.0</td>\n",
              "      <td>260790.0</td>\n",
              "      <td>C</td>\n",
              "      <td>3292202.0</td>\n",
              "      <td>-1.0</td>\n",
              "      <td>862150.0</td>\n",
              "      <td>Empregado - Geral, inclusive o empregado públi...</td>\n",
              "      <td>7.0</td>\n",
              "      <td>37.0</td>\n",
              "      <td>44.0</td>\n",
              "      <td>6.0</td>\n",
              "      <td>1.0</td>\n",
              "      <td>0.0</td>\n",
              "      <td>1.0</td>\n",
              "      <td>31.0</td>\n",
              "      <td>0.0</td>\n",
              "      <td>0.0</td>\n",
              "      <td>0.0</td>\n",
              "      <td>1200.000000</td>\n",
              "      <td>4.0</td>\n",
              "      <td>0.0</td>\n",
              "      <td>1.0</td>\n",
              "    </tr>\n",
              "    <tr>\n",
              "      <th>3</th>\n",
              "      <td>202003</td>\n",
              "      <td>3.0</td>\n",
              "      <td>35.0</td>\n",
              "      <td>355030.0</td>\n",
              "      <td>N</td>\n",
              "      <td>7820500.0</td>\n",
              "      <td>-1.0</td>\n",
              "      <td>422105.0</td>\n",
              "      <td>Trabalhador temporário - Contrato nos termos d...</td>\n",
              "      <td>7.0</td>\n",
              "      <td>20.0</td>\n",
              "      <td>44.0</td>\n",
              "      <td>1.0</td>\n",
              "      <td>3.0</td>\n",
              "      <td>0.0</td>\n",
              "      <td>1.0</td>\n",
              "      <td>43.0</td>\n",
              "      <td>0.0</td>\n",
              "      <td>0.0</td>\n",
              "      <td>0.0</td>\n",
              "      <td>1396.000000</td>\n",
              "      <td>10.0</td>\n",
              "      <td>0.0</td>\n",
              "      <td>1.0</td>\n",
              "    </tr>\n",
              "    <tr>\n",
              "      <th>4</th>\n",
              "      <td>202003</td>\n",
              "      <td>3.0</td>\n",
              "      <td>35.0</td>\n",
              "      <td>355030.0</td>\n",
              "      <td>R</td>\n",
              "      <td>9312300.0</td>\n",
              "      <td>-1.0</td>\n",
              "      <td>517330.0</td>\n",
              "      <td>Empregado - Geral, inclusive o empregado públi...</td>\n",
              "      <td>7.0</td>\n",
              "      <td>36.0</td>\n",
              "      <td>44.0</td>\n",
              "      <td>2.0</td>\n",
              "      <td>1.0</td>\n",
              "      <td>0.0</td>\n",
              "      <td>1.0</td>\n",
              "      <td>31.0</td>\n",
              "      <td>0.0</td>\n",
              "      <td>0.0</td>\n",
              "      <td>0.0</td>\n",
              "      <td>2474.189941</td>\n",
              "      <td>10.0</td>\n",
              "      <td>0.0</td>\n",
              "      <td>1.0</td>\n",
              "    </tr>\n",
              "    <tr>\n",
              "      <th>...</th>\n",
              "      <td>...</td>\n",
              "      <td>...</td>\n",
              "      <td>...</td>\n",
              "      <td>...</td>\n",
              "      <td>...</td>\n",
              "      <td>...</td>\n",
              "      <td>...</td>\n",
              "      <td>...</td>\n",
              "      <td>...</td>\n",
              "      <td>...</td>\n",
              "      <td>...</td>\n",
              "      <td>...</td>\n",
              "      <td>...</td>\n",
              "      <td>...</td>\n",
              "      <td>...</td>\n",
              "      <td>...</td>\n",
              "      <td>...</td>\n",
              "      <td>...</td>\n",
              "      <td>...</td>\n",
              "      <td>...</td>\n",
              "      <td>...</td>\n",
              "      <td>...</td>\n",
              "      <td>...</td>\n",
              "      <td>...</td>\n",
              "    </tr>\n",
              "    <tr>\n",
              "      <th>2999995</th>\n",
              "      <td>202012</td>\n",
              "      <td>3.0</td>\n",
              "      <td>35.0</td>\n",
              "      <td>354990.0</td>\n",
              "      <td>G</td>\n",
              "      <td>4724500.0</td>\n",
              "      <td>1.0</td>\n",
              "      <td>521125.0</td>\n",
              "      <td>Empregado - Geral, inclusive o empregado públi...</td>\n",
              "      <td>7.0</td>\n",
              "      <td>24.0</td>\n",
              "      <td>44.0</td>\n",
              "      <td>1.0</td>\n",
              "      <td>1.0</td>\n",
              "      <td>0.0</td>\n",
              "      <td>1.0</td>\n",
              "      <td>20.0</td>\n",
              "      <td>0.0</td>\n",
              "      <td>0.0</td>\n",
              "      <td>0.0</td>\n",
              "      <td>1376.000000</td>\n",
              "      <td>4.0</td>\n",
              "      <td>0.0</td>\n",
              "      <td>1.0</td>\n",
              "    </tr>\n",
              "    <tr>\n",
              "      <th>2999996</th>\n",
              "      <td>202012</td>\n",
              "      <td>3.0</td>\n",
              "      <td>31.0</td>\n",
              "      <td>310620.0</td>\n",
              "      <td>J</td>\n",
              "      <td>6201501.0</td>\n",
              "      <td>1.0</td>\n",
              "      <td>212405.0</td>\n",
              "      <td>Empregado - Geral, inclusive o empregado públi...</td>\n",
              "      <td>9.0</td>\n",
              "      <td>34.0</td>\n",
              "      <td>40.0</td>\n",
              "      <td>1.0</td>\n",
              "      <td>1.0</td>\n",
              "      <td>0.0</td>\n",
              "      <td>1.0</td>\n",
              "      <td>20.0</td>\n",
              "      <td>0.0</td>\n",
              "      <td>0.0</td>\n",
              "      <td>0.0</td>\n",
              "      <td>10800.000000</td>\n",
              "      <td>9.0</td>\n",
              "      <td>0.0</td>\n",
              "      <td>1.0</td>\n",
              "    </tr>\n",
              "    <tr>\n",
              "      <th>2999997</th>\n",
              "      <td>202012</td>\n",
              "      <td>3.0</td>\n",
              "      <td>35.0</td>\n",
              "      <td>355030.0</td>\n",
              "      <td>N</td>\n",
              "      <td>7820500.0</td>\n",
              "      <td>-1.0</td>\n",
              "      <td>322205.0</td>\n",
              "      <td>Trabalhador temporário - Contrato nos termos d...</td>\n",
              "      <td>7.0</td>\n",
              "      <td>23.0</td>\n",
              "      <td>36.0</td>\n",
              "      <td>3.0</td>\n",
              "      <td>3.0</td>\n",
              "      <td>0.0</td>\n",
              "      <td>1.0</td>\n",
              "      <td>43.0</td>\n",
              "      <td>0.0</td>\n",
              "      <td>0.0</td>\n",
              "      <td>0.0</td>\n",
              "      <td>1740.560059</td>\n",
              "      <td>10.0</td>\n",
              "      <td>0.0</td>\n",
              "      <td>1.0</td>\n",
              "    </tr>\n",
              "    <tr>\n",
              "      <th>2999998</th>\n",
              "      <td>202012</td>\n",
              "      <td>4.0</td>\n",
              "      <td>42.0</td>\n",
              "      <td>420540.0</td>\n",
              "      <td>G</td>\n",
              "      <td>4711302.0</td>\n",
              "      <td>-1.0</td>\n",
              "      <td>517330.0</td>\n",
              "      <td>Empregado - Geral, inclusive o empregado públi...</td>\n",
              "      <td>7.0</td>\n",
              "      <td>47.0</td>\n",
              "      <td>44.0</td>\n",
              "      <td>3.0</td>\n",
              "      <td>1.0</td>\n",
              "      <td>0.0</td>\n",
              "      <td>1.0</td>\n",
              "      <td>40.0</td>\n",
              "      <td>0.0</td>\n",
              "      <td>0.0</td>\n",
              "      <td>0.0</td>\n",
              "      <td>1473.849976</td>\n",
              "      <td>7.0</td>\n",
              "      <td>0.0</td>\n",
              "      <td>1.0</td>\n",
              "    </tr>\n",
              "    <tr>\n",
              "      <th>2999999</th>\n",
              "      <td>202012</td>\n",
              "      <td>3.0</td>\n",
              "      <td>35.0</td>\n",
              "      <td>351870.0</td>\n",
              "      <td>G</td>\n",
              "      <td>4721104.0</td>\n",
              "      <td>-1.0</td>\n",
              "      <td>521110.0</td>\n",
              "      <td>Empregado - Geral, inclusive o empregado públi...</td>\n",
              "      <td>6.0</td>\n",
              "      <td>16.0</td>\n",
              "      <td>44.0</td>\n",
              "      <td>1.0</td>\n",
              "      <td>3.0</td>\n",
              "      <td>0.0</td>\n",
              "      <td>1.0</td>\n",
              "      <td>40.0</td>\n",
              "      <td>0.0</td>\n",
              "      <td>0.0</td>\n",
              "      <td>0.0</td>\n",
              "      <td>1056.569946</td>\n",
              "      <td>2.0</td>\n",
              "      <td>0.0</td>\n",
              "      <td>1.0</td>\n",
              "    </tr>\n",
              "  </tbody>\n",
              "</table>\n",
              "<p>2999975 rows × 24 columns</p>\n",
              "</div>"
            ],
            "text/plain": [
              "        competencia  regiao    uf  ...  tamestabjan indicadoraprendiz  fonte\n",
              "0            202003     3.0  31.0  ...          3.0               0.0    1.0\n",
              "1            202003     5.0  51.0  ...          7.0               0.0    1.0\n",
              "2            202003     2.0  26.0  ...          4.0               0.0    1.0\n",
              "3            202003     3.0  35.0  ...         10.0               0.0    1.0\n",
              "4            202003     3.0  35.0  ...         10.0               0.0    1.0\n",
              "...             ...     ...   ...  ...          ...               ...    ...\n",
              "2999995      202012     3.0  35.0  ...          4.0               0.0    1.0\n",
              "2999996      202012     3.0  31.0  ...          9.0               0.0    1.0\n",
              "2999997      202012     3.0  35.0  ...         10.0               0.0    1.0\n",
              "2999998      202012     4.0  42.0  ...          7.0               0.0    1.0\n",
              "2999999      202012     3.0  35.0  ...          2.0               0.0    1.0\n",
              "\n",
              "[2999975 rows x 24 columns]"
            ]
          },
          "metadata": {
            "tags": []
          }
        }
      ]
    },
    {
      "cell_type": "code",
      "metadata": {
        "id": "aEu869sKqURg"
      },
      "source": [
        "tpmv_troca = {31:'Demissão', 43:'Desconsiderar', 60:'Desconsiderar', 33:'Desconsiderar', 99:'Desconsiderar', 32:'Demissão', 40:'Demissão', 45:'Demissão', 50:'Demissão', 80:'Demissão', 90:'Demissão', 98:'Demissão', 10:'Admissão', 20:'Admissão', 25:'Admissão', 35:'Admissão', 70:'Admissão'}\n",
        " \n",
        "df.loc[(df.tipomovimentacao.isnull()), 'tipomovimentacao'] = 9\n",
        "df['tipomovimentacao'] = df['tipomovimentacao'].apply(lambda x: tpmv_troca[x])"
      ],
      "execution_count": null,
      "outputs": []
    },
    {
      "cell_type": "code",
      "metadata": {
        "colab": {
          "base_uri": "https://localhost:8080/"
        },
        "id": "DXSBpBYVqcMs",
        "outputId": "823db2d9-4f84-4ef6-df7f-4c4e9aed8aa8"
      },
      "source": [
        "df.groupby('tipomovimentacao').size()"
      ],
      "execution_count": null,
      "outputs": [
        {
          "output_type": "execute_result",
          "data": {
            "text/plain": [
              "tipomovimentacao\n",
              "Admissão         1470657\n",
              "Demissão         1274771\n",
              "Desconsiderar     254547\n",
              "dtype: int64"
            ]
          },
          "metadata": {
            "tags": []
          },
          "execution_count": 74
        }
      ]
    },
    {
      "cell_type": "code",
      "metadata": {
        "id": "cr-T2xkkRthj"
      },
      "source": [
        "#Gênero:"
      ],
      "execution_count": null,
      "outputs": []
    },
    {
      "cell_type": "code",
      "metadata": {
        "id": "GeM7AgL3U2HG"
      },
      "source": [
        "# filtrando por gênero \n",
        "\n",
        "tpmovsexo = df.filter(['sexo'])\n",
        "\n",
        "# remover a coluna que está 100% vazia\n",
        "df = df.dropna(how='all', axis=1)\n",
        "\n",
        "# remover a linha que tem um item vazio\n",
        "df = df.dropna()"
      ],
      "execution_count": null,
      "outputs": []
    },
    {
      "cell_type": "code",
      "metadata": {
        "id": "FeaiHyV6gQbr"
      },
      "source": [
        "sexo_troca = {1:'Homem', 3:'Mulher'}\n",
        "df.loc[(df.sexo.isnull()), 'sexo'] = 9\n",
        "df['sexo'] = df['sexo'].apply(lambda x: sexo_troca[x])"
      ],
      "execution_count": null,
      "outputs": []
    },
    {
      "cell_type": "code",
      "metadata": {
        "colab": {
          "base_uri": "https://localhost:8080/",
          "height": 68
        },
        "id": "46MsUZhIgSZJ",
        "outputId": "9304090e-3e12-4843-bd04-f1f4219cfcff"
      },
      "source": [
        "display(df['sexo'].value_counts())"
      ],
      "execution_count": null,
      "outputs": [
        {
          "output_type": "display_data",
          "data": {
            "text/plain": [
              "Homem     1869145\n",
              "Mulher    1130830\n",
              "Name: sexo, dtype: int64"
            ]
          },
          "metadata": {
            "tags": []
          }
        }
      ]
    },
    {
      "cell_type": "code",
      "metadata": {
        "colab": {
          "base_uri": "https://localhost:8080/",
          "height": 1000
        },
        "id": "E4F4cywPgUUV",
        "outputId": "cdf3041c-8a23-45f3-f786-f6f62200c4ee"
      },
      "source": [
        "display(df)"
      ],
      "execution_count": null,
      "outputs": [
        {
          "output_type": "display_data",
          "data": {
            "text/html": [
              "<div>\n",
              "<style scoped>\n",
              "    .dataframe tbody tr th:only-of-type {\n",
              "        vertical-align: middle;\n",
              "    }\n",
              "\n",
              "    .dataframe tbody tr th {\n",
              "        vertical-align: top;\n",
              "    }\n",
              "\n",
              "    .dataframe thead th {\n",
              "        text-align: right;\n",
              "    }\n",
              "</style>\n",
              "<table border=\"1\" class=\"dataframe\">\n",
              "  <thead>\n",
              "    <tr style=\"text-align: right;\">\n",
              "      <th></th>\n",
              "      <th>competencia</th>\n",
              "      <th>regiao</th>\n",
              "      <th>uf</th>\n",
              "      <th>municipio</th>\n",
              "      <th>secao</th>\n",
              "      <th>subclasse</th>\n",
              "      <th>saldomovimentacao</th>\n",
              "      <th>cbo2002ocupacao</th>\n",
              "      <th>categoria</th>\n",
              "      <th>graudeinstrucao</th>\n",
              "      <th>idade</th>\n",
              "      <th>horascontratuais</th>\n",
              "      <th>racacor</th>\n",
              "      <th>sexo</th>\n",
              "      <th>tipoempregador</th>\n",
              "      <th>tipoestabelecimento</th>\n",
              "      <th>tipomovimentacao</th>\n",
              "      <th>tipodedeficiencia</th>\n",
              "      <th>indtrabintermitente</th>\n",
              "      <th>indtrabparcial</th>\n",
              "      <th>salario</th>\n",
              "      <th>tamestabjan</th>\n",
              "      <th>indicadoraprendiz</th>\n",
              "      <th>fonte</th>\n",
              "    </tr>\n",
              "  </thead>\n",
              "  <tbody>\n",
              "    <tr>\n",
              "      <th>0</th>\n",
              "      <td>202003</td>\n",
              "      <td>3.0</td>\n",
              "      <td>31.0</td>\n",
              "      <td>317020.0</td>\n",
              "      <td>G</td>\n",
              "      <td>4752100.0</td>\n",
              "      <td>-1.0</td>\n",
              "      <td>521110.0</td>\n",
              "      <td>Não Identificado</td>\n",
              "      <td>7.0</td>\n",
              "      <td>21.0</td>\n",
              "      <td>44.0</td>\n",
              "      <td>6.0</td>\n",
              "      <td>Mulher</td>\n",
              "      <td>0.0</td>\n",
              "      <td>1.0</td>\n",
              "      <td>Demissão</td>\n",
              "      <td>0.0</td>\n",
              "      <td>0.0</td>\n",
              "      <td>0.0</td>\n",
              "      <td>1165.859985</td>\n",
              "      <td>3.0</td>\n",
              "      <td>0.0</td>\n",
              "      <td>1.0</td>\n",
              "    </tr>\n",
              "    <tr>\n",
              "      <th>1</th>\n",
              "      <td>202003</td>\n",
              "      <td>5.0</td>\n",
              "      <td>51.0</td>\n",
              "      <td>510795.0</td>\n",
              "      <td>G</td>\n",
              "      <td>4711301.0</td>\n",
              "      <td>-1.0</td>\n",
              "      <td>421125.0</td>\n",
              "      <td>Empregado - Geral, inclusive o empregado públi...</td>\n",
              "      <td>7.0</td>\n",
              "      <td>34.0</td>\n",
              "      <td>44.0</td>\n",
              "      <td>3.0</td>\n",
              "      <td>Mulher</td>\n",
              "      <td>0.0</td>\n",
              "      <td>1.0</td>\n",
              "      <td>Demissão</td>\n",
              "      <td>0.0</td>\n",
              "      <td>0.0</td>\n",
              "      <td>0.0</td>\n",
              "      <td>1020.000000</td>\n",
              "      <td>7.0</td>\n",
              "      <td>0.0</td>\n",
              "      <td>1.0</td>\n",
              "    </tr>\n",
              "    <tr>\n",
              "      <th>2</th>\n",
              "      <td>202003</td>\n",
              "      <td>2.0</td>\n",
              "      <td>26.0</td>\n",
              "      <td>260790.0</td>\n",
              "      <td>C</td>\n",
              "      <td>3292202.0</td>\n",
              "      <td>-1.0</td>\n",
              "      <td>862150.0</td>\n",
              "      <td>Empregado - Geral, inclusive o empregado públi...</td>\n",
              "      <td>7.0</td>\n",
              "      <td>37.0</td>\n",
              "      <td>44.0</td>\n",
              "      <td>6.0</td>\n",
              "      <td>Homem</td>\n",
              "      <td>0.0</td>\n",
              "      <td>1.0</td>\n",
              "      <td>Demissão</td>\n",
              "      <td>0.0</td>\n",
              "      <td>0.0</td>\n",
              "      <td>0.0</td>\n",
              "      <td>1200.000000</td>\n",
              "      <td>4.0</td>\n",
              "      <td>0.0</td>\n",
              "      <td>1.0</td>\n",
              "    </tr>\n",
              "    <tr>\n",
              "      <th>3</th>\n",
              "      <td>202003</td>\n",
              "      <td>3.0</td>\n",
              "      <td>35.0</td>\n",
              "      <td>355030.0</td>\n",
              "      <td>N</td>\n",
              "      <td>7820500.0</td>\n",
              "      <td>-1.0</td>\n",
              "      <td>422105.0</td>\n",
              "      <td>Trabalhador temporário - Contrato nos termos d...</td>\n",
              "      <td>7.0</td>\n",
              "      <td>20.0</td>\n",
              "      <td>44.0</td>\n",
              "      <td>1.0</td>\n",
              "      <td>Mulher</td>\n",
              "      <td>0.0</td>\n",
              "      <td>1.0</td>\n",
              "      <td>Desconsiderar</td>\n",
              "      <td>0.0</td>\n",
              "      <td>0.0</td>\n",
              "      <td>0.0</td>\n",
              "      <td>1396.000000</td>\n",
              "      <td>10.0</td>\n",
              "      <td>0.0</td>\n",
              "      <td>1.0</td>\n",
              "    </tr>\n",
              "    <tr>\n",
              "      <th>4</th>\n",
              "      <td>202003</td>\n",
              "      <td>3.0</td>\n",
              "      <td>35.0</td>\n",
              "      <td>355030.0</td>\n",
              "      <td>R</td>\n",
              "      <td>9312300.0</td>\n",
              "      <td>-1.0</td>\n",
              "      <td>517330.0</td>\n",
              "      <td>Empregado - Geral, inclusive o empregado públi...</td>\n",
              "      <td>7.0</td>\n",
              "      <td>36.0</td>\n",
              "      <td>44.0</td>\n",
              "      <td>2.0</td>\n",
              "      <td>Homem</td>\n",
              "      <td>0.0</td>\n",
              "      <td>1.0</td>\n",
              "      <td>Demissão</td>\n",
              "      <td>0.0</td>\n",
              "      <td>0.0</td>\n",
              "      <td>0.0</td>\n",
              "      <td>2474.189941</td>\n",
              "      <td>10.0</td>\n",
              "      <td>0.0</td>\n",
              "      <td>1.0</td>\n",
              "    </tr>\n",
              "    <tr>\n",
              "      <th>...</th>\n",
              "      <td>...</td>\n",
              "      <td>...</td>\n",
              "      <td>...</td>\n",
              "      <td>...</td>\n",
              "      <td>...</td>\n",
              "      <td>...</td>\n",
              "      <td>...</td>\n",
              "      <td>...</td>\n",
              "      <td>...</td>\n",
              "      <td>...</td>\n",
              "      <td>...</td>\n",
              "      <td>...</td>\n",
              "      <td>...</td>\n",
              "      <td>...</td>\n",
              "      <td>...</td>\n",
              "      <td>...</td>\n",
              "      <td>...</td>\n",
              "      <td>...</td>\n",
              "      <td>...</td>\n",
              "      <td>...</td>\n",
              "      <td>...</td>\n",
              "      <td>...</td>\n",
              "      <td>...</td>\n",
              "      <td>...</td>\n",
              "    </tr>\n",
              "    <tr>\n",
              "      <th>2999995</th>\n",
              "      <td>202012</td>\n",
              "      <td>3.0</td>\n",
              "      <td>35.0</td>\n",
              "      <td>354990.0</td>\n",
              "      <td>G</td>\n",
              "      <td>4724500.0</td>\n",
              "      <td>1.0</td>\n",
              "      <td>521125.0</td>\n",
              "      <td>Empregado - Geral, inclusive o empregado públi...</td>\n",
              "      <td>7.0</td>\n",
              "      <td>24.0</td>\n",
              "      <td>44.0</td>\n",
              "      <td>1.0</td>\n",
              "      <td>Homem</td>\n",
              "      <td>0.0</td>\n",
              "      <td>1.0</td>\n",
              "      <td>Admissão</td>\n",
              "      <td>0.0</td>\n",
              "      <td>0.0</td>\n",
              "      <td>0.0</td>\n",
              "      <td>1376.000000</td>\n",
              "      <td>4.0</td>\n",
              "      <td>0.0</td>\n",
              "      <td>1.0</td>\n",
              "    </tr>\n",
              "    <tr>\n",
              "      <th>2999996</th>\n",
              "      <td>202012</td>\n",
              "      <td>3.0</td>\n",
              "      <td>31.0</td>\n",
              "      <td>310620.0</td>\n",
              "      <td>J</td>\n",
              "      <td>6201501.0</td>\n",
              "      <td>1.0</td>\n",
              "      <td>212405.0</td>\n",
              "      <td>Empregado - Geral, inclusive o empregado públi...</td>\n",
              "      <td>9.0</td>\n",
              "      <td>34.0</td>\n",
              "      <td>40.0</td>\n",
              "      <td>1.0</td>\n",
              "      <td>Homem</td>\n",
              "      <td>0.0</td>\n",
              "      <td>1.0</td>\n",
              "      <td>Admissão</td>\n",
              "      <td>0.0</td>\n",
              "      <td>0.0</td>\n",
              "      <td>0.0</td>\n",
              "      <td>10800.000000</td>\n",
              "      <td>9.0</td>\n",
              "      <td>0.0</td>\n",
              "      <td>1.0</td>\n",
              "    </tr>\n",
              "    <tr>\n",
              "      <th>2999997</th>\n",
              "      <td>202012</td>\n",
              "      <td>3.0</td>\n",
              "      <td>35.0</td>\n",
              "      <td>355030.0</td>\n",
              "      <td>N</td>\n",
              "      <td>7820500.0</td>\n",
              "      <td>-1.0</td>\n",
              "      <td>322205.0</td>\n",
              "      <td>Trabalhador temporário - Contrato nos termos d...</td>\n",
              "      <td>7.0</td>\n",
              "      <td>23.0</td>\n",
              "      <td>36.0</td>\n",
              "      <td>3.0</td>\n",
              "      <td>Mulher</td>\n",
              "      <td>0.0</td>\n",
              "      <td>1.0</td>\n",
              "      <td>Desconsiderar</td>\n",
              "      <td>0.0</td>\n",
              "      <td>0.0</td>\n",
              "      <td>0.0</td>\n",
              "      <td>1740.560059</td>\n",
              "      <td>10.0</td>\n",
              "      <td>0.0</td>\n",
              "      <td>1.0</td>\n",
              "    </tr>\n",
              "    <tr>\n",
              "      <th>2999998</th>\n",
              "      <td>202012</td>\n",
              "      <td>4.0</td>\n",
              "      <td>42.0</td>\n",
              "      <td>420540.0</td>\n",
              "      <td>G</td>\n",
              "      <td>4711302.0</td>\n",
              "      <td>-1.0</td>\n",
              "      <td>517330.0</td>\n",
              "      <td>Empregado - Geral, inclusive o empregado públi...</td>\n",
              "      <td>7.0</td>\n",
              "      <td>47.0</td>\n",
              "      <td>44.0</td>\n",
              "      <td>3.0</td>\n",
              "      <td>Homem</td>\n",
              "      <td>0.0</td>\n",
              "      <td>1.0</td>\n",
              "      <td>Demissão</td>\n",
              "      <td>0.0</td>\n",
              "      <td>0.0</td>\n",
              "      <td>0.0</td>\n",
              "      <td>1473.849976</td>\n",
              "      <td>7.0</td>\n",
              "      <td>0.0</td>\n",
              "      <td>1.0</td>\n",
              "    </tr>\n",
              "    <tr>\n",
              "      <th>2999999</th>\n",
              "      <td>202012</td>\n",
              "      <td>3.0</td>\n",
              "      <td>35.0</td>\n",
              "      <td>351870.0</td>\n",
              "      <td>G</td>\n",
              "      <td>4721104.0</td>\n",
              "      <td>-1.0</td>\n",
              "      <td>521110.0</td>\n",
              "      <td>Empregado - Geral, inclusive o empregado públi...</td>\n",
              "      <td>6.0</td>\n",
              "      <td>16.0</td>\n",
              "      <td>44.0</td>\n",
              "      <td>1.0</td>\n",
              "      <td>Mulher</td>\n",
              "      <td>0.0</td>\n",
              "      <td>1.0</td>\n",
              "      <td>Demissão</td>\n",
              "      <td>0.0</td>\n",
              "      <td>0.0</td>\n",
              "      <td>0.0</td>\n",
              "      <td>1056.569946</td>\n",
              "      <td>2.0</td>\n",
              "      <td>0.0</td>\n",
              "      <td>1.0</td>\n",
              "    </tr>\n",
              "  </tbody>\n",
              "</table>\n",
              "<p>2999975 rows × 24 columns</p>\n",
              "</div>"
            ],
            "text/plain": [
              "        competencia  regiao    uf  ...  tamestabjan indicadoraprendiz  fonte\n",
              "0            202003     3.0  31.0  ...          3.0               0.0    1.0\n",
              "1            202003     5.0  51.0  ...          7.0               0.0    1.0\n",
              "2            202003     2.0  26.0  ...          4.0               0.0    1.0\n",
              "3            202003     3.0  35.0  ...         10.0               0.0    1.0\n",
              "4            202003     3.0  35.0  ...         10.0               0.0    1.0\n",
              "...             ...     ...   ...  ...          ...               ...    ...\n",
              "2999995      202012     3.0  35.0  ...          4.0               0.0    1.0\n",
              "2999996      202012     3.0  31.0  ...          9.0               0.0    1.0\n",
              "2999997      202012     3.0  35.0  ...         10.0               0.0    1.0\n",
              "2999998      202012     4.0  42.0  ...          7.0               0.0    1.0\n",
              "2999999      202012     3.0  35.0  ...          2.0               0.0    1.0\n",
              "\n",
              "[2999975 rows x 24 columns]"
            ]
          },
          "metadata": {
            "tags": []
          }
        }
      ]
    },
    {
      "cell_type": "code",
      "metadata": {
        "id": "4d0ORFeBbL5V"
      },
      "source": [
        "plt.style.use(\"Solarize_Light2\")"
      ],
      "execution_count": null,
      "outputs": []
    },
    {
      "cell_type": "code",
      "metadata": {
        "colab": {
          "base_uri": "https://localhost:8080/",
          "height": 467
        },
        "id": "BTa6AeBBE2Cm",
        "outputId": "1338418d-3e65-470a-b0ad-e81e370fb79e"
      },
      "source": [
        "Homem = df.query('sexo == \"Homem\"').groupby('tipomovimentacao').size().sort_values().tail(2)\n",
        "Mulher = df.query('sexo == \"Mulher\"').groupby('tipomovimentacao').size().sort_values().tail(2)\n",
        "n_homem = dict(Homem)\n",
        "n_mulher = dict(Mulher)\n",
        "\n",
        "dados = {}\n",
        "\n",
        "tipomovimentacao = list(n_mulher.keys()) + list(n_homem.keys())\n",
        "tipomovimentacao = list(dict.fromkeys(tipomovimentacao))\n",
        "dados_grafico = {'tipomovimentacao': [], 'Mulher': [], 'Homem': []}\n",
        "for tipomovimentacao in tipomovimentacao :\n",
        "    if(tipomovimentacao in n_mulher.keys() and tipomovimentacao in n_homem.keys()):\n",
        "        dados_grafico['tipomovimentacao'].append(tipomovimentacao)\n",
        "        dados_grafico['Homem'].append(n_homem[tipomovimentacao])\n",
        "        dados_grafico['Mulher'].append(n_mulher[tipomovimentacao])\n",
        "        \n",
        "        \n",
        "labels = dados_grafico['tipomovimentacao']\n",
        "Homem = dados_grafico['Homem']\n",
        "Mulher = dados_grafico['Mulher']\n",
        "\n",
        "x = np.arange(len(labels)) \n",
        "width = 0.20\n",
        "\n",
        "fig, ax = plt.subplots(1,1,figsize=(10,7))\n",
        "rects1 = ax.bar(x + width/1.80, Homem, width, label='Homem', color='#217DCF')\n",
        "rects2 = ax.bar(x - width/1.80, Mulher, width, label='Mulher', color = '#E04B4B')\n",
        "\n",
        "plt.xlabel('Tipo de Movimentação',color ='#2C79A0', fontsize=14, ha='center')\n",
        "plt.figtext(.090,.85,'Gênero',color ='k', fontsize=11, ha='center')\n",
        "ax.set_title('Admissões e Demissões por sexo', fontsize=20,color ='#2C79A0')\n",
        "ax.set_xticks(x)\n",
        "ax.set_xticklabels(labels)\n",
        "plt.legend(loc=2,prop={'size':13})\n",
        "plt.style.use(\"bmh\")\n",
        "def autolabel(rects):\n",
        "    for rect in rects:\n",
        "        height = rect.get_height()\n",
        "        ax.annotate('{}'.format(height),\n",
        "                    xy=(rect.get_x() + rect.get_width() / 2, height),\n",
        "                    xytext=(0, 3),\n",
        "                    textcoords=\"offset points\",\n",
        "                    ha='center', va='bottom')\n",
        "\n",
        " \n",
        "\n",
        "\n",
        "autolabel(rects1)\n",
        "autolabel(rects2)\n",
        "plt.show()"
      ],
      "execution_count": null,
      "outputs": [
        {
          "output_type": "display_data",
          "data": {
            "image/png": "[encoded data removed]",
            "text/plain": [
              "<Figure size 720x504 with 1 Axes>"
            ]
          },
          "metadata": {
            "tags": []
          }
        }
      ]
    },
    {
      "cell_type": "code",
      "metadata": {
        "id": "C3dBM3ieUuNQ"
      },
      "source": [
        "#Classe social"
      ],
      "execution_count": null,
      "outputs": []
    },
    {
      "cell_type": "code",
      "metadata": {
        "id": "GWjjON5lUuTt"
      },
      "source": [
        "def classeSocial(x):\n",
        "        if x<2091:\n",
        "            return 'Classe E'\n",
        "        elif x<4181:\n",
        "            return 'Classe D'\n",
        "        elif x<10451:\n",
        "            return 'Classe C'\n",
        "        elif x<20901:\n",
        "            return 'Classe B'\n",
        "        else:\n",
        "            return 'Classe A'\n",
        "\n"
      ],
      "execution_count": null,
      "outputs": []
    },
    {
      "cell_type": "code",
      "metadata": {
        "id": "JwZkWXoZgij4",
        "colab": {
          "base_uri": "https://localhost:8080/"
        },
        "outputId": "11458cf7-933b-48cc-9d57-c9414eccdcbb"
      },
      "source": [
        "df['classesocial'] = df['salario'].apply(lambda x: classeSocial(float(x)))\n",
        "df.groupby('classesocial').size()\n"
      ],
      "execution_count": null,
      "outputs": [
        {
          "output_type": "execute_result",
          "data": {
            "text/plain": [
              "classesocial\n",
              "Classe A      11184\n",
              "Classe B      14903\n",
              "Classe C      86526\n",
              "Classe D     293280\n",
              "Classe E    2594082\n",
              "dtype: int64"
            ]
          },
          "metadata": {
            "tags": []
          },
          "execution_count": 84
        }
      ]
    },
    {
      "cell_type": "code",
      "metadata": {
        "id": "0yDRWqeygmfw",
        "colab": {
          "base_uri": "https://localhost:8080/",
          "height": 419
        },
        "outputId": "d64ee250-728d-42f9-a5d4-b7fa745b1a08"
      },
      "source": [
        "filtro = df.filter(['tipomovimentacao','classesocial'])\n",
        "df = df.dropna(how='all', axis=1)\n",
        "df = df.dropna()\n",
        "display(filtro)"
      ],
      "execution_count": null,
      "outputs": [
        {
          "output_type": "display_data",
          "data": {
            "text/html": [
              "<div>\n",
              "<style scoped>\n",
              "    .dataframe tbody tr th:only-of-type {\n",
              "        vertical-align: middle;\n",
              "    }\n",
              "\n",
              "    .dataframe tbody tr th {\n",
              "        vertical-align: top;\n",
              "    }\n",
              "\n",
              "    .dataframe thead th {\n",
              "        text-align: right;\n",
              "    }\n",
              "</style>\n",
              "<table border=\"1\" class=\"dataframe\">\n",
              "  <thead>\n",
              "    <tr style=\"text-align: right;\">\n",
              "      <th></th>\n",
              "      <th>tipomovimentacao</th>\n",
              "      <th>classesocial</th>\n",
              "    </tr>\n",
              "  </thead>\n",
              "  <tbody>\n",
              "    <tr>\n",
              "      <th>0</th>\n",
              "      <td>Demissão</td>\n",
              "      <td>Classe E</td>\n",
              "    </tr>\n",
              "    <tr>\n",
              "      <th>1</th>\n",
              "      <td>Demissão</td>\n",
              "      <td>Classe E</td>\n",
              "    </tr>\n",
              "    <tr>\n",
              "      <th>2</th>\n",
              "      <td>Demissão</td>\n",
              "      <td>Classe E</td>\n",
              "    </tr>\n",
              "    <tr>\n",
              "      <th>3</th>\n",
              "      <td>Desconsiderar</td>\n",
              "      <td>Classe E</td>\n",
              "    </tr>\n",
              "    <tr>\n",
              "      <th>4</th>\n",
              "      <td>Demissão</td>\n",
              "      <td>Classe D</td>\n",
              "    </tr>\n",
              "    <tr>\n",
              "      <th>...</th>\n",
              "      <td>...</td>\n",
              "      <td>...</td>\n",
              "    </tr>\n",
              "    <tr>\n",
              "      <th>2999995</th>\n",
              "      <td>Admissão</td>\n",
              "      <td>Classe E</td>\n",
              "    </tr>\n",
              "    <tr>\n",
              "      <th>2999996</th>\n",
              "      <td>Admissão</td>\n",
              "      <td>Classe B</td>\n",
              "    </tr>\n",
              "    <tr>\n",
              "      <th>2999997</th>\n",
              "      <td>Desconsiderar</td>\n",
              "      <td>Classe E</td>\n",
              "    </tr>\n",
              "    <tr>\n",
              "      <th>2999998</th>\n",
              "      <td>Demissão</td>\n",
              "      <td>Classe E</td>\n",
              "    </tr>\n",
              "    <tr>\n",
              "      <th>2999999</th>\n",
              "      <td>Demissão</td>\n",
              "      <td>Classe E</td>\n",
              "    </tr>\n",
              "  </tbody>\n",
              "</table>\n",
              "<p>2999975 rows × 2 columns</p>\n",
              "</div>"
            ],
            "text/plain": [
              "        tipomovimentacao classesocial\n",
              "0               Demissão     Classe E\n",
              "1               Demissão     Classe E\n",
              "2               Demissão     Classe E\n",
              "3          Desconsiderar     Classe E\n",
              "4               Demissão     Classe D\n",
              "...                  ...          ...\n",
              "2999995         Admissão     Classe E\n",
              "2999996         Admissão     Classe B\n",
              "2999997    Desconsiderar     Classe E\n",
              "2999998         Demissão     Classe E\n",
              "2999999         Demissão     Classe E\n",
              "\n",
              "[2999975 rows x 2 columns]"
            ]
          },
          "metadata": {
            "tags": []
          }
        }
      ]
    },
    {
      "cell_type": "code",
      "metadata": {
        "id": "oHZlQJg2goRC"
      },
      "source": [
        "plt.style.use(\"Solarize_Light2\")"
      ],
      "execution_count": null,
      "outputs": []
    },
    {
      "cell_type": "code",
      "metadata": {
        "colab": {
          "base_uri": "https://localhost:8080/",
          "height": 522
        },
        "id": "Yc1Ez6DNEXxX",
        "outputId": "21ebfe77-f916-420c-a806-dbf3efd6b099"
      },
      "source": [
        "demissao = df.query('tipomovimentacao == \"Demissão\"').groupby('classesocial').size().sort_values().tail(5)\n",
        "admissao = df.query('tipomovimentacao == \"Admissão\"').groupby('classesocial').size().sort_values().tail(5)\n",
        "\n",
        "n_demissao = dict(demissao)\n",
        "n_admissao = dict(admissao)\n",
        "\n",
        "dados = {}\n",
        "\n",
        "social = list(n_demissao.keys()) + list(n_admissao.keys())\n",
        "social = list(dict.fromkeys(social))\n",
        "\n",
        "dados_grafico = {'social': [], 'demissao': [], 'admissao': []}\n",
        "\n",
        "for social in social :\n",
        "    if(social in n_demissao.keys()):        \n",
        "        dados_grafico['social'].append(social)\n",
        "        dados_grafico['demissao'].append(n_demissao[social])\n",
        "        dados_grafico['admissao'].append(n_admissao[social])\n",
        "      \n",
        "        \n",
        "labels = dados_grafico['social']\n",
        "demissao = dados_grafico['demissao']\n",
        "admissao = dados_grafico['admissao']\n",
        "\n",
        "\n",
        "x = np.arange(len(labels)) \n",
        "width = 0.35\n",
        "\n",
        "fig, ax = plt.subplots(1,1,figsize=(11,8))\n",
        "rects1 = ax.bar(x - width/1.80, admissao, width, label='Empregadas', color= '#FF6347')\n",
        "rects2 = ax.bar(x + width/1.80, demissao, width, label='Desempregadas', color='#F4D03F')\n",
        "\n",
        "\n",
        "plt.xlabel('Tipo de Movimentação',color ='#FF6347', fontsize=14, ha='center')\n",
        "plt.figtext(.075,.85,'Classe Social',color ='k', fontsize=11, ha='center')\n",
        "ax.set_title('Admissões e Demissões por Classe Social', fontsize=20,color ='#FF6347')\n",
        "\n",
        "ax.set_xticks(x)\n",
        "ax.set_xticklabels(labels)\n",
        "plt.legend(loc=2,prop={'size':13})\n",
        "plt.style.use(\"bmh\")\n",
        "def autolabel(rects):\n",
        "    for rect in rects:\n",
        "        height = rect.get_height()\n",
        "        ax.annotate('{}'.format(height),\n",
        "                    xy=(rect.get_x() + rect.get_width() / 2, height),\n",
        "                    xytext=(0, 5),\n",
        "                    textcoords=\"offset points\",\n",
        "                    ha='center', va='bottom')\n",
        "\n",
        "\n",
        "autolabel(rects1)\n",
        "autolabel(rects2)\n",
        "plt.show()"
      ],
      "execution_count": null,
      "outputs": [
        {
          "output_type": "display_data",
          "data": {
            "image/png": "[encoded data removed]",
            "text/plain": [
              "<Figure size 792x576 with 1 Axes>"
            ]
          },
          "metadata": {
            "tags": []
          }
        }
      ]
    },
    {
      "cell_type": "code",
      "metadata": {
        "id": "C9V0jY31UuWV"
      },
      "source": [
        "#Faixa Etária"
      ],
      "execution_count": null,
      "outputs": []
    },
    {
      "cell_type": "code",
      "metadata": {
        "colab": {
          "base_uri": "https://localhost:8080/",
          "height": 419
        },
        "id": "ZYPrn0wVUuZO",
        "outputId": "e140985f-480b-4373-edf3-de734d87b3fd"
      },
      "source": [
        "# filtrando por idade \n",
        "\n",
        "tpmovidade = df.filter(['idade'])\n",
        "\n",
        "# remover a coluna que está 100% vazia\n",
        "df = df.dropna(how='all', axis=1)\n",
        "\n",
        "# remover a linha que tem um item vazio\n",
        "df = df.dropna()\n",
        "display(tpmovidade)"
      ],
      "execution_count": null,
      "outputs": [
        {
          "output_type": "display_data",
          "data": {
            "text/html": [
              "<div>\n",
              "<style scoped>\n",
              "    .dataframe tbody tr th:only-of-type {\n",
              "        vertical-align: middle;\n",
              "    }\n",
              "\n",
              "    .dataframe tbody tr th {\n",
              "        vertical-align: top;\n",
              "    }\n",
              "\n",
              "    .dataframe thead th {\n",
              "        text-align: right;\n",
              "    }\n",
              "</style>\n",
              "<table border=\"1\" class=\"dataframe\">\n",
              "  <thead>\n",
              "    <tr style=\"text-align: right;\">\n",
              "      <th></th>\n",
              "      <th>idade</th>\n",
              "    </tr>\n",
              "  </thead>\n",
              "  <tbody>\n",
              "    <tr>\n",
              "      <th>0</th>\n",
              "      <td>21.0</td>\n",
              "    </tr>\n",
              "    <tr>\n",
              "      <th>1</th>\n",
              "      <td>34.0</td>\n",
              "    </tr>\n",
              "    <tr>\n",
              "      <th>2</th>\n",
              "      <td>37.0</td>\n",
              "    </tr>\n",
              "    <tr>\n",
              "      <th>3</th>\n",
              "      <td>20.0</td>\n",
              "    </tr>\n",
              "    <tr>\n",
              "      <th>4</th>\n",
              "      <td>36.0</td>\n",
              "    </tr>\n",
              "    <tr>\n",
              "      <th>...</th>\n",
              "      <td>...</td>\n",
              "    </tr>\n",
              "    <tr>\n",
              "      <th>2999995</th>\n",
              "      <td>24.0</td>\n",
              "    </tr>\n",
              "    <tr>\n",
              "      <th>2999996</th>\n",
              "      <td>34.0</td>\n",
              "    </tr>\n",
              "    <tr>\n",
              "      <th>2999997</th>\n",
              "      <td>23.0</td>\n",
              "    </tr>\n",
              "    <tr>\n",
              "      <th>2999998</th>\n",
              "      <td>47.0</td>\n",
              "    </tr>\n",
              "    <tr>\n",
              "      <th>2999999</th>\n",
              "      <td>16.0</td>\n",
              "    </tr>\n",
              "  </tbody>\n",
              "</table>\n",
              "<p>2999975 rows × 1 columns</p>\n",
              "</div>"
            ],
            "text/plain": [
              "         idade\n",
              "0         21.0\n",
              "1         34.0\n",
              "2         37.0\n",
              "3         20.0\n",
              "4         36.0\n",
              "...        ...\n",
              "2999995   24.0\n",
              "2999996   34.0\n",
              "2999997   23.0\n",
              "2999998   47.0\n",
              "2999999   16.0\n",
              "\n",
              "[2999975 rows x 1 columns]"
            ]
          },
          "metadata": {
            "tags": []
          }
        }
      ]
    },
    {
      "cell_type": "code",
      "metadata": {
        "id": "j63XZbCniVY3",
        "colab": {
          "base_uri": "https://localhost:8080/",
          "height": 221
        },
        "outputId": "3425505f-90cd-48b6-e22d-1ac8c3363f09"
      },
      "source": [
        "display(df['idade'].value_counts())"
      ],
      "execution_count": null,
      "outputs": [
        {
          "output_type": "display_data",
          "data": {
            "text/plain": [
              "22.0    120454\n",
              "20.0    119778\n",
              "23.0    118989\n",
              "24.0    118446\n",
              "21.0    117333\n",
              "         ...  \n",
              "93.0         3\n",
              "92.0         2\n",
              "95.0         2\n",
              "97.0         2\n",
              "94.0         1\n",
              "Name: idade, Length: 84, dtype: int64"
            ]
          },
          "metadata": {
            "tags": []
          }
        }
      ]
    },
    {
      "cell_type": "code",
      "metadata": {
        "colab": {
          "base_uri": "https://localhost:8080/",
          "height": 419
        },
        "id": "zgYO76LzjzfJ",
        "outputId": "fd6d2224-745e-47ee-b9d8-9ea53a8c1ab3"
      },
      "source": [
        "filtro = df.filter(['tipomovimentacao','idade'])\n",
        "df = df.dropna(how='all', axis=1)\n",
        "df = df.dropna()\n",
        "display(filtro)"
      ],
      "execution_count": null,
      "outputs": [
        {
          "output_type": "display_data",
          "data": {
            "text/html": [
              "<div>\n",
              "<style scoped>\n",
              "    .dataframe tbody tr th:only-of-type {\n",
              "        vertical-align: middle;\n",
              "    }\n",
              "\n",
              "    .dataframe tbody tr th {\n",
              "        vertical-align: top;\n",
              "    }\n",
              "\n",
              "    .dataframe thead th {\n",
              "        text-align: right;\n",
              "    }\n",
              "</style>\n",
              "<table border=\"1\" class=\"dataframe\">\n",
              "  <thead>\n",
              "    <tr style=\"text-align: right;\">\n",
              "      <th></th>\n",
              "      <th>tipomovimentacao</th>\n",
              "      <th>idade</th>\n",
              "    </tr>\n",
              "  </thead>\n",
              "  <tbody>\n",
              "    <tr>\n",
              "      <th>0</th>\n",
              "      <td>Demissão</td>\n",
              "      <td>21.0</td>\n",
              "    </tr>\n",
              "    <tr>\n",
              "      <th>1</th>\n",
              "      <td>Demissão</td>\n",
              "      <td>34.0</td>\n",
              "    </tr>\n",
              "    <tr>\n",
              "      <th>2</th>\n",
              "      <td>Demissão</td>\n",
              "      <td>37.0</td>\n",
              "    </tr>\n",
              "    <tr>\n",
              "      <th>3</th>\n",
              "      <td>Desconsiderar</td>\n",
              "      <td>20.0</td>\n",
              "    </tr>\n",
              "    <tr>\n",
              "      <th>4</th>\n",
              "      <td>Demissão</td>\n",
              "      <td>36.0</td>\n",
              "    </tr>\n",
              "    <tr>\n",
              "      <th>...</th>\n",
              "      <td>...</td>\n",
              "      <td>...</td>\n",
              "    </tr>\n",
              "    <tr>\n",
              "      <th>2999995</th>\n",
              "      <td>Admissão</td>\n",
              "      <td>24.0</td>\n",
              "    </tr>\n",
              "    <tr>\n",
              "      <th>2999996</th>\n",
              "      <td>Admissão</td>\n",
              "      <td>34.0</td>\n",
              "    </tr>\n",
              "    <tr>\n",
              "      <th>2999997</th>\n",
              "      <td>Desconsiderar</td>\n",
              "      <td>23.0</td>\n",
              "    </tr>\n",
              "    <tr>\n",
              "      <th>2999998</th>\n",
              "      <td>Demissão</td>\n",
              "      <td>47.0</td>\n",
              "    </tr>\n",
              "    <tr>\n",
              "      <th>2999999</th>\n",
              "      <td>Demissão</td>\n",
              "      <td>16.0</td>\n",
              "    </tr>\n",
              "  </tbody>\n",
              "</table>\n",
              "<p>2999975 rows × 2 columns</p>\n",
              "</div>"
            ],
            "text/plain": [
              "        tipomovimentacao  idade\n",
              "0               Demissão   21.0\n",
              "1               Demissão   34.0\n",
              "2               Demissão   37.0\n",
              "3          Desconsiderar   20.0\n",
              "4               Demissão   36.0\n",
              "...                  ...    ...\n",
              "2999995         Admissão   24.0\n",
              "2999996         Admissão   34.0\n",
              "2999997    Desconsiderar   23.0\n",
              "2999998         Demissão   47.0\n",
              "2999999         Demissão   16.0\n",
              "\n",
              "[2999975 rows x 2 columns]"
            ]
          },
          "metadata": {
            "tags": []
          }
        }
      ]
    },
    {
      "cell_type": "code",
      "metadata": {
        "id": "gPL0n8RiJSEi"
      },
      "source": [
        "def faixaEtaria(x):\n",
        "        if x<20:\n",
        "            return 'Jovens de até 19 anos'\n",
        "        elif x<30:\n",
        "            return '20 a 30 anos'\n",
        "        elif x<40:\n",
        "            return '30 a 40 anos'\n",
        "        elif x<50:\n",
        "            return '40 a 50 anos'\n",
        "        elif x<60:\n",
        "            return '50 a 60 anos'\n",
        "        else:\n",
        "            return 'Idosos'"
      ],
      "execution_count": null,
      "outputs": []
    },
    {
      "cell_type": "code",
      "metadata": {
        "id": "D9rcBTDSlQ-L"
      },
      "source": [
        "df['faixaEtaria'] = df['idade'].apply(lambda x: faixaEtaria(float(x)))"
      ],
      "execution_count": null,
      "outputs": []
    },
    {
      "cell_type": "code",
      "metadata": {
        "colab": {
          "base_uri": "https://localhost:8080/",
          "height": 520
        },
        "id": "5fvXlpknlUVc",
        "outputId": "65c4573b-7e66-47f3-afa8-d1ab6e87147a"
      },
      "source": [
        "demissao = df.query('tipomovimentacao == \"Demissão\"').groupby('faixaEtaria').size().sort_values().tail(6)\n",
        "#.plot(kind='barh')\n",
        "admissao = df.query('tipomovimentacao == \"Admissão\"').groupby('faixaEtaria').size().sort_values().tail(6)\n",
        "#.plot(kind='barh')\n",
        "\n",
        "n_demissao = dict(demissao)\n",
        "n_admissao = dict(admissao)\n",
        "\n",
        "dados = {}\n",
        "\n",
        "faixaEtaria = list(n_demissao.keys()) + list(n_admissao.keys())\n",
        "faixaEtaria = list(dict.fromkeys(faixaEtaria))\n",
        "\n",
        "dados_grafico = {'faixaEtaria': [], 'demissao': [], 'admissao': []}\n",
        "\n",
        "for faixaEtaria in faixaEtaria :\n",
        "    if(faixaEtaria in n_demissao.keys()):        \n",
        "        dados_grafico['faixaEtaria'].append(faixaEtaria)\n",
        "        dados_grafico['demissao'].append(n_demissao[faixaEtaria])\n",
        "        dados_grafico['admissao'].append(n_admissao[faixaEtaria])\n",
        "      \n",
        "        \n",
        "labels = dados_grafico['faixaEtaria']\n",
        "demissao = dados_grafico['demissao']\n",
        "admissao = dados_grafico['admissao']\n",
        "\n",
        "\n",
        "x = np.arange(len(labels)) \n",
        "width = 0.35\n",
        "\n",
        "fig, ax = plt.subplots(1,1,figsize=(15,8))\n",
        "rects1 = ax.bar(x - width/1.80, admissao, width, label='Empregadas', color= '#6A5ACD')\n",
        "rects2 = ax.bar(x + width/1.80, demissao, width, label='Desempregadas', color='#FF00FF')\n",
        "\n",
        "\n",
        "plt.xlabel('Tipo de Movimentação',color ='#9932CC', fontsize=14, ha='center')\n",
        "ax.set_title('Admissões e Demissões por Faixa Etária', fontsize=20,color ='#9932CC')\n",
        "\n",
        "ax.set_xticks(x)\n",
        "ax.set_xticklabels(labels)\n",
        "plt.legend(loc=2,prop={'size':13})\n",
        "plt.style.use(\"bmh\")\n",
        "def autolabel(rects):\n",
        "    for rect in rects:\n",
        "        height = rect.get_height()\n",
        "        ax.annotate('{}'.format(height),\n",
        "                    xy=(rect.get_x() + rect.get_width() / 2, height),\n",
        "                    xytext=(0, 5),\n",
        "                    textcoords=\"offset points\",\n",
        "                    ha='center', va='bottom')\n",
        "\n",
        "\n",
        "autolabel(rects1)\n",
        "autolabel(rects2)\n",
        "plt.show()"
      ],
      "execution_count": null,
      "outputs": [
        {
          "output_type": "display_data",
          "data": {
            "image/png": "[encoded data removed]",
            "text/plain": [
              "<Figure size 1080x576 with 1 Axes>"
            ]
          },
          "metadata": {
            "tags": []
          }
        }
      ]
    },
    {
      "cell_type": "code",
      "metadata": {
        "id": "ffwcAQj0U53A"
      },
      "source": [
        "# Nível de escolaridade"
      ],
      "execution_count": null,
      "outputs": []
    },
    {
      "cell_type": "code",
      "metadata": {
        "colab": {
          "base_uri": "https://localhost:8080/",
          "height": 419
        },
        "id": "qyRalABZU8g-",
        "outputId": "d7adf2b3-7fe7-4e67-8fb9-a0e316f7f8ce"
      },
      "source": [
        "# filtrando por graudeinstrução\n",
        "\n",
        "tpmovgraudeinstrucao = df.filter(['graudeinstrucao'])\n",
        "\n",
        "# remover a coluna que está 100% vazia\n",
        "df = df.dropna(how='all', axis=1)\n",
        "\n",
        "# remover a linha que tem um item vazio\n",
        "df = df.dropna()\n",
        "display(tpmovgraudeinstrucao)"
      ],
      "execution_count": null,
      "outputs": [
        {
          "output_type": "display_data",
          "data": {
            "text/html": [
              "<div>\n",
              "<style scoped>\n",
              "    .dataframe tbody tr th:only-of-type {\n",
              "        vertical-align: middle;\n",
              "    }\n",
              "\n",
              "    .dataframe tbody tr th {\n",
              "        vertical-align: top;\n",
              "    }\n",
              "\n",
              "    .dataframe thead th {\n",
              "        text-align: right;\n",
              "    }\n",
              "</style>\n",
              "<table border=\"1\" class=\"dataframe\">\n",
              "  <thead>\n",
              "    <tr style=\"text-align: right;\">\n",
              "      <th></th>\n",
              "      <th>graudeinstrucao</th>\n",
              "    </tr>\n",
              "  </thead>\n",
              "  <tbody>\n",
              "    <tr>\n",
              "      <th>0</th>\n",
              "      <td>7.0</td>\n",
              "    </tr>\n",
              "    <tr>\n",
              "      <th>1</th>\n",
              "      <td>7.0</td>\n",
              "    </tr>\n",
              "    <tr>\n",
              "      <th>2</th>\n",
              "      <td>7.0</td>\n",
              "    </tr>\n",
              "    <tr>\n",
              "      <th>3</th>\n",
              "      <td>7.0</td>\n",
              "    </tr>\n",
              "    <tr>\n",
              "      <th>4</th>\n",
              "      <td>7.0</td>\n",
              "    </tr>\n",
              "    <tr>\n",
              "      <th>...</th>\n",
              "      <td>...</td>\n",
              "    </tr>\n",
              "    <tr>\n",
              "      <th>2999995</th>\n",
              "      <td>7.0</td>\n",
              "    </tr>\n",
              "    <tr>\n",
              "      <th>2999996</th>\n",
              "      <td>9.0</td>\n",
              "    </tr>\n",
              "    <tr>\n",
              "      <th>2999997</th>\n",
              "      <td>7.0</td>\n",
              "    </tr>\n",
              "    <tr>\n",
              "      <th>2999998</th>\n",
              "      <td>7.0</td>\n",
              "    </tr>\n",
              "    <tr>\n",
              "      <th>2999999</th>\n",
              "      <td>6.0</td>\n",
              "    </tr>\n",
              "  </tbody>\n",
              "</table>\n",
              "<p>2999975 rows × 1 columns</p>\n",
              "</div>"
            ],
            "text/plain": [
              "         graudeinstrucao\n",
              "0                    7.0\n",
              "1                    7.0\n",
              "2                    7.0\n",
              "3                    7.0\n",
              "4                    7.0\n",
              "...                  ...\n",
              "2999995              7.0\n",
              "2999996              9.0\n",
              "2999997              7.0\n",
              "2999998              7.0\n",
              "2999999              6.0\n",
              "\n",
              "[2999975 rows x 1 columns]"
            ]
          },
          "metadata": {
            "tags": []
          }
        }
      ]
    },
    {
      "cell_type": "code",
      "metadata": {
        "id": "DpSUNfa6ldxq"
      },
      "source": [
        "def escolaridade(x):\n",
        "        if x==1:\n",
        "            return 'Analfabeto'\n",
        "        elif x==2:\n",
        "            return 'Até 5ª Incompleto'\n",
        "        elif x==3:\n",
        "            return '5ª Completo Fundamental'\n",
        "        elif x==4:\n",
        "            return '6ª a 9ª Fundamental'\n",
        "        elif x==5:\n",
        "            return 'Fundamental Completo'\n",
        "        elif x==6:\n",
        "            return 'Médio Incompleto'\n",
        "        elif x==7:\n",
        "            return 'Médio Completo'\n",
        "        elif x==8:\n",
        "            return 'Superior Incompleto'\n",
        "        elif x==9:\n",
        "            return 'Superior Completo'\n",
        "        elif x==10:\n",
        "            return 'Mestrado'\n",
        "        elif x==11:\n",
        "            return 'Doutorado'\n",
        "        elif x==80:\n",
        "            return 'Pós-Graduação completa'\n",
        "        else:\n",
        "            return 'Não Identificado'"
      ],
      "execution_count": null,
      "outputs": []
    },
    {
      "cell_type": "code",
      "metadata": {
        "id": "gI54FgQilege"
      },
      "source": [
        "df['escolaridade'] = df['graudeinstrucao'].apply(lambda x: escolaridade(float(x)))"
      ],
      "execution_count": null,
      "outputs": []
    },
    {
      "cell_type": "code",
      "metadata": {
        "colab": {
          "base_uri": "https://localhost:8080/",
          "height": 519
        },
        "id": "4WJx2N1uliw5",
        "outputId": "947e90d1-6954-4c2f-c9de-5e9b8c4637a4"
      },
      "source": [
        "demissao = df.query('tipomovimentacao == \"Demissão\"').groupby('escolaridade').size().sort_values().tail(6)\n",
        "#.plot(kind='barh')\n",
        "admissao = df.query('tipomovimentacao == \"Admissão\"').groupby('escolaridade').size().sort_values().tail(6)\n",
        "#.plot(kind='barh')\n",
        "\n",
        "n_demissao = dict(demissao)\n",
        "n_admissao = dict(admissao)\n",
        "\n",
        "dados = {}\n",
        "\n",
        "escolaridade = list(n_demissao.keys()) + list(n_admissao.keys())\n",
        "escolaridade = list(dict.fromkeys(escolaridade))\n",
        "\n",
        "dados_grafico = {'escolaridade': [], 'demissao': [], 'admissao': []}\n",
        "\n",
        "for escolaridade in escolaridade :\n",
        "    if(escolaridade in n_demissao.keys()):        \n",
        "        dados_grafico['escolaridade'].append(escolaridade)\n",
        "        dados_grafico['demissao'].append(n_demissao[escolaridade])\n",
        "        dados_grafico['admissao'].append(n_admissao[escolaridade])\n",
        "      \n",
        "        \n",
        "labels = dados_grafico['escolaridade']\n",
        "demissao = dados_grafico['demissao']\n",
        "admissao = dados_grafico['admissao']\n",
        "\n",
        "\n",
        "x = np.arange(len(labels)) \n",
        "width = 0.35\n",
        "\n",
        "fig, ax = plt.subplots(1,1,figsize=(15,8))\n",
        "rects1 = ax.bar(x - width/1.80, admissao, width, label='Empregadas', color= '#20B2AA')\n",
        "rects2 = ax.bar(x + width/1.80, demissao, width, label='Desempregadas', color='#4169E1')\n",
        "\n",
        "\n",
        "plt.xlabel('Tipo de Movimentação',color ='#0000CD', fontsize=14, ha='center')\n",
        "ax.set_title('Admissões e Demissões por Escolaridade', fontsize=20,color ='#0000CD')\n",
        "\n",
        "ax.set_xticks(x)\n",
        "ax.set_xticklabels(labels)\n",
        "plt.legend(loc=2,prop={'size':13})\n",
        "plt.style.use(\"bmh\")\n",
        "def autolabel(rects):\n",
        "    for rect in rects:\n",
        "        height = rect.get_height()\n",
        "        ax.annotate('{}'.format(height),\n",
        "                    xy=(rect.get_x() + rect.get_width() / 2, height),\n",
        "                    xytext=(0, 5),\n",
        "                    textcoords=\"offset points\",\n",
        "                    ha='center', va='bottom')\n",
        "\n",
        "\n",
        "autolabel(rects1)\n",
        "autolabel(rects2)\n",
        "plt.show()"
      ],
      "execution_count": null,
      "outputs": [
        {
          "output_type": "display_data",
          "data": {
            "image/png": "[encoded data removed]",
            "text/plain": [
              "<Figure size 1080x576 with 1 Axes>"
            ]
          },
          "metadata": {
            "tags": []
          }
        }
      ]
    },
    {
      "cell_type": "code",
      "metadata": {
        "id": "We8HSdouU85m"
      },
      "source": [
        "#Setores (Agronegócio, Indústria, Comércio, etc...)"
      ],
      "execution_count": null,
      "outputs": []
    },
    {
      "cell_type": "code",
      "metadata": {
        "colab": {
          "base_uri": "https://localhost:8080/",
          "height": 419
        },
        "id": "ex_InwP6XqyF",
        "outputId": "40c8e46c-5353-414f-ae9b-ca59fef134c4"
      },
      "source": [
        "# filtrando por secao\n",
        "\n",
        "tpmovsecao = df.filter(['secao'])\n",
        "\n",
        "# remover a coluna que está 100% vazia\n",
        "df = df.dropna(how='all', axis=1)\n",
        "\n",
        "# remover a linha que tem um item vazio\n",
        "df = df.dropna()\n",
        "display(tpmovsecao)"
      ],
      "execution_count": null,
      "outputs": [
        {
          "output_type": "display_data",
          "data": {
            "text/html": [
              "<div>\n",
              "<style scoped>\n",
              "    .dataframe tbody tr th:only-of-type {\n",
              "        vertical-align: middle;\n",
              "    }\n",
              "\n",
              "    .dataframe tbody tr th {\n",
              "        vertical-align: top;\n",
              "    }\n",
              "\n",
              "    .dataframe thead th {\n",
              "        text-align: right;\n",
              "    }\n",
              "</style>\n",
              "<table border=\"1\" class=\"dataframe\">\n",
              "  <thead>\n",
              "    <tr style=\"text-align: right;\">\n",
              "      <th></th>\n",
              "      <th>secao</th>\n",
              "    </tr>\n",
              "  </thead>\n",
              "  <tbody>\n",
              "    <tr>\n",
              "      <th>0</th>\n",
              "      <td>G</td>\n",
              "    </tr>\n",
              "    <tr>\n",
              "      <th>1</th>\n",
              "      <td>G</td>\n",
              "    </tr>\n",
              "    <tr>\n",
              "      <th>2</th>\n",
              "      <td>C</td>\n",
              "    </tr>\n",
              "    <tr>\n",
              "      <th>3</th>\n",
              "      <td>N</td>\n",
              "    </tr>\n",
              "    <tr>\n",
              "      <th>4</th>\n",
              "      <td>R</td>\n",
              "    </tr>\n",
              "    <tr>\n",
              "      <th>...</th>\n",
              "      <td>...</td>\n",
              "    </tr>\n",
              "    <tr>\n",
              "      <th>2999995</th>\n",
              "      <td>G</td>\n",
              "    </tr>\n",
              "    <tr>\n",
              "      <th>2999996</th>\n",
              "      <td>J</td>\n",
              "    </tr>\n",
              "    <tr>\n",
              "      <th>2999997</th>\n",
              "      <td>N</td>\n",
              "    </tr>\n",
              "    <tr>\n",
              "      <th>2999998</th>\n",
              "      <td>G</td>\n",
              "    </tr>\n",
              "    <tr>\n",
              "      <th>2999999</th>\n",
              "      <td>G</td>\n",
              "    </tr>\n",
              "  </tbody>\n",
              "</table>\n",
              "<p>2999975 rows × 1 columns</p>\n",
              "</div>"
            ],
            "text/plain": [
              "        secao\n",
              "0           G\n",
              "1           G\n",
              "2           C\n",
              "3           N\n",
              "4           R\n",
              "...       ...\n",
              "2999995     G\n",
              "2999996     J\n",
              "2999997     N\n",
              "2999998     G\n",
              "2999999     G\n",
              "\n",
              "[2999975 rows x 1 columns]"
            ]
          },
          "metadata": {
            "tags": []
          }
        }
      ]
    },
    {
      "cell_type": "code",
      "metadata": {
        "id": "F1BJ3O-alBlF"
      },
      "source": [
        "def setor(x):\n",
        "        if x=='G':\n",
        "            return 'Comércio'\n",
        "        elif x=='A':\n",
        "            return 'Agricultura e Pecuária'\n",
        "        elif x=='C':\n",
        "            return 'Indústrias de Transformação'\n",
        "        elif x=='P':\n",
        "            return 'Educação'\n",
        "        elif x=='E':\n",
        "            return 'Água e Esgoto'\n",
        "        else:\n",
        "            return 'Outro'"
      ],
      "execution_count": null,
      "outputs": []
    },
    {
      "cell_type": "code",
      "metadata": {
        "id": "bzbcxnAZlDzz"
      },
      "source": [
        "df['setor'] = df['secao'].apply(lambda x: setor(x))"
      ],
      "execution_count": null,
      "outputs": []
    },
    {
      "cell_type": "code",
      "metadata": {
        "id": "qv3y2jarlFus"
      },
      "source": [
        "filtro = df.filter(['tipomovimentacao','setor'])\n",
        "df = df.dropna(how='all', axis=1)\n",
        "df = df.dropna()"
      ],
      "execution_count": null,
      "outputs": []
    },
    {
      "cell_type": "code",
      "metadata": {
        "colab": {
          "base_uri": "https://localhost:8080/",
          "height": 520
        },
        "id": "nhQ1zo9BlHdQ",
        "outputId": "b6926a9c-a843-4dfd-dcec-b210e21489e0"
      },
      "source": [
        "demissao = df.query('tipomovimentacao == \"Demissão\"').groupby('setor').size().sort_values().tail(6)\n",
        "#.plot(kind='barh')\n",
        "admissao = df.query('tipomovimentacao == \"Admissão\"').groupby('setor').size().sort_values().tail(6)\n",
        "#.plot(kind='barh')\n",
        "\n",
        "n_demissao = dict(demissao)\n",
        "n_admissao = dict(admissao)\n",
        "\n",
        "dados = {}\n",
        "\n",
        "setor = list(n_demissao.keys()) + list(n_admissao.keys())\n",
        "setor = list(dict.fromkeys(setor))\n",
        "\n",
        "dados_grafico = {'setor': [], 'demissao': [], 'admissao': []}\n",
        "\n",
        "for setor in setor :\n",
        "    if(setor in n_demissao.keys()):        \n",
        "        dados_grafico['setor'].append(setor)\n",
        "        dados_grafico['demissao'].append(n_demissao[setor])\n",
        "        dados_grafico['admissao'].append(n_admissao[setor])\n",
        "      \n",
        "        \n",
        "labels = dados_grafico['setor']\n",
        "demissao = dados_grafico['demissao']\n",
        "admissao = dados_grafico['admissao']\n",
        "\n",
        "\n",
        "x = np.arange(len(labels)) \n",
        "width = 0.35\n",
        "\n",
        "fig, ax = plt.subplots(1,1,figsize=(15,8))\n",
        "rects1 = ax.bar(x - width/1.80, admissao, width, label='Empregadas', color= '#90EE90')\n",
        "rects2 = ax.bar(x + width/1.80, demissao, width, label='Desempregadas', color='#7FFFD4')\n",
        "\n",
        "\n",
        "plt.xlabel('Tipo de Movimentação',color ='#00CED1', fontsize=14, ha='center')\n",
        "ax.set_title('Admissões e Demissões por Setor', fontsize=20,color ='#00CED1')\n",
        "\n",
        "ax.set_xticks(x)\n",
        "ax.set_xticklabels(labels)\n",
        "plt.legend(loc=2,prop={'size':13})\n",
        "plt.style.use(\"bmh\")\n",
        "def autolabel(rects):\n",
        "    for rect in rects:\n",
        "        height = rect.get_height()\n",
        "        ax.annotate('{}'.format(height),\n",
        "                    xy=(rect.get_x() + rect.get_width() / 2, height),\n",
        "                    xytext=(0, 5),\n",
        "                    textcoords=\"offset points\",\n",
        "                    ha='center', va='bottom')\n",
        "\n",
        "\n",
        "autolabel(rects1)\n",
        "autolabel(rects2)\n",
        "plt.show()"
      ],
      "execution_count": null,
      "outputs": [
        {
          "output_type": "display_data",
          "data": {
            "image/png": "[encoded data removed]",
            "text/plain": [
              "<Figure size 1080x576 with 1 Axes>"
            ]
          },
          "metadata": {
            "tags": []
          }
        }
      ]
    },
    {
      "cell_type": "code",
      "metadata": {
        "id": "VWQoXPXjmZW6"
      },
      "source": [
        "#Questão 2\n",
        "#2 – Quais foram as estatísticas de consumo/gastos após o aumento ou diminuição do: - Emprego - Desemprego"
      ],
      "execution_count": null,
      "outputs": []
    },
    {
      "cell_type": "code",
      "metadata": {
        "id": "sdR9gFumoOx_"
      },
      "source": [
        "tabela1 = (/content/drive/MyDrive/Colab Notebooks/CAGEDLIGTH.csv)\n",
        "df1 = pd.read_csv(tabela1, delimiter=';',\n",
        "                encoding='UTF-8',\n",
        "                error_bad_lines=False)\n",
        "display(df1)"
      ],
      "execution_count": null,
      "outputs": []
    },
    {
      "cell_type": "code",
      "metadata": {
        "id": "gkc69BVyerpl"
      },
      "source": [
        "# Pessoas empregadas e desempregadas:\n",
        "# filtrando por categoria \n",
        "\n",
        "tpmovcategoria = df1.filter(['categoria'])\n",
        "\n",
        "# remover a coluna que está 100% vazia\n",
        "df1 = df1.dropna(how='all', axis=1)\n",
        "\n",
        "# remover a linha que tem um item vazio\n",
        "df1 = df1.dropna()\n",
        "display(tpmovcategoria)"
      ],
      "execution_count": null,
      "outputs": []
    },
    {
      "cell_type": "code",
      "metadata": {
        "id": "TUiecHuWet4B"
      },
      "source": [
        "categoria_troca = {999: 'Não Identificado', 101:'Empregado - Geral, inclusive o empregado público da administração direta ou indireta contratado pela CLT', 102: 'Empregado - Trabalhador rural por pequeno prazo da Lei 11.718/2008', 103: 'Empregado - Aprendiz', 104: 'Empregado - Doméstico', 105: 'Empregado - Contrato a termo firmado nos termos da Lei 9.601/1998', 106: 'Trabalhador temporário - Contrato nos termos da Lei 6.019/1974', 107: 'Empregado - Contrato de trabalho Verde e Amarelo - sem acordo para antecipação mensal da multa rescisória do FGTS', 108: 'Empregado - Contrato de trabalho Verde e Amarelo - com acordo para antecipação mensal da multa rescisória do FGTS', 111: 'Empregado - Contrato de trabalho intermitente' }\n",
        "df1.loc[(df1.categoria.isnull()), 'categoria'] = 999\n",
        "df1['categoria'] = df1['categoria'].apply(lambda x: categoria_troca[x])"
      ],
      "execution_count": null,
      "outputs": []
    },
    {
      "cell_type": "code",
      "metadata": {
        "id": "tls4obpCev1z"
      },
      "source": [
        "tipoMov = {\n",
        "10:'Admissão', 20:'Admissão', 25:'Admissão', 31:'Demissão', 32:'Demissão', 33:'Demissão', 35:'Admissão', \n",
        "40:'Demissão', 43:'Demissão', 45:'Demissão', 50:'Demissão', 60:'Demissão', 70:'Admissão', 80:'Demissão', \n",
        "90:'Demissão', 98:'Demissão', 99:'Não Identificado'}"
      ],
      "execution_count": null,
      "outputs": []
    },
    {
      "cell_type": "code",
      "metadata": {
        "id": "Yi_B6xgleyS-"
      },
      "source": [
        "df1.loc[(df1.tipomovimentacao.isnull()), 'tipomovimentacao'] = 9\n",
        "df1['tipomovimentacao'] = df1['tipomovimentacao'].apply(lambda x: tipoMov[x])"
      ],
      "execution_count": null,
      "outputs": []
    },
    {
      "cell_type": "code",
      "metadata": {
        "id": "jqtsC5oRe2GK"
      },
      "source": [
        "df1.groupby('tipomovimentacao').size()"
      ],
      "execution_count": null,
      "outputs": []
    },
    {
      "cell_type": "code",
      "metadata": {
        "id": "0LX71V2te56O"
      },
      "source": [
        "display(df1)"
      ],
      "execution_count": null,
      "outputs": []
    },
    {
      "cell_type": "code",
      "metadata": {
        "id": "uBbhd_QBe7ho"
      },
      "source": [
        "#tabela = (\"/content/drive/MyDrive/CAGED/indicadores brasil.csv\")\n",
        "tabela = (\"/content/drive/MyDrive/Colab Notebooks/indicadores_brasil.csv\")\n",
        "df = pd.read_csv(tabela, delimiter=';',\n",
        "                encoding='UTF-8',\n",
        "                error_bad_lines=False)\n",
        "display(df)"
      ],
      "execution_count": null,
      "outputs": []
    },
    {
      "cell_type": "code",
      "metadata": {
        "id": "YHJ45xqNe-zm"
      },
      "source": [
        "display(df['Indicadores Brasil'].value_counts())"
      ],
      "execution_count": null,
      "outputs": []
    },
    {
      "cell_type": "code",
      "metadata": {
        "id": "Wyfvp-wZe_yL"
      },
      "source": [
        "# filtrando por Indicadores Brasil\n",
        "\n",
        "tpmovIndicadoresBrasil = df.filter(['Indicadores Brasil'])\n",
        "\n",
        "# remover a coluna que está 100% vazia\n",
        "df = df.dropna(how='all', axis=1)\n",
        "\n",
        "# remover a linha que tem um item vazio\n",
        "df = df.dropna()"
      ],
      "execution_count": null,
      "outputs": []
    },
    {
      "cell_type": "code",
      "metadata": {
        "id": "mulrZuNefCWi"
      },
      "source": [
        "display(df)"
      ],
      "execution_count": null,
      "outputs": []
    },
    {
      "cell_type": "code",
      "metadata": {
        "id": "qxfEGR-7fF_q"
      },
      "source": [
        "display(df['2019'].value_counts())"
      ],
      "execution_count": null,
      "outputs": []
    },
    {
      "cell_type": "code",
      "metadata": {
        "id": "RDAo-mXbfH79"
      },
      "source": [
        "df3 = pd.concat([df1, df], axis=1, join=\"inner\")\n",
        "display(df3)"
      ],
      "execution_count": null,
      "outputs": []
    },
    {
      "cell_type": "code",
      "metadata": {
        "id": "kGnlAPiPfM_V"
      },
      "source": [
        "def IndicadoresBrasil(x):\n",
        "        if x==1:\n",
        "            return 'PIB Total (a)'\n",
        "        elif x==2:\n",
        "            return 'PIB Total (a)'\n",
        "        elif x==3:\n",
        "            return 'Agropecuária'\n",
        "        elif x==4:\n",
        "            return 'Indústria'\n",
        "        elif x==5:\n",
        "            return 'Serviços'\n",
        "        elif x==6:\n",
        "            return 'Taxa de Investimento (b)'\n",
        "        elif x==7:\n",
        "            return 'Produção industrial (c)'\n",
        "        elif x==8:\n",
        "            return 'Volume de vendas do comércio varejista (l)'\n",
        "        elif x==9:\n",
        "            return 'Arrecadação IPI'\n",
        "        elif x==10:\n",
        "            return 'Arrecadação ICMS Brasil (d)'\n",
        "        elif x==11:\n",
        "            return 'Arrecadação ICMS SP (d)'\n",
        "        elif x==12:\n",
        "            return 'ICMS SP/ICMS Brasil'\n",
        "        elif x==13:\n",
        "            return 'Massa de rendimentos'\n",
        "        elif x==14:\n",
        "            return 'Rendimento médio real'\n",
        "        elif x==15:\n",
        "            return 'Emprego (e)'\n",
        "        elif x==16:\n",
        "            return 'Taxa de desemprego (média)'\n",
        "        elif x==17:\n",
        "            return 'Saldo da balança comercial'\n",
        "        elif x==18:\n",
        "            return 'Exportações (FOB)'\n",
        "        elif x==19:\n",
        "            return 'Importações (FOB)'\n",
        "        elif x==20:\n",
        "            return 'Reservas externas (f)'\n",
        "        elif x==21:\n",
        "            return 'Juros nominais (cdi-over)'\n",
        "        elif x==22:\n",
        "            return 'Taxa de Câmbio Efetiva Real (g)'\n",
        "        elif x==23:\n",
        "            return 'Inflação (h)'\n",
        "        elif x==24:\n",
        "            return 'IGP-DI'\n",
        "        elif x==25:\n",
        "            return 'Inflação (h)'\n",
        "        elif x==26:\n",
        "            return 'IPA'\n",
        "        elif x==27:\n",
        "            return 'INPC'\n",
        "        elif x==28:\n",
        "            return 'IPCA'\n",
        "        else:\n",
        "            return 'Não Identificado'"
      ],
      "execution_count": null,
      "outputs": []
    },
    {
      "cell_type": "code",
      "metadata": {
        "id": "OPo_oyLLfQWc"
      },
      "source": [
        "df1.groupby('tipomovimentacao').size()"
      ],
      "execution_count": null,
      "outputs": []
    },
    {
      "cell_type": "code",
      "metadata": {
        "id": "dskd0792fUYM"
      },
      "source": [
        "result.info()"
      ],
      "execution_count": null,
      "outputs": []
    },
    {
      "cell_type": "code",
      "metadata": {
        "id": "yX0iSOorfXzz"
      },
      "source": [
        "#Estilos usados no layout do gráfico \"Solarize_Light e bmh\"\n",
        "plt.style.use(\"Solarize_Light2\")"
      ],
      "execution_count": null,
      "outputs": []
    },
    {
      "cell_type": "code",
      "metadata": {
        "id": "YfuCpvIWfZmz"
      },
      "source": [
        " result['Indicadores Brasil'] = result['Indicadores Brasil'].apply(lambda x: IndicadoresBrasil(x))"
      ],
      "execution_count": null,
      "outputs": []
    },
    {
      "cell_type": "code",
      "metadata": {
        "id": "_gLBfZcyfaXA"
      },
      "source": [
        "import plotly.express as px\n",
        "\n",
        "fig = px.histogram(df3, x='Indicadores Brasil', color=\"tipomovimentacao\")\n",
        "     \n",
        "fig.show()"
      ],
      "execution_count": null,
      "outputs": []
    },
    {
      "cell_type": "code",
      "metadata": {
        "id": "AFHSy6IjfiGz"
      },
      "source": [
        "display(df1['tipomovimentacao'])"
      ],
      "execution_count": null,
      "outputs": []
    },
    {
      "cell_type": "code",
      "metadata": {
        "id": "-ILeGRN0Ri-F"
      },
      "source": [
        "#Questão 3: \n",
        "#3 - Quero saber a quantidade de admissões/demissões por gênero no período da pandemia."
      ],
      "execution_count": null,
      "outputs": []
    },
    {
      "cell_type": "code",
      "metadata": {
        "id": "x90ogMpVEiz0",
        "colab": {
          "base_uri": "https://localhost:8080/",
          "height": 473
        },
        "outputId": "29cdf436-862b-4533-cdb6-5ab10eb0fb8f"
      },
      "source": [
        "#Importando a base de dados\n",
        "tabela = ('/content/drive/MyDrive/Colab Notebooks/CAGEDLIGTH.csv')\n",
        "df = pd.read_csv(tabela, delimiter=';',\n",
        "                encoding='ISO-8859-1',\n",
        "                error_bad_lines=False)\n",
        "display(df)"
      ],
      "execution_count": null,
      "outputs": [
        {
          "output_type": "stream",
          "text": [
            "/usr/local/lib/python3.7/dist-packages/IPython/core/interactiveshell.py:2718: DtypeWarning: Columns (0) have mixed types.Specify dtype option on import or set low_memory=False.\n",
            "  interactivity=interactivity, compiler=compiler, result=result)\n"
          ],
          "name": "stderr"
        },
        {
          "output_type": "display_data",
          "data": {
            "text/html": [
              "<div>\n",
              "<style scoped>\n",
              "    .dataframe tbody tr th:only-of-type {\n",
              "        vertical-align: middle;\n",
              "    }\n",
              "\n",
              "    .dataframe tbody tr th {\n",
              "        vertical-align: top;\n",
              "    }\n",
              "\n",
              "    .dataframe thead th {\n",
              "        text-align: right;\n",
              "    }\n",
              "</style>\n",
              "<table border=\"1\" class=\"dataframe\">\n",
              "  <thead>\n",
              "    <tr style=\"text-align: right;\">\n",
              "      <th></th>\n",
              "      <th>competencia</th>\n",
              "      <th>regiao</th>\n",
              "      <th>uf</th>\n",
              "      <th>municipio</th>\n",
              "      <th>secao</th>\n",
              "      <th>subclasse</th>\n",
              "      <th>saldomovimentacao</th>\n",
              "      <th>cbo2002ocupacao</th>\n",
              "      <th>categoria</th>\n",
              "      <th>graudeinstrucao</th>\n",
              "      <th>idade</th>\n",
              "      <th>horascontratuais</th>\n",
              "      <th>racacor</th>\n",
              "      <th>sexo</th>\n",
              "      <th>tipoempregador</th>\n",
              "      <th>tipoestabelecimento</th>\n",
              "      <th>tipomovimentacao</th>\n",
              "      <th>tipodedeficiencia</th>\n",
              "      <th>indtrabintermitente</th>\n",
              "      <th>indtrabparcial</th>\n",
              "      <th>salario</th>\n",
              "      <th>tamestabjan</th>\n",
              "      <th>indicadoraprendiz</th>\n",
              "      <th>fonte</th>\n",
              "    </tr>\n",
              "  </thead>\n",
              "  <tbody>\n",
              "    <tr>\n",
              "      <th>0</th>\n",
              "      <td>202003</td>\n",
              "      <td>3.0</td>\n",
              "      <td>31.0</td>\n",
              "      <td>317020.0</td>\n",
              "      <td>G</td>\n",
              "      <td>4752100.0</td>\n",
              "      <td>-1.0</td>\n",
              "      <td>521110.0</td>\n",
              "      <td>999.0</td>\n",
              "      <td>7.0</td>\n",
              "      <td>21.0</td>\n",
              "      <td>44.0</td>\n",
              "      <td>6.0</td>\n",
              "      <td>3.0</td>\n",
              "      <td>0.0</td>\n",
              "      <td>1.0</td>\n",
              "      <td>31.0</td>\n",
              "      <td>0.0</td>\n",
              "      <td>0.0</td>\n",
              "      <td>0.0</td>\n",
              "      <td>1165.859985</td>\n",
              "      <td>3.0</td>\n",
              "      <td>0.0</td>\n",
              "      <td>1.0</td>\n",
              "    </tr>\n",
              "    <tr>\n",
              "      <th>1</th>\n",
              "      <td>202003</td>\n",
              "      <td>5.0</td>\n",
              "      <td>51.0</td>\n",
              "      <td>510795.0</td>\n",
              "      <td>G</td>\n",
              "      <td>4711301.0</td>\n",
              "      <td>-1.0</td>\n",
              "      <td>421125.0</td>\n",
              "      <td>101.0</td>\n",
              "      <td>7.0</td>\n",
              "      <td>34.0</td>\n",
              "      <td>44.0</td>\n",
              "      <td>3.0</td>\n",
              "      <td>3.0</td>\n",
              "      <td>0.0</td>\n",
              "      <td>1.0</td>\n",
              "      <td>40.0</td>\n",
              "      <td>0.0</td>\n",
              "      <td>0.0</td>\n",
              "      <td>0.0</td>\n",
              "      <td>1020.000000</td>\n",
              "      <td>7.0</td>\n",
              "      <td>0.0</td>\n",
              "      <td>1.0</td>\n",
              "    </tr>\n",
              "    <tr>\n",
              "      <th>2</th>\n",
              "      <td>202003</td>\n",
              "      <td>2.0</td>\n",
              "      <td>26.0</td>\n",
              "      <td>260790.0</td>\n",
              "      <td>C</td>\n",
              "      <td>3292202.0</td>\n",
              "      <td>-1.0</td>\n",
              "      <td>862150.0</td>\n",
              "      <td>101.0</td>\n",
              "      <td>7.0</td>\n",
              "      <td>37.0</td>\n",
              "      <td>44.0</td>\n",
              "      <td>6.0</td>\n",
              "      <td>1.0</td>\n",
              "      <td>0.0</td>\n",
              "      <td>1.0</td>\n",
              "      <td>31.0</td>\n",
              "      <td>0.0</td>\n",
              "      <td>0.0</td>\n",
              "      <td>0.0</td>\n",
              "      <td>1200.000000</td>\n",
              "      <td>4.0</td>\n",
              "      <td>0.0</td>\n",
              "      <td>1.0</td>\n",
              "    </tr>\n",
              "    <tr>\n",
              "      <th>3</th>\n",
              "      <td>202003</td>\n",
              "      <td>3.0</td>\n",
              "      <td>35.0</td>\n",
              "      <td>355030.0</td>\n",
              "      <td>N</td>\n",
              "      <td>7820500.0</td>\n",
              "      <td>-1.0</td>\n",
              "      <td>422105.0</td>\n",
              "      <td>106.0</td>\n",
              "      <td>7.0</td>\n",
              "      <td>20.0</td>\n",
              "      <td>44.0</td>\n",
              "      <td>1.0</td>\n",
              "      <td>3.0</td>\n",
              "      <td>0.0</td>\n",
              "      <td>1.0</td>\n",
              "      <td>43.0</td>\n",
              "      <td>0.0</td>\n",
              "      <td>0.0</td>\n",
              "      <td>0.0</td>\n",
              "      <td>1396.000000</td>\n",
              "      <td>10.0</td>\n",
              "      <td>0.0</td>\n",
              "      <td>1.0</td>\n",
              "    </tr>\n",
              "    <tr>\n",
              "      <th>4</th>\n",
              "      <td>202003</td>\n",
              "      <td>3.0</td>\n",
              "      <td>35.0</td>\n",
              "      <td>355030.0</td>\n",
              "      <td>R</td>\n",
              "      <td>9312300.0</td>\n",
              "      <td>-1.0</td>\n",
              "      <td>517330.0</td>\n",
              "      <td>101.0</td>\n",
              "      <td>7.0</td>\n",
              "      <td>36.0</td>\n",
              "      <td>44.0</td>\n",
              "      <td>2.0</td>\n",
              "      <td>1.0</td>\n",
              "      <td>0.0</td>\n",
              "      <td>1.0</td>\n",
              "      <td>31.0</td>\n",
              "      <td>0.0</td>\n",
              "      <td>0.0</td>\n",
              "      <td>0.0</td>\n",
              "      <td>2474.189941</td>\n",
              "      <td>10.0</td>\n",
              "      <td>0.0</td>\n",
              "      <td>1.0</td>\n",
              "    </tr>\n",
              "    <tr>\n",
              "      <th>...</th>\n",
              "      <td>...</td>\n",
              "      <td>...</td>\n",
              "      <td>...</td>\n",
              "      <td>...</td>\n",
              "      <td>...</td>\n",
              "      <td>...</td>\n",
              "      <td>...</td>\n",
              "      <td>...</td>\n",
              "      <td>...</td>\n",
              "      <td>...</td>\n",
              "      <td>...</td>\n",
              "      <td>...</td>\n",
              "      <td>...</td>\n",
              "      <td>...</td>\n",
              "      <td>...</td>\n",
              "      <td>...</td>\n",
              "      <td>...</td>\n",
              "      <td>...</td>\n",
              "      <td>...</td>\n",
              "      <td>...</td>\n",
              "      <td>...</td>\n",
              "      <td>...</td>\n",
              "      <td>...</td>\n",
              "      <td>...</td>\n",
              "    </tr>\n",
              "    <tr>\n",
              "      <th>2999996</th>\n",
              "      <td>202012</td>\n",
              "      <td>3.0</td>\n",
              "      <td>31.0</td>\n",
              "      <td>310620.0</td>\n",
              "      <td>J</td>\n",
              "      <td>6201501.0</td>\n",
              "      <td>1.0</td>\n",
              "      <td>212405.0</td>\n",
              "      <td>101.0</td>\n",
              "      <td>9.0</td>\n",
              "      <td>34.0</td>\n",
              "      <td>40.0</td>\n",
              "      <td>1.0</td>\n",
              "      <td>1.0</td>\n",
              "      <td>0.0</td>\n",
              "      <td>1.0</td>\n",
              "      <td>20.0</td>\n",
              "      <td>0.0</td>\n",
              "      <td>0.0</td>\n",
              "      <td>0.0</td>\n",
              "      <td>10800.000000</td>\n",
              "      <td>9.0</td>\n",
              "      <td>0.0</td>\n",
              "      <td>1.0</td>\n",
              "    </tr>\n",
              "    <tr>\n",
              "      <th>2999997</th>\n",
              "      <td>202012</td>\n",
              "      <td>3.0</td>\n",
              "      <td>35.0</td>\n",
              "      <td>355030.0</td>\n",
              "      <td>N</td>\n",
              "      <td>7820500.0</td>\n",
              "      <td>-1.0</td>\n",
              "      <td>322205.0</td>\n",
              "      <td>106.0</td>\n",
              "      <td>7.0</td>\n",
              "      <td>23.0</td>\n",
              "      <td>36.0</td>\n",
              "      <td>3.0</td>\n",
              "      <td>3.0</td>\n",
              "      <td>0.0</td>\n",
              "      <td>1.0</td>\n",
              "      <td>43.0</td>\n",
              "      <td>0.0</td>\n",
              "      <td>0.0</td>\n",
              "      <td>0.0</td>\n",
              "      <td>1740.560059</td>\n",
              "      <td>10.0</td>\n",
              "      <td>0.0</td>\n",
              "      <td>1.0</td>\n",
              "    </tr>\n",
              "    <tr>\n",
              "      <th>2999998</th>\n",
              "      <td>202012</td>\n",
              "      <td>4.0</td>\n",
              "      <td>42.0</td>\n",
              "      <td>420540.0</td>\n",
              "      <td>G</td>\n",
              "      <td>4711302.0</td>\n",
              "      <td>-1.0</td>\n",
              "      <td>517330.0</td>\n",
              "      <td>101.0</td>\n",
              "      <td>7.0</td>\n",
              "      <td>47.0</td>\n",
              "      <td>44.0</td>\n",
              "      <td>3.0</td>\n",
              "      <td>1.0</td>\n",
              "      <td>0.0</td>\n",
              "      <td>1.0</td>\n",
              "      <td>40.0</td>\n",
              "      <td>0.0</td>\n",
              "      <td>0.0</td>\n",
              "      <td>0.0</td>\n",
              "      <td>1473.849976</td>\n",
              "      <td>7.0</td>\n",
              "      <td>0.0</td>\n",
              "      <td>1.0</td>\n",
              "    </tr>\n",
              "    <tr>\n",
              "      <th>2999999</th>\n",
              "      <td>202012</td>\n",
              "      <td>3.0</td>\n",
              "      <td>35.0</td>\n",
              "      <td>351870.0</td>\n",
              "      <td>G</td>\n",
              "      <td>4721104.0</td>\n",
              "      <td>-1.0</td>\n",
              "      <td>521110.0</td>\n",
              "      <td>101.0</td>\n",
              "      <td>6.0</td>\n",
              "      <td>16.0</td>\n",
              "      <td>44.0</td>\n",
              "      <td>1.0</td>\n",
              "      <td>3.0</td>\n",
              "      <td>0.0</td>\n",
              "      <td>1.0</td>\n",
              "      <td>40.0</td>\n",
              "      <td>0.0</td>\n",
              "      <td>0.0</td>\n",
              "      <td>0.0</td>\n",
              "      <td>1056.569946</td>\n",
              "      <td>2.0</td>\n",
              "      <td>0.0</td>\n",
              "      <td>1.0</td>\n",
              "    </tr>\n",
              "    <tr>\n",
              "      <th>3000000</th>\n",
              "      <td>\u001a</td>\n",
              "      <td>NaN</td>\n",
              "      <td>NaN</td>\n",
              "      <td>NaN</td>\n",
              "      <td>NaN</td>\n",
              "      <td>NaN</td>\n",
              "      <td>NaN</td>\n",
              "      <td>NaN</td>\n",
              "      <td>NaN</td>\n",
              "      <td>NaN</td>\n",
              "      <td>NaN</td>\n",
              "      <td>NaN</td>\n",
              "      <td>NaN</td>\n",
              "      <td>NaN</td>\n",
              "      <td>NaN</td>\n",
              "      <td>NaN</td>\n",
              "      <td>NaN</td>\n",
              "      <td>NaN</td>\n",
              "      <td>NaN</td>\n",
              "      <td>NaN</td>\n",
              "      <td>NaN</td>\n",
              "      <td>NaN</td>\n",
              "      <td>NaN</td>\n",
              "      <td>NaN</td>\n",
              "    </tr>\n",
              "  </tbody>\n",
              "</table>\n",
              "<p>3000001 rows × 24 columns</p>\n",
              "</div>"
            ],
            "text/plain": [
              "        competencia  regiao    uf  ...  tamestabjan indicadoraprendiz  fonte\n",
              "0            202003     3.0  31.0  ...          3.0               0.0    1.0\n",
              "1            202003     5.0  51.0  ...          7.0               0.0    1.0\n",
              "2            202003     2.0  26.0  ...          4.0               0.0    1.0\n",
              "3            202003     3.0  35.0  ...         10.0               0.0    1.0\n",
              "4            202003     3.0  35.0  ...         10.0               0.0    1.0\n",
              "...             ...     ...   ...  ...          ...               ...    ...\n",
              "2999996      202012     3.0  31.0  ...          9.0               0.0    1.0\n",
              "2999997      202012     3.0  35.0  ...         10.0               0.0    1.0\n",
              "2999998      202012     4.0  42.0  ...          7.0               0.0    1.0\n",
              "2999999      202012     3.0  35.0  ...          2.0               0.0    1.0\n",
              "3000000           \u001a     NaN   NaN  ...          NaN               NaN    NaN\n",
              "\n",
              "[3000001 rows x 24 columns]"
            ]
          },
          "metadata": {
            "tags": []
          }
        }
      ]
    },
    {
      "cell_type": "code",
      "metadata": {
        "id": "QW3B6lepNA9W"
      },
      "source": [
        "# filtrando por tipomovimentação e sexo\n",
        "\n",
        "tpmovsexo = df.filter(['tipomovimentacao','sexo'])\n",
        "\n",
        "# remover a coluna que está 100% vazia\n",
        "df = df.dropna(how='all', axis=1)\n",
        "\n",
        "# remover a linha que tem um item vazio\n",
        "df = df.dropna()"
      ],
      "execution_count": null,
      "outputs": []
    },
    {
      "cell_type": "code",
      "metadata": {
        "colab": {
          "base_uri": "https://localhost:8080/",
          "height": 439
        },
        "id": "XINglqbwE6nc",
        "outputId": "15361082-51a2-450b-fd4c-1c8d8730d061"
      },
      "source": [
        "display(df)"
      ],
      "execution_count": null,
      "outputs": [
        {
          "output_type": "display_data",
          "data": {
            "text/html": [
              "<div>\n",
              "<style scoped>\n",
              "    .dataframe tbody tr th:only-of-type {\n",
              "        vertical-align: middle;\n",
              "    }\n",
              "\n",
              "    .dataframe tbody tr th {\n",
              "        vertical-align: top;\n",
              "    }\n",
              "\n",
              "    .dataframe thead th {\n",
              "        text-align: right;\n",
              "    }\n",
              "</style>\n",
              "<table border=\"1\" class=\"dataframe\">\n",
              "  <thead>\n",
              "    <tr style=\"text-align: right;\">\n",
              "      <th></th>\n",
              "      <th>competencia</th>\n",
              "      <th>regiao</th>\n",
              "      <th>uf</th>\n",
              "      <th>municipio</th>\n",
              "      <th>secao</th>\n",
              "      <th>subclasse</th>\n",
              "      <th>saldomovimentacao</th>\n",
              "      <th>cbo2002ocupacao</th>\n",
              "      <th>categoria</th>\n",
              "      <th>graudeinstrucao</th>\n",
              "      <th>idade</th>\n",
              "      <th>horascontratuais</th>\n",
              "      <th>racacor</th>\n",
              "      <th>sexo</th>\n",
              "      <th>tipoempregador</th>\n",
              "      <th>tipoestabelecimento</th>\n",
              "      <th>tipomovimentacao</th>\n",
              "      <th>tipodedeficiencia</th>\n",
              "      <th>indtrabintermitente</th>\n",
              "      <th>indtrabparcial</th>\n",
              "      <th>salario</th>\n",
              "      <th>tamestabjan</th>\n",
              "      <th>indicadoraprendiz</th>\n",
              "      <th>fonte</th>\n",
              "    </tr>\n",
              "  </thead>\n",
              "  <tbody>\n",
              "    <tr>\n",
              "      <th>0</th>\n",
              "      <td>202003</td>\n",
              "      <td>3.0</td>\n",
              "      <td>31.0</td>\n",
              "      <td>317020.0</td>\n",
              "      <td>G</td>\n",
              "      <td>4752100.0</td>\n",
              "      <td>-1.0</td>\n",
              "      <td>521110.0</td>\n",
              "      <td>999.0</td>\n",
              "      <td>7.0</td>\n",
              "      <td>21.0</td>\n",
              "      <td>44.0</td>\n",
              "      <td>6.0</td>\n",
              "      <td>3.0</td>\n",
              "      <td>0.0</td>\n",
              "      <td>1.0</td>\n",
              "      <td>31.0</td>\n",
              "      <td>0.0</td>\n",
              "      <td>0.0</td>\n",
              "      <td>0.0</td>\n",
              "      <td>1165.859985</td>\n",
              "      <td>3.0</td>\n",
              "      <td>0.0</td>\n",
              "      <td>1.0</td>\n",
              "    </tr>\n",
              "    <tr>\n",
              "      <th>1</th>\n",
              "      <td>202003</td>\n",
              "      <td>5.0</td>\n",
              "      <td>51.0</td>\n",
              "      <td>510795.0</td>\n",
              "      <td>G</td>\n",
              "      <td>4711301.0</td>\n",
              "      <td>-1.0</td>\n",
              "      <td>421125.0</td>\n",
              "      <td>101.0</td>\n",
              "      <td>7.0</td>\n",
              "      <td>34.0</td>\n",
              "      <td>44.0</td>\n",
              "      <td>3.0</td>\n",
              "      <td>3.0</td>\n",
              "      <td>0.0</td>\n",
              "      <td>1.0</td>\n",
              "      <td>40.0</td>\n",
              "      <td>0.0</td>\n",
              "      <td>0.0</td>\n",
              "      <td>0.0</td>\n",
              "      <td>1020.000000</td>\n",
              "      <td>7.0</td>\n",
              "      <td>0.0</td>\n",
              "      <td>1.0</td>\n",
              "    </tr>\n",
              "    <tr>\n",
              "      <th>2</th>\n",
              "      <td>202003</td>\n",
              "      <td>2.0</td>\n",
              "      <td>26.0</td>\n",
              "      <td>260790.0</td>\n",
              "      <td>C</td>\n",
              "      <td>3292202.0</td>\n",
              "      <td>-1.0</td>\n",
              "      <td>862150.0</td>\n",
              "      <td>101.0</td>\n",
              "      <td>7.0</td>\n",
              "      <td>37.0</td>\n",
              "      <td>44.0</td>\n",
              "      <td>6.0</td>\n",
              "      <td>1.0</td>\n",
              "      <td>0.0</td>\n",
              "      <td>1.0</td>\n",
              "      <td>31.0</td>\n",
              "      <td>0.0</td>\n",
              "      <td>0.0</td>\n",
              "      <td>0.0</td>\n",
              "      <td>1200.000000</td>\n",
              "      <td>4.0</td>\n",
              "      <td>0.0</td>\n",
              "      <td>1.0</td>\n",
              "    </tr>\n",
              "    <tr>\n",
              "      <th>3</th>\n",
              "      <td>202003</td>\n",
              "      <td>3.0</td>\n",
              "      <td>35.0</td>\n",
              "      <td>355030.0</td>\n",
              "      <td>N</td>\n",
              "      <td>7820500.0</td>\n",
              "      <td>-1.0</td>\n",
              "      <td>422105.0</td>\n",
              "      <td>106.0</td>\n",
              "      <td>7.0</td>\n",
              "      <td>20.0</td>\n",
              "      <td>44.0</td>\n",
              "      <td>1.0</td>\n",
              "      <td>3.0</td>\n",
              "      <td>0.0</td>\n",
              "      <td>1.0</td>\n",
              "      <td>43.0</td>\n",
              "      <td>0.0</td>\n",
              "      <td>0.0</td>\n",
              "      <td>0.0</td>\n",
              "      <td>1396.000000</td>\n",
              "      <td>10.0</td>\n",
              "      <td>0.0</td>\n",
              "      <td>1.0</td>\n",
              "    </tr>\n",
              "    <tr>\n",
              "      <th>4</th>\n",
              "      <td>202003</td>\n",
              "      <td>3.0</td>\n",
              "      <td>35.0</td>\n",
              "      <td>355030.0</td>\n",
              "      <td>R</td>\n",
              "      <td>9312300.0</td>\n",
              "      <td>-1.0</td>\n",
              "      <td>517330.0</td>\n",
              "      <td>101.0</td>\n",
              "      <td>7.0</td>\n",
              "      <td>36.0</td>\n",
              "      <td>44.0</td>\n",
              "      <td>2.0</td>\n",
              "      <td>1.0</td>\n",
              "      <td>0.0</td>\n",
              "      <td>1.0</td>\n",
              "      <td>31.0</td>\n",
              "      <td>0.0</td>\n",
              "      <td>0.0</td>\n",
              "      <td>0.0</td>\n",
              "      <td>2474.189941</td>\n",
              "      <td>10.0</td>\n",
              "      <td>0.0</td>\n",
              "      <td>1.0</td>\n",
              "    </tr>\n",
              "    <tr>\n",
              "      <th>...</th>\n",
              "      <td>...</td>\n",
              "      <td>...</td>\n",
              "      <td>...</td>\n",
              "      <td>...</td>\n",
              "      <td>...</td>\n",
              "      <td>...</td>\n",
              "      <td>...</td>\n",
              "      <td>...</td>\n",
              "      <td>...</td>\n",
              "      <td>...</td>\n",
              "      <td>...</td>\n",
              "      <td>...</td>\n",
              "      <td>...</td>\n",
              "      <td>...</td>\n",
              "      <td>...</td>\n",
              "      <td>...</td>\n",
              "      <td>...</td>\n",
              "      <td>...</td>\n",
              "      <td>...</td>\n",
              "      <td>...</td>\n",
              "      <td>...</td>\n",
              "      <td>...</td>\n",
              "      <td>...</td>\n",
              "      <td>...</td>\n",
              "    </tr>\n",
              "    <tr>\n",
              "      <th>2999995</th>\n",
              "      <td>202012</td>\n",
              "      <td>3.0</td>\n",
              "      <td>35.0</td>\n",
              "      <td>354990.0</td>\n",
              "      <td>G</td>\n",
              "      <td>4724500.0</td>\n",
              "      <td>1.0</td>\n",
              "      <td>521125.0</td>\n",
              "      <td>101.0</td>\n",
              "      <td>7.0</td>\n",
              "      <td>24.0</td>\n",
              "      <td>44.0</td>\n",
              "      <td>1.0</td>\n",
              "      <td>1.0</td>\n",
              "      <td>0.0</td>\n",
              "      <td>1.0</td>\n",
              "      <td>20.0</td>\n",
              "      <td>0.0</td>\n",
              "      <td>0.0</td>\n",
              "      <td>0.0</td>\n",
              "      <td>1376.000000</td>\n",
              "      <td>4.0</td>\n",
              "      <td>0.0</td>\n",
              "      <td>1.0</td>\n",
              "    </tr>\n",
              "    <tr>\n",
              "      <th>2999996</th>\n",
              "      <td>202012</td>\n",
              "      <td>3.0</td>\n",
              "      <td>31.0</td>\n",
              "      <td>310620.0</td>\n",
              "      <td>J</td>\n",
              "      <td>6201501.0</td>\n",
              "      <td>1.0</td>\n",
              "      <td>212405.0</td>\n",
              "      <td>101.0</td>\n",
              "      <td>9.0</td>\n",
              "      <td>34.0</td>\n",
              "      <td>40.0</td>\n",
              "      <td>1.0</td>\n",
              "      <td>1.0</td>\n",
              "      <td>0.0</td>\n",
              "      <td>1.0</td>\n",
              "      <td>20.0</td>\n",
              "      <td>0.0</td>\n",
              "      <td>0.0</td>\n",
              "      <td>0.0</td>\n",
              "      <td>10800.000000</td>\n",
              "      <td>9.0</td>\n",
              "      <td>0.0</td>\n",
              "      <td>1.0</td>\n",
              "    </tr>\n",
              "    <tr>\n",
              "      <th>2999997</th>\n",
              "      <td>202012</td>\n",
              "      <td>3.0</td>\n",
              "      <td>35.0</td>\n",
              "      <td>355030.0</td>\n",
              "      <td>N</td>\n",
              "      <td>7820500.0</td>\n",
              "      <td>-1.0</td>\n",
              "      <td>322205.0</td>\n",
              "      <td>106.0</td>\n",
              "      <td>7.0</td>\n",
              "      <td>23.0</td>\n",
              "      <td>36.0</td>\n",
              "      <td>3.0</td>\n",
              "      <td>3.0</td>\n",
              "      <td>0.0</td>\n",
              "      <td>1.0</td>\n",
              "      <td>43.0</td>\n",
              "      <td>0.0</td>\n",
              "      <td>0.0</td>\n",
              "      <td>0.0</td>\n",
              "      <td>1740.560059</td>\n",
              "      <td>10.0</td>\n",
              "      <td>0.0</td>\n",
              "      <td>1.0</td>\n",
              "    </tr>\n",
              "    <tr>\n",
              "      <th>2999998</th>\n",
              "      <td>202012</td>\n",
              "      <td>4.0</td>\n",
              "      <td>42.0</td>\n",
              "      <td>420540.0</td>\n",
              "      <td>G</td>\n",
              "      <td>4711302.0</td>\n",
              "      <td>-1.0</td>\n",
              "      <td>517330.0</td>\n",
              "      <td>101.0</td>\n",
              "      <td>7.0</td>\n",
              "      <td>47.0</td>\n",
              "      <td>44.0</td>\n",
              "      <td>3.0</td>\n",
              "      <td>1.0</td>\n",
              "      <td>0.0</td>\n",
              "      <td>1.0</td>\n",
              "      <td>40.0</td>\n",
              "      <td>0.0</td>\n",
              "      <td>0.0</td>\n",
              "      <td>0.0</td>\n",
              "      <td>1473.849976</td>\n",
              "      <td>7.0</td>\n",
              "      <td>0.0</td>\n",
              "      <td>1.0</td>\n",
              "    </tr>\n",
              "    <tr>\n",
              "      <th>2999999</th>\n",
              "      <td>202012</td>\n",
              "      <td>3.0</td>\n",
              "      <td>35.0</td>\n",
              "      <td>351870.0</td>\n",
              "      <td>G</td>\n",
              "      <td>4721104.0</td>\n",
              "      <td>-1.0</td>\n",
              "      <td>521110.0</td>\n",
              "      <td>101.0</td>\n",
              "      <td>6.0</td>\n",
              "      <td>16.0</td>\n",
              "      <td>44.0</td>\n",
              "      <td>1.0</td>\n",
              "      <td>3.0</td>\n",
              "      <td>0.0</td>\n",
              "      <td>1.0</td>\n",
              "      <td>40.0</td>\n",
              "      <td>0.0</td>\n",
              "      <td>0.0</td>\n",
              "      <td>0.0</td>\n",
              "      <td>1056.569946</td>\n",
              "      <td>2.0</td>\n",
              "      <td>0.0</td>\n",
              "      <td>1.0</td>\n",
              "    </tr>\n",
              "  </tbody>\n",
              "</table>\n",
              "<p>2999975 rows × 24 columns</p>\n",
              "</div>"
            ],
            "text/plain": [
              "        competencia  regiao    uf  ...  tamestabjan indicadoraprendiz  fonte\n",
              "0            202003     3.0  31.0  ...          3.0               0.0    1.0\n",
              "1            202003     5.0  51.0  ...          7.0               0.0    1.0\n",
              "2            202003     2.0  26.0  ...          4.0               0.0    1.0\n",
              "3            202003     3.0  35.0  ...         10.0               0.0    1.0\n",
              "4            202003     3.0  35.0  ...         10.0               0.0    1.0\n",
              "...             ...     ...   ...  ...          ...               ...    ...\n",
              "2999995      202012     3.0  35.0  ...          4.0               0.0    1.0\n",
              "2999996      202012     3.0  31.0  ...          9.0               0.0    1.0\n",
              "2999997      202012     3.0  35.0  ...         10.0               0.0    1.0\n",
              "2999998      202012     4.0  42.0  ...          7.0               0.0    1.0\n",
              "2999999      202012     3.0  35.0  ...          2.0               0.0    1.0\n",
              "\n",
              "[2999975 rows x 24 columns]"
            ]
          },
          "metadata": {
            "tags": []
          }
        }
      ]
    },
    {
      "cell_type": "code",
      "metadata": {
        "id": "fCkTL-0DRXmH"
      },
      "source": [
        "sexo_troca = {1:'Homem', 3:'Mulher'}\n",
        "df.loc[(df.sexo.isnull()), 'sexo'] = 9\n",
        "df['sexo'] = df['sexo'].apply(lambda x: sexo_troca[x])"
      ],
      "execution_count": null,
      "outputs": []
    },
    {
      "cell_type": "code",
      "metadata": {
        "colab": {
          "base_uri": "https://localhost:8080/",
          "height": 68
        },
        "id": "DggEWkWJNMGo",
        "outputId": "69232494-4d1c-4124-8313-90001b4b4738"
      },
      "source": [
        "display(df['sexo'].value_counts())"
      ],
      "execution_count": null,
      "outputs": [
        {
          "output_type": "display_data",
          "data": {
            "text/plain": [
              "Homem     1869145\n",
              "Mulher    1130830\n",
              "Name: sexo, dtype: int64"
            ]
          },
          "metadata": {
            "tags": []
          }
        }
      ]
    },
    {
      "cell_type": "code",
      "metadata": {
        "id": "2bG66RTVNMN8"
      },
      "source": [
        "tpmv_troca = {31:'Demissão', 43:'Desconsiderar', 60:'Desconsiderar', 33:'Desconsiderar', 99:'Desconsiderar', 32:'Demissão', 40:'Demissão', 45:'Demissão', 50:'Demissão', 80:'Demissão', 90:'Demissão', 98:'Demissão', 10:'Admissão', 20:'Admissão', 25:'Admissão', 35:'Admissão', 70:'Admissão'}\n",
        " \n",
        "df.loc[(df.tipomovimentacao.isnull()), 'tipomovimentacao'] = 9\n",
        "df['tipomovimentacao'] = df['tipomovimentacao'].apply(lambda x: tpmv_troca[x])"
      ],
      "execution_count": null,
      "outputs": []
    },
    {
      "cell_type": "code",
      "metadata": {
        "id": "adhZCITnNMQy",
        "colab": {
          "base_uri": "https://localhost:8080/"
        },
        "outputId": "2678393d-2b9b-4351-fa34-3c90985d6b08"
      },
      "source": [
        "df.groupby('tipomovimentacao').size()"
      ],
      "execution_count": null,
      "outputs": [
        {
          "output_type": "execute_result",
          "data": {
            "text/plain": [
              "tipomovimentacao\n",
              "Admissão         1470657\n",
              "Demissão         1274771\n",
              "Desconsiderar     254547\n",
              "dtype: int64"
            ]
          },
          "metadata": {
            "tags": []
          },
          "execution_count": 114
        }
      ]
    },
    {
      "cell_type": "code",
      "metadata": {
        "id": "pnvtyYEKNMTO"
      },
      "source": [
        "#Estilos usados no layout do gráfico \"Solarize_Light e bmh\"\n",
        "plt.style.use(\"Solarize_Light2\")"
      ],
      "execution_count": null,
      "outputs": []
    },
    {
      "cell_type": "code",
      "metadata": {
        "colab": {
          "base_uri": "https://localhost:8080/",
          "height": 467
        },
        "id": "_JZVDwuwRaon",
        "outputId": "3a3c62fe-3728-40a5-a054-6f7e30dd24d2"
      },
      "source": [
        "#Comparação entre o número de pessoas Admitidas e Demitidas por gênero.\n",
        "\n",
        "Homem = df.query('sexo == \"Homem\"').groupby('tipomovimentacao').size().sort_values().tail(2)\n",
        "Mulher = df.query('sexo == \"Mulher\"').groupby('tipomovimentacao').size().sort_values().tail(2)\n",
        "n_homem = dict(Homem)\n",
        "n_mulher = dict(Mulher)\n",
        "\n",
        "dados = {}\n",
        "\n",
        "tipomovimentacao = list(n_mulher.keys()) + list(n_homem.keys())\n",
        "tipomovimentacao = list(dict.fromkeys(tipomovimentacao))\n",
        "dados_grafico = {'tipomovimentacao': [], 'Mulher': [], 'Homem': []}\n",
        "for tipomovimentacao in tipomovimentacao :\n",
        "    if(tipomovimentacao in n_mulher.keys() and tipomovimentacao in n_homem.keys()):\n",
        "        dados_grafico['tipomovimentacao'].append(tipomovimentacao)\n",
        "        dados_grafico['Homem'].append(n_homem[tipomovimentacao])\n",
        "        dados_grafico['Mulher'].append(n_mulher[tipomovimentacao])\n",
        "        \n",
        "        \n",
        "labels = dados_grafico['tipomovimentacao']\n",
        "Homem = dados_grafico['Homem']\n",
        "Mulher = dados_grafico['Mulher']\n",
        "\n",
        "x = np.arange(len(labels)) \n",
        "width = 0.25\n",
        "\n",
        "fig, ax = plt.subplots(1,1,figsize=(10,7))\n",
        "rects1 = ax.bar(x + width/1.80, Homem, width, label='Homem', color='#315393')\n",
        "rects2 = ax.bar(x - width/1.80, Mulher, width, label='Mulher', color = '#933159')\n",
        "\n",
        "plt.xlabel('Tipo de Movimentação',color ='#2C79A0', fontsize=14, ha='center')\n",
        "plt.figtext(.090,.85,'Gênero',color ='k', fontsize=11, ha='center')\n",
        "ax.set_title('Admissões e Demissões por sexo', fontsize=20,color ='#2C79A0')\n",
        "ax.set_xticks(x)\n",
        "ax.set_xticklabels(labels)\n",
        "plt.legend(loc=2,prop={'size':13})\n",
        "plt.style.use(\"bmh\")\n",
        "def autolabel(rects):\n",
        "    for rect in rects:\n",
        "        height = rect.get_height()\n",
        "        ax.annotate('{}'.format(height),\n",
        "                    xy=(rect.get_x() + rect.get_width() / 2, height),\n",
        "                    xytext=(0, 3),\n",
        "                    textcoords=\"offset points\",\n",
        "                    ha='center', va='bottom')\n",
        "\n",
        " \n",
        "\n",
        "\n",
        "autolabel(rects1)\n",
        "autolabel(rects2)\n",
        "plt.show()"
      ],
      "execution_count": null,
      "outputs": [
        {
          "output_type": "display_data",
          "data": {
            "image/png": "[encoded data removed]",
            "text/plain": [
              "<Figure size 720x504 with 1 Axes>"
            ]
          },
          "metadata": {
            "tags": []
          }
        }
      ]
    },
    {
      "cell_type": "code",
      "metadata": {
        "id": "-xjY_OP3RbCd"
      },
      "source": [
        "#Questão4\n",
        "#4 - Quero saber a quantidade de demissões por tipo, tipo movimentação / demissão. - Diferença salarial entre homens e mulheres admitidos; - Diferença salarial entre homens e mulheres demitidos; - Média salarial por raça/cor;"
      ],
      "execution_count": null,
      "outputs": []
    },
    {
      "cell_type": "code",
      "metadata": {
        "colab": {
          "base_uri": "https://localhost:8080/",
          "height": 473
        },
        "id": "mSvcEx-iYj7-",
        "outputId": "dc157672-1bc1-4544-d87f-fa6345998145"
      },
      "source": [
        "tabela = ('/content/drive/MyDrive/CAGEDLIGTH.csv')\n",
        "df = pd.read_csv(tabela, delimiter=';',\n",
        "                encoding='ISO-8859-1',\n",
        "                error_bad_lines=False)\n",
        "display(df)"
      ],
      "execution_count": null,
      "outputs": [
        {
          "output_type": "stream",
          "text": [
            "/usr/local/lib/python3.7/dist-packages/IPython/core/interactiveshell.py:2718: DtypeWarning: Columns (0) have mixed types.Specify dtype option on import or set low_memory=False.\n",
            "  interactivity=interactivity, compiler=compiler, result=result)\n"
          ],
          "name": "stderr"
        },
        {
          "output_type": "display_data",
          "data": {
            "text/html": [
              "<div>\n",
              "<style scoped>\n",
              "    .dataframe tbody tr th:only-of-type {\n",
              "        vertical-align: middle;\n",
              "    }\n",
              "\n",
              "    .dataframe tbody tr th {\n",
              "        vertical-align: top;\n",
              "    }\n",
              "\n",
              "    .dataframe thead th {\n",
              "        text-align: right;\n",
              "    }\n",
              "</style>\n",
              "<table border=\"1\" class=\"dataframe\">\n",
              "  <thead>\n",
              "    <tr style=\"text-align: right;\">\n",
              "      <th></th>\n",
              "      <th>competencia</th>\n",
              "      <th>regiao</th>\n",
              "      <th>uf</th>\n",
              "      <th>municipio</th>\n",
              "      <th>secao</th>\n",
              "      <th>subclasse</th>\n",
              "      <th>saldomovimentacao</th>\n",
              "      <th>cbo2002ocupacao</th>\n",
              "      <th>categoria</th>\n",
              "      <th>graudeinstrucao</th>\n",
              "      <th>idade</th>\n",
              "      <th>horascontratuais</th>\n",
              "      <th>racacor</th>\n",
              "      <th>sexo</th>\n",
              "      <th>tipoempregador</th>\n",
              "      <th>tipoestabelecimento</th>\n",
              "      <th>tipomovimentacao</th>\n",
              "      <th>tipodedeficiencia</th>\n",
              "      <th>indtrabintermitente</th>\n",
              "      <th>indtrabparcial</th>\n",
              "      <th>salario</th>\n",
              "      <th>tamestabjan</th>\n",
              "      <th>indicadoraprendiz</th>\n",
              "      <th>fonte</th>\n",
              "    </tr>\n",
              "  </thead>\n",
              "  <tbody>\n",
              "    <tr>\n",
              "      <th>0</th>\n",
              "      <td>202003</td>\n",
              "      <td>3.0</td>\n",
              "      <td>31.0</td>\n",
              "      <td>317020.0</td>\n",
              "      <td>G</td>\n",
              "      <td>4752100.0</td>\n",
              "      <td>-1.0</td>\n",
              "      <td>521110.0</td>\n",
              "      <td>999.0</td>\n",
              "      <td>7.0</td>\n",
              "      <td>21.0</td>\n",
              "      <td>44.0</td>\n",
              "      <td>6.0</td>\n",
              "      <td>3.0</td>\n",
              "      <td>0.0</td>\n",
              "      <td>1.0</td>\n",
              "      <td>31.0</td>\n",
              "      <td>0.0</td>\n",
              "      <td>0.0</td>\n",
              "      <td>0.0</td>\n",
              "      <td>1165.859985</td>\n",
              "      <td>3.0</td>\n",
              "      <td>0.0</td>\n",
              "      <td>1.0</td>\n",
              "    </tr>\n",
              "    <tr>\n",
              "      <th>1</th>\n",
              "      <td>202003</td>\n",
              "      <td>5.0</td>\n",
              "      <td>51.0</td>\n",
              "      <td>510795.0</td>\n",
              "      <td>G</td>\n",
              "      <td>4711301.0</td>\n",
              "      <td>-1.0</td>\n",
              "      <td>421125.0</td>\n",
              "      <td>101.0</td>\n",
              "      <td>7.0</td>\n",
              "      <td>34.0</td>\n",
              "      <td>44.0</td>\n",
              "      <td>3.0</td>\n",
              "      <td>3.0</td>\n",
              "      <td>0.0</td>\n",
              "      <td>1.0</td>\n",
              "      <td>40.0</td>\n",
              "      <td>0.0</td>\n",
              "      <td>0.0</td>\n",
              "      <td>0.0</td>\n",
              "      <td>1020.000000</td>\n",
              "      <td>7.0</td>\n",
              "      <td>0.0</td>\n",
              "      <td>1.0</td>\n",
              "    </tr>\n",
              "    <tr>\n",
              "      <th>2</th>\n",
              "      <td>202003</td>\n",
              "      <td>2.0</td>\n",
              "      <td>26.0</td>\n",
              "      <td>260790.0</td>\n",
              "      <td>C</td>\n",
              "      <td>3292202.0</td>\n",
              "      <td>-1.0</td>\n",
              "      <td>862150.0</td>\n",
              "      <td>101.0</td>\n",
              "      <td>7.0</td>\n",
              "      <td>37.0</td>\n",
              "      <td>44.0</td>\n",
              "      <td>6.0</td>\n",
              "      <td>1.0</td>\n",
              "      <td>0.0</td>\n",
              "      <td>1.0</td>\n",
              "      <td>31.0</td>\n",
              "      <td>0.0</td>\n",
              "      <td>0.0</td>\n",
              "      <td>0.0</td>\n",
              "      <td>1200.000000</td>\n",
              "      <td>4.0</td>\n",
              "      <td>0.0</td>\n",
              "      <td>1.0</td>\n",
              "    </tr>\n",
              "    <tr>\n",
              "      <th>3</th>\n",
              "      <td>202003</td>\n",
              "      <td>3.0</td>\n",
              "      <td>35.0</td>\n",
              "      <td>355030.0</td>\n",
              "      <td>N</td>\n",
              "      <td>7820500.0</td>\n",
              "      <td>-1.0</td>\n",
              "      <td>422105.0</td>\n",
              "      <td>106.0</td>\n",
              "      <td>7.0</td>\n",
              "      <td>20.0</td>\n",
              "      <td>44.0</td>\n",
              "      <td>1.0</td>\n",
              "      <td>3.0</td>\n",
              "      <td>0.0</td>\n",
              "      <td>1.0</td>\n",
              "      <td>43.0</td>\n",
              "      <td>0.0</td>\n",
              "      <td>0.0</td>\n",
              "      <td>0.0</td>\n",
              "      <td>1396.000000</td>\n",
              "      <td>10.0</td>\n",
              "      <td>0.0</td>\n",
              "      <td>1.0</td>\n",
              "    </tr>\n",
              "    <tr>\n",
              "      <th>4</th>\n",
              "      <td>202003</td>\n",
              "      <td>3.0</td>\n",
              "      <td>35.0</td>\n",
              "      <td>355030.0</td>\n",
              "      <td>R</td>\n",
              "      <td>9312300.0</td>\n",
              "      <td>-1.0</td>\n",
              "      <td>517330.0</td>\n",
              "      <td>101.0</td>\n",
              "      <td>7.0</td>\n",
              "      <td>36.0</td>\n",
              "      <td>44.0</td>\n",
              "      <td>2.0</td>\n",
              "      <td>1.0</td>\n",
              "      <td>0.0</td>\n",
              "      <td>1.0</td>\n",
              "      <td>31.0</td>\n",
              "      <td>0.0</td>\n",
              "      <td>0.0</td>\n",
              "      <td>0.0</td>\n",
              "      <td>2474.189941</td>\n",
              "      <td>10.0</td>\n",
              "      <td>0.0</td>\n",
              "      <td>1.0</td>\n",
              "    </tr>\n",
              "    <tr>\n",
              "      <th>...</th>\n",
              "      <td>...</td>\n",
              "      <td>...</td>\n",
              "      <td>...</td>\n",
              "      <td>...</td>\n",
              "      <td>...</td>\n",
              "      <td>...</td>\n",
              "      <td>...</td>\n",
              "      <td>...</td>\n",
              "      <td>...</td>\n",
              "      <td>...</td>\n",
              "      <td>...</td>\n",
              "      <td>...</td>\n",
              "      <td>...</td>\n",
              "      <td>...</td>\n",
              "      <td>...</td>\n",
              "      <td>...</td>\n",
              "      <td>...</td>\n",
              "      <td>...</td>\n",
              "      <td>...</td>\n",
              "      <td>...</td>\n",
              "      <td>...</td>\n",
              "      <td>...</td>\n",
              "      <td>...</td>\n",
              "      <td>...</td>\n",
              "    </tr>\n",
              "    <tr>\n",
              "      <th>2999996</th>\n",
              "      <td>202012</td>\n",
              "      <td>3.0</td>\n",
              "      <td>31.0</td>\n",
              "      <td>310620.0</td>\n",
              "      <td>J</td>\n",
              "      <td>6201501.0</td>\n",
              "      <td>1.0</td>\n",
              "      <td>212405.0</td>\n",
              "      <td>101.0</td>\n",
              "      <td>9.0</td>\n",
              "      <td>34.0</td>\n",
              "      <td>40.0</td>\n",
              "      <td>1.0</td>\n",
              "      <td>1.0</td>\n",
              "      <td>0.0</td>\n",
              "      <td>1.0</td>\n",
              "      <td>20.0</td>\n",
              "      <td>0.0</td>\n",
              "      <td>0.0</td>\n",
              "      <td>0.0</td>\n",
              "      <td>10800.000000</td>\n",
              "      <td>9.0</td>\n",
              "      <td>0.0</td>\n",
              "      <td>1.0</td>\n",
              "    </tr>\n",
              "    <tr>\n",
              "      <th>2999997</th>\n",
              "      <td>202012</td>\n",
              "      <td>3.0</td>\n",
              "      <td>35.0</td>\n",
              "      <td>355030.0</td>\n",
              "      <td>N</td>\n",
              "      <td>7820500.0</td>\n",
              "      <td>-1.0</td>\n",
              "      <td>322205.0</td>\n",
              "      <td>106.0</td>\n",
              "      <td>7.0</td>\n",
              "      <td>23.0</td>\n",
              "      <td>36.0</td>\n",
              "      <td>3.0</td>\n",
              "      <td>3.0</td>\n",
              "      <td>0.0</td>\n",
              "      <td>1.0</td>\n",
              "      <td>43.0</td>\n",
              "      <td>0.0</td>\n",
              "      <td>0.0</td>\n",
              "      <td>0.0</td>\n",
              "      <td>1740.560059</td>\n",
              "      <td>10.0</td>\n",
              "      <td>0.0</td>\n",
              "      <td>1.0</td>\n",
              "    </tr>\n",
              "    <tr>\n",
              "      <th>2999998</th>\n",
              "      <td>202012</td>\n",
              "      <td>4.0</td>\n",
              "      <td>42.0</td>\n",
              "      <td>420540.0</td>\n",
              "      <td>G</td>\n",
              "      <td>4711302.0</td>\n",
              "      <td>-1.0</td>\n",
              "      <td>517330.0</td>\n",
              "      <td>101.0</td>\n",
              "      <td>7.0</td>\n",
              "      <td>47.0</td>\n",
              "      <td>44.0</td>\n",
              "      <td>3.0</td>\n",
              "      <td>1.0</td>\n",
              "      <td>0.0</td>\n",
              "      <td>1.0</td>\n",
              "      <td>40.0</td>\n",
              "      <td>0.0</td>\n",
              "      <td>0.0</td>\n",
              "      <td>0.0</td>\n",
              "      <td>1473.849976</td>\n",
              "      <td>7.0</td>\n",
              "      <td>0.0</td>\n",
              "      <td>1.0</td>\n",
              "    </tr>\n",
              "    <tr>\n",
              "      <th>2999999</th>\n",
              "      <td>202012</td>\n",
              "      <td>3.0</td>\n",
              "      <td>35.0</td>\n",
              "      <td>351870.0</td>\n",
              "      <td>G</td>\n",
              "      <td>4721104.0</td>\n",
              "      <td>-1.0</td>\n",
              "      <td>521110.0</td>\n",
              "      <td>101.0</td>\n",
              "      <td>6.0</td>\n",
              "      <td>16.0</td>\n",
              "      <td>44.0</td>\n",
              "      <td>1.0</td>\n",
              "      <td>3.0</td>\n",
              "      <td>0.0</td>\n",
              "      <td>1.0</td>\n",
              "      <td>40.0</td>\n",
              "      <td>0.0</td>\n",
              "      <td>0.0</td>\n",
              "      <td>0.0</td>\n",
              "      <td>1056.569946</td>\n",
              "      <td>2.0</td>\n",
              "      <td>0.0</td>\n",
              "      <td>1.0</td>\n",
              "    </tr>\n",
              "    <tr>\n",
              "      <th>3000000</th>\n",
              "      <td>\u001a</td>\n",
              "      <td>NaN</td>\n",
              "      <td>NaN</td>\n",
              "      <td>NaN</td>\n",
              "      <td>NaN</td>\n",
              "      <td>NaN</td>\n",
              "      <td>NaN</td>\n",
              "      <td>NaN</td>\n",
              "      <td>NaN</td>\n",
              "      <td>NaN</td>\n",
              "      <td>NaN</td>\n",
              "      <td>NaN</td>\n",
              "      <td>NaN</td>\n",
              "      <td>NaN</td>\n",
              "      <td>NaN</td>\n",
              "      <td>NaN</td>\n",
              "      <td>NaN</td>\n",
              "      <td>NaN</td>\n",
              "      <td>NaN</td>\n",
              "      <td>NaN</td>\n",
              "      <td>NaN</td>\n",
              "      <td>NaN</td>\n",
              "      <td>NaN</td>\n",
              "      <td>NaN</td>\n",
              "    </tr>\n",
              "  </tbody>\n",
              "</table>\n",
              "<p>3000001 rows × 24 columns</p>\n",
              "</div>"
            ],
            "text/plain": [
              "        competencia  regiao    uf  ...  tamestabjan indicadoraprendiz  fonte\n",
              "0            202003     3.0  31.0  ...          3.0               0.0    1.0\n",
              "1            202003     5.0  51.0  ...          7.0               0.0    1.0\n",
              "2            202003     2.0  26.0  ...          4.0               0.0    1.0\n",
              "3            202003     3.0  35.0  ...         10.0               0.0    1.0\n",
              "4            202003     3.0  35.0  ...         10.0               0.0    1.0\n",
              "...             ...     ...   ...  ...          ...               ...    ...\n",
              "2999996      202012     3.0  31.0  ...          9.0               0.0    1.0\n",
              "2999997      202012     3.0  35.0  ...         10.0               0.0    1.0\n",
              "2999998      202012     4.0  42.0  ...          7.0               0.0    1.0\n",
              "2999999      202012     3.0  35.0  ...          2.0               0.0    1.0\n",
              "3000000           \u001a     NaN   NaN  ...          NaN               NaN    NaN\n",
              "\n",
              "[3000001 rows x 24 columns]"
            ]
          },
          "metadata": {
            "tags": []
          }
        }
      ]
    },
    {
      "cell_type": "code",
      "metadata": {
        "id": "1W4R5B6ouUZI",
        "colab": {
          "base_uri": "https://localhost:8080/",
          "height": 419
        },
        "outputId": "8a3f3820-213d-48d0-a30a-a32a926eabac"
      },
      "source": [
        "# filtrando por tipomovimentação e sexo\n",
        "\n",
        "tpmovsexo = df.filter(['tipomovimentacao','sexo'])\n",
        "\n",
        "# remover a coluna que está 100% vazia\n",
        "df = df.dropna(how='all', axis=1)\n",
        "\n",
        "# remover a linha que tem um item vazio\n",
        "df = df.dropna()\n",
        "display(tpmovsexo)"
      ],
      "execution_count": null,
      "outputs": [
        {
          "output_type": "display_data",
          "data": {
            "text/html": [
              "<div>\n",
              "<style scoped>\n",
              "    .dataframe tbody tr th:only-of-type {\n",
              "        vertical-align: middle;\n",
              "    }\n",
              "\n",
              "    .dataframe tbody tr th {\n",
              "        vertical-align: top;\n",
              "    }\n",
              "\n",
              "    .dataframe thead th {\n",
              "        text-align: right;\n",
              "    }\n",
              "</style>\n",
              "<table border=\"1\" class=\"dataframe\">\n",
              "  <thead>\n",
              "    <tr style=\"text-align: right;\">\n",
              "      <th></th>\n",
              "      <th>tipomovimentacao</th>\n",
              "      <th>sexo</th>\n",
              "    </tr>\n",
              "  </thead>\n",
              "  <tbody>\n",
              "    <tr>\n",
              "      <th>0</th>\n",
              "      <td>31.0</td>\n",
              "      <td>3.0</td>\n",
              "    </tr>\n",
              "    <tr>\n",
              "      <th>1</th>\n",
              "      <td>40.0</td>\n",
              "      <td>3.0</td>\n",
              "    </tr>\n",
              "    <tr>\n",
              "      <th>2</th>\n",
              "      <td>31.0</td>\n",
              "      <td>1.0</td>\n",
              "    </tr>\n",
              "    <tr>\n",
              "      <th>3</th>\n",
              "      <td>43.0</td>\n",
              "      <td>3.0</td>\n",
              "    </tr>\n",
              "    <tr>\n",
              "      <th>4</th>\n",
              "      <td>31.0</td>\n",
              "      <td>1.0</td>\n",
              "    </tr>\n",
              "    <tr>\n",
              "      <th>...</th>\n",
              "      <td>...</td>\n",
              "      <td>...</td>\n",
              "    </tr>\n",
              "    <tr>\n",
              "      <th>2999996</th>\n",
              "      <td>20.0</td>\n",
              "      <td>1.0</td>\n",
              "    </tr>\n",
              "    <tr>\n",
              "      <th>2999997</th>\n",
              "      <td>43.0</td>\n",
              "      <td>3.0</td>\n",
              "    </tr>\n",
              "    <tr>\n",
              "      <th>2999998</th>\n",
              "      <td>40.0</td>\n",
              "      <td>1.0</td>\n",
              "    </tr>\n",
              "    <tr>\n",
              "      <th>2999999</th>\n",
              "      <td>40.0</td>\n",
              "      <td>3.0</td>\n",
              "    </tr>\n",
              "    <tr>\n",
              "      <th>3000000</th>\n",
              "      <td>NaN</td>\n",
              "      <td>NaN</td>\n",
              "    </tr>\n",
              "  </tbody>\n",
              "</table>\n",
              "<p>3000001 rows × 2 columns</p>\n",
              "</div>"
            ],
            "text/plain": [
              "         tipomovimentacao  sexo\n",
              "0                    31.0   3.0\n",
              "1                    40.0   3.0\n",
              "2                    31.0   1.0\n",
              "3                    43.0   3.0\n",
              "4                    31.0   1.0\n",
              "...                   ...   ...\n",
              "2999996              20.0   1.0\n",
              "2999997              43.0   3.0\n",
              "2999998              40.0   1.0\n",
              "2999999              40.0   3.0\n",
              "3000000               NaN   NaN\n",
              "\n",
              "[3000001 rows x 2 columns]"
            ]
          },
          "metadata": {
            "tags": []
          }
        }
      ]
    },
    {
      "cell_type": "code",
      "metadata": {
        "id": "D8_EDEOGa4P9"
      },
      "source": [
        "sexo_troca = {1:'Homem', 3:'Mulher'}\n",
        "df.loc[(df.sexo.isnull()), 'sexo'] = 9\n",
        "df['sexo'] = df['sexo'].apply(lambda x: sexo_troca[x])"
      ],
      "execution_count": null,
      "outputs": []
    },
    {
      "cell_type": "code",
      "metadata": {
        "colab": {
          "base_uri": "https://localhost:8080/",
          "height": 68
        },
        "id": "F04QIjRpa5q1",
        "outputId": "a75c749f-4c12-4934-e397-ed8563dd8079"
      },
      "source": [
        "display(df['sexo'].value_counts())"
      ],
      "execution_count": null,
      "outputs": [
        {
          "output_type": "display_data",
          "data": {
            "text/plain": [
              "Homem     1869145\n",
              "Mulher    1130830\n",
              "Name: sexo, dtype: int64"
            ]
          },
          "metadata": {
            "tags": []
          }
        }
      ]
    },
    {
      "cell_type": "code",
      "metadata": {
        "id": "En62Iqera7Vp"
      },
      "source": [
        "df = df.assign(tipomovimentacao2=0)\n",
        "df['tipomovimentacao2'] = df['tipomovimentacao']"
      ],
      "execution_count": null,
      "outputs": []
    },
    {
      "cell_type": "code",
      "metadata": {
        "id": "Xz-p8xp8a8xy"
      },
      "source": [
        "tpmv_troca = {31:'Demissão', 43:'Desconsiderar', 60:'Desconsiderar', 33:'Desconsiderar', 99:'Desconsiderar', 32:'Demissão', 40:'Demissão', 45:'Demissão', 50:'Demissão', 80:'Demissão', 90:'Demissão', 98:'Demissão', 10:'Admissão', 20:'Admissão', 25:'Admissão', 35:'Admissão', 70:'Admissão'}\n",
        " \n",
        "df.loc[(df.tipomovimentacao.isnull()), 'tipomovimentacao'] = 9\n",
        "df['tipomovimentacao'] = df['tipomovimentacao'].apply(lambda x: tpmv_troca[x])"
      ],
      "execution_count": null,
      "outputs": []
    },
    {
      "cell_type": "code",
      "metadata": {
        "id": "diP9OlsRa-fZ"
      },
      "source": [
        "raca_troca = {1:'Branca', 2:'Preta', 3:'Parda', 4:'Amarela', 5:'Indígena', 6:'Não informada', 9:'Não identificada'}\n",
        "df.loc[(df.racacor.isnull()), 'racacor'] = 9\n",
        "df['racacor'] = df['racacor'].apply(lambda x: raca_troca[x])"
      ],
      "execution_count": null,
      "outputs": []
    },
    {
      "cell_type": "code",
      "metadata": {
        "id": "89_Iky09fcwu",
        "colab": {
          "base_uri": "https://localhost:8080/"
        },
        "outputId": "a3995eb4-a289-4b6b-d88f-b887a2e8b110"
      },
      "source": [
        "df.groupby('tipomovimentacao').size()"
      ],
      "execution_count": null,
      "outputs": [
        {
          "output_type": "execute_result",
          "data": {
            "text/plain": [
              "tipomovimentacao\n",
              "Admissão         1470657\n",
              "Demissão         1274771\n",
              "Desconsiderar     254547\n",
              "dtype: int64"
            ]
          },
          "metadata": {
            "tags": []
          },
          "execution_count": 125
        }
      ]
    },
    {
      "cell_type": "code",
      "metadata": {
        "id": "sV3b1wRhfe3q"
      },
      "source": [
        "#Estilos usados no layout do gráfico \"Solarize_Light e bmh\"\n",
        "plt.style.use(\"Solarize_Light2\")"
      ],
      "execution_count": null,
      "outputs": []
    },
    {
      "cell_type": "code",
      "metadata": {
        "id": "oOfvcmm6yLQ6"
      },
      "source": [
        "#Cria um novo dataframe para cado dado de demitidos e admitidos separadamente\n",
        "Demitidos = pd.DataFrame(columns=['salario','demitidos','genero'])\n",
        "Admitidos = pd.DataFrame(columns=['salario','admitidos','genero'])\n",
        "\n",
        "Demitidos['demitidos'] = df['tipomovimentacao']\n",
        "Admitidos['admitidos'] = df['tipomovimentacao']\n",
        "\n",
        "Demitidos['salario'] = df['salario']\n",
        "Admitidos['salario'] = df['salario']\n",
        "\n",
        "Demitidos['genero'] = df['sexo']\n",
        "Admitidos['genero'] = df['sexo']\n",
        "\n",
        "demitido = Demitidos.loc[(Demitidos.demitidos !='Demissão'),'demitidos'].index\n",
        "admitido = Admitidos.loc[(Admitidos.admitidos !='Admissão'),'admitidos'].index\n",
        "\n",
        "\n",
        "Demitidos = Demitidos.drop(demitido)\n",
        "Admitidos = Admitidos.drop(admitido)\n",
        "\n"
      ],
      "execution_count": null,
      "outputs": []
    },
    {
      "cell_type": "code",
      "metadata": {
        "colab": {
          "base_uri": "https://localhost:8080/",
          "height": 204
        },
        "id": "UyhrZTk9zn7p",
        "outputId": "556e6a69-db71-4fdc-c0bb-653527882e5f"
      },
      "source": [
        "Admitidos.sample(5)"
      ],
      "execution_count": null,
      "outputs": [
        {
          "output_type": "execute_result",
          "data": {
            "text/html": [
              "<div>\n",
              "<style scoped>\n",
              "    .dataframe tbody tr th:only-of-type {\n",
              "        vertical-align: middle;\n",
              "    }\n",
              "\n",
              "    .dataframe tbody tr th {\n",
              "        vertical-align: top;\n",
              "    }\n",
              "\n",
              "    .dataframe thead th {\n",
              "        text-align: right;\n",
              "    }\n",
              "</style>\n",
              "<table border=\"1\" class=\"dataframe\">\n",
              "  <thead>\n",
              "    <tr style=\"text-align: right;\">\n",
              "      <th></th>\n",
              "      <th>salario</th>\n",
              "      <th>admitidos</th>\n",
              "      <th>genero</th>\n",
              "    </tr>\n",
              "  </thead>\n",
              "  <tbody>\n",
              "    <tr>\n",
              "      <th>1725388</th>\n",
              "      <td>1362.689941</td>\n",
              "      <td>Admissão</td>\n",
              "      <td>Homem</td>\n",
              "    </tr>\n",
              "    <tr>\n",
              "      <th>2357388</th>\n",
              "      <td>1308.000000</td>\n",
              "      <td>Admissão</td>\n",
              "      <td>Mulher</td>\n",
              "    </tr>\n",
              "    <tr>\n",
              "      <th>1131028</th>\n",
              "      <td>1045.000000</td>\n",
              "      <td>Admissão</td>\n",
              "      <td>Homem</td>\n",
              "    </tr>\n",
              "    <tr>\n",
              "      <th>1230337</th>\n",
              "      <td>1392.020020</td>\n",
              "      <td>Admissão</td>\n",
              "      <td>Homem</td>\n",
              "    </tr>\n",
              "    <tr>\n",
              "      <th>2952334</th>\n",
              "      <td>1661.000000</td>\n",
              "      <td>Admissão</td>\n",
              "      <td>Homem</td>\n",
              "    </tr>\n",
              "  </tbody>\n",
              "</table>\n",
              "</div>"
            ],
            "text/plain": [
              "             salario admitidos  genero\n",
              "1725388  1362.689941  Admissão   Homem\n",
              "2357388  1308.000000  Admissão  Mulher\n",
              "1131028  1045.000000  Admissão   Homem\n",
              "1230337  1392.020020  Admissão   Homem\n",
              "2952334  1661.000000  Admissão   Homem"
            ]
          },
          "metadata": {
            "tags": []
          },
          "execution_count": 128
        }
      ]
    },
    {
      "cell_type": "code",
      "metadata": {
        "id": "FZtpRXqB2C8a",
        "colab": {
          "base_uri": "https://localhost:8080/",
          "height": 310
        },
        "outputId": "17bc03ac-99a6-4809-c904-7514acbbd717"
      },
      "source": [
        "#Diferença salarial entre admitidos\n",
        "sns.barplot(data=Admitidos,x='genero', y ='salario',hue='genero')"
      ],
      "execution_count": null,
      "outputs": [
        {
          "output_type": "execute_result",
          "data": {
            "text/plain": [
              "<matplotlib.axes._subplots.AxesSubplot at 0x7f0a174cf790>"
            ]
          },
          "metadata": {
            "tags": []
          },
          "execution_count": 129
        },
        {
          "output_type": "display_data",
          "data": {
            "image/png": "[encoded data removed]",
            "text/plain": [
              "<Figure size 432x288 with 1 Axes>"
            ]
          },
          "metadata": {
            "tags": []
          }
        }
      ]
    },
    {
      "cell_type": "code",
      "metadata": {
        "id": "dhyeTSOx7V8A",
        "colab": {
          "base_uri": "https://localhost:8080/",
          "height": 300
        },
        "outputId": "d359eab5-4551-4818-e9d1-f7cccc022709"
      },
      "source": [
        "#Diferença salarial entre demitidos\n",
        "sns.barplot(data=Demitidos,x='genero', y ='salario',hue='genero')"
      ],
      "execution_count": null,
      "outputs": [
        {
          "output_type": "execute_result",
          "data": {
            "text/plain": [
              "<matplotlib.axes._subplots.AxesSubplot at 0x7f0a1ee75310>"
            ]
          },
          "metadata": {
            "tags": []
          },
          "execution_count": 141
        },
        {
          "output_type": "display_data",
          "data": {
            "image/png": "[encoded data removed]",
            "text/plain": [
              "<Figure size 432x288 with 1 Axes>"
            ]
          },
          "metadata": {
            "tags": []
          }
        }
      ]
    },
    {
      "cell_type": "code",
      "metadata": {
        "id": "XgMWR_pC2C_R"
      },
      "source": [
        "#Media salarial raça/cor\n",
        "\n",
        "Total_Branca = len(df.loc[(df.racacor =='Branca'),'racacor'])\n",
        "Total_Preta = len(df.loc[(df.racacor =='Preta'),'racacor'])\n",
        "Total_Branca = len(df.loc[(df.racacor =='Branca'),'racacor'])\n",
        "Total_Parda = len(df.loc[(df.racacor =='Parda'),'racacor'])\n",
        "Total_Amarela = len(df.loc[(df.racacor =='Amarela'),'racacor'])\n",
        "Total_Indígena = len(df.loc[(df.racacor =='Indígena'),'racacor'])\n",
        "\n",
        "\n",
        "I_Preta = df.loc[(df.racacor =='Preta'),'racacor'].index\n",
        "I_Branca = df.loc[(df.racacor =='Branca'),'racacor'].index\n",
        "I_Parda = df.loc[(df.racacor =='Parda'),'racacor'].index\n",
        "I_Amarela = df.loc[(df.racacor =='Amarela'),'racacor'].index\n",
        "I_Indígena = df.loc[(df.racacor =='Indígena'),'racacor'].index"
      ],
      "execution_count": null,
      "outputs": []
    },
    {
      "cell_type": "code",
      "metadata": {
        "id": "U6XKA2UqMnhw"
      },
      "source": [
        "T_Preta = df['salario'][I_Preta].sum()\n",
        "T_Branca = df['salario'][I_Branca].sum()\n",
        "T_Parda = df['salario'][I_Parda].sum()\n",
        "T_Amarela = df['salario'][I_Amarela].sum()\n",
        "T_Indígena = df['salario'][I_Indígena].sum()\n"
      ],
      "execution_count": null,
      "outputs": []
    },
    {
      "cell_type": "code",
      "metadata": {
        "id": "aveBTfS1T9gE"
      },
      "source": [
        "M_Preta = T_Preta/Total_Preta\n",
        "M_Branca = T_Branca/Total_Branca\n",
        "M_Parda = T_Parda/Total_Parda\n",
        "M_Amarela = T_Amarela/Total_Amarela\n",
        "M_Indígena =T_Indígena/Total_Indígena"
      ],
      "execution_count": null,
      "outputs": []
    },
    {
      "cell_type": "code",
      "metadata": {
        "id": "GmSepFYxU2xU"
      },
      "source": [
        "media = pd.DataFrame(columns=['cor','media'])"
      ],
      "execution_count": null,
      "outputs": []
    },
    {
      "cell_type": "code",
      "metadata": {
        "id": "hfgEGbhRX-KV"
      },
      "source": [
        "media['media']= [M_Preta,M_Branca,M_Parda,M_Amarela,M_Indígena]\n",
        "media['cor'] = ['Preta','Branca','Parda','Amarela','Indígena']"
      ],
      "execution_count": null,
      "outputs": []
    },
    {
      "cell_type": "code",
      "metadata": {
        "id": "LZQ6z8-u2DCg",
        "colab": {
          "base_uri": "https://localhost:8080/",
          "height": 619
        },
        "outputId": "0034b2e8-0d7e-4f71-c3a5-cc2b8b84d947"
      },
      "source": [
        "sns.catplot(y='media',hue=\"cor\", kind=\"count\",height=8, palette = 'bright', aspect=0.9, data=media)\n"
      ],
      "execution_count": null,
      "outputs": [
        {
          "output_type": "execute_result",
          "data": {
            "text/plain": [
              "<seaborn.axisgrid.FacetGrid at 0x7f0a174be8d0>"
            ]
          },
          "metadata": {
            "tags": []
          },
          "execution_count": 136
        },
        {
          "output_type": "display_data",
          "data": {
            "image/png": "[encoded data removed]",
            "text/plain": [
              "<Figure size 597.9x576 with 1 Axes>"
            ]
          },
          "metadata": {
            "tags": []
          }
        }
      ]
    },
    {
      "cell_type": "code",
      "metadata": {
        "id": "oUitWyIw1yQ9"
      },
      "source": [
        "TipoMovDemissao = {\n",
        "31:'Demissão sem Justa Causa', 32:'Demissão com Justa Causa', \n",
        "33:'Culpa Recíproca', 40:'Desligamento a Pedido', 43:'Término contrato trabalho prazo determinado',\n",
        "45:'Término de Contrato', 50:'Aposentadoria', \n",
        "60:'Desligamento por morte', 80:'Desligamento por Transferência', \n",
        "90:'Acordo Empregado e Empregador',\n",
        "98:'Desligamento de Tipo Ignorado',\n",
        "99:'Não Identificado'}"
      ],
      "execution_count": null,
      "outputs": []
    },
    {
      "cell_type": "code",
      "metadata": {
        "id": "_tVysCY411DM"
      },
      "source": [
        "df['tipomovimentacao2'] = df['tipomovimentacao2'].map(TipoMovDemissao)"
      ],
      "execution_count": null,
      "outputs": []
    },
    {
      "cell_type": "code",
      "metadata": {
        "colab": {
          "base_uri": "https://localhost:8080/"
        },
        "id": "srh762Kr136F",
        "outputId": "0e0ddc5a-2e51-4cdb-dc43-508f16a13782"
      },
      "source": [
        "df.groupby('tipomovimentacao2').size()"
      ],
      "execution_count": null,
      "outputs": [
        {
          "output_type": "execute_result",
          "data": {
            "text/plain": [
              "tipomovimentacao2\n",
              "Acordo Empregado e Empregador                   16785\n",
              "Aposentadoria                                    1386\n",
              "Culpa Recíproca                                  2317\n",
              "Demissão com Justa Causa                        18593\n",
              "Demissão sem Justa Causa                       874772\n",
              "Desligamento a Pedido                          350933\n",
              "Desligamento de Tipo Ignorado                      82\n",
              "Desligamento por morte                           6854\n",
              "Não Identificado                                 6905\n",
              "Término contrato trabalho prazo determinado    238471\n",
              "Término de Contrato                             12220\n",
              "dtype: int64"
            ]
          },
          "metadata": {
            "tags": []
          },
          "execution_count": 139
        }
      ]
    },
    {
      "cell_type": "code",
      "metadata": {
        "colab": {
          "base_uri": "https://localhost:8080/",
          "height": 619
        },
        "id": "5JBxfN7b1Igd",
        "outputId": "bca73a46-df91-4d87-d5e4-65294f58c860"
      },
      "source": [
        "sns.catplot(x=\"sexo\",hue=\"tipomovimentacao2\", kind=\"count\",height=8, palette = 'bright', aspect=0.9, data=df)"
      ],
      "execution_count": null,
      "outputs": [
        {
          "output_type": "execute_result",
          "data": {
            "text/plain": [
              "<seaborn.axisgrid.FacetGrid at 0x7f0a1757ad90>"
            ]
          },
          "metadata": {
            "tags": []
          },
          "execution_count": 140
        },
        {
          "output_type": "display_data",
          "data": {
            "image/png": "[encoded data removed]",
            "text/plain": [
              "<Figure size 781.275x576 with 1 Axes>"
            ]
          },
          "metadata": {
            "tags": []
          }
        }
      ]
    },
    {
      "cell_type": "code",
      "metadata": {
        "id": "s80syyj0RbFU"
      },
      "source": [
        "#Questão5\n",
        "#5 - Quero poder visualizar as causas de demissão formalizadas pelos empregadores distribuídas por sexo, raça/cor e faixa etária;\n",
        "\n"
      ],
      "execution_count": null,
      "outputs": []
    },
    {
      "cell_type": "code",
      "metadata": {
        "id": "zgUZ03ALRbIM",
        "colab": {
          "base_uri": "https://localhost:8080/"
        },
        "outputId": "103c4e7a-a299-455b-b1b8-7cf8971d5bd8"
      },
      "source": [
        "#Importando a base de dados\n",
        "tabela = ('/content/drive/MyDrive/Colab Notebooks/CAGEDLIGTH.csv')\n",
        "df = pd.read_csv(tabela, delimiter=';',\n",
        "                encoding='UTF-8',\n",
        "                error_bad_lines=False)"
      ],
      "execution_count": null,
      "outputs": [
        {
          "output_type": "stream",
          "text": [
            "/usr/local/lib/python3.7/dist-packages/IPython/core/interactiveshell.py:2718: DtypeWarning: Columns (0) have mixed types.Specify dtype option on import or set low_memory=False.\n",
            "  interactivity=interactivity, compiler=compiler, result=result)\n"
          ],
          "name": "stderr"
        }
      ]
    },
    {
      "cell_type": "code",
      "metadata": {
        "id": "PyOjg5euRbKt"
      },
      "source": [
        "# filtrando por tipomovimentação e sexo\n",
        "\n",
        "tpmovsexo = df.filter(['tipomovimentacao','sexo'])\n",
        "\n",
        "# remover a coluna que está 100% vazia\n",
        "df = df.dropna(how='all', axis=1)\n",
        "\n",
        "# remover a linha que tem um item vazio\n",
        "df = df.dropna()"
      ],
      "execution_count": null,
      "outputs": []
    },
    {
      "cell_type": "code",
      "metadata": {
        "id": "sdQGbDTARbOJ"
      },
      "source": [
        "sexo_troca = {1:'Homem', 3:'Mulher'}\n",
        "df.loc[(df.sexo.isnull()), 'sexo'] = 9\n",
        "df['sexo'] = df['sexo'].apply(lambda x: sexo_troca[x])"
      ],
      "execution_count": null,
      "outputs": []
    },
    {
      "cell_type": "code",
      "metadata": {
        "id": "NViHvW_aRbQ8"
      },
      "source": [
        "#MUDEI AQUI\n",
        "raca_troca = {1:'Branca', 2:'Preta', 3:'Parda', 4:'Amarela', 5:'Indígena', 6:'Não informada', 9:'Não identificada'}\n",
        "df.loc[(df.racacor.isnull()), 'racacor'] = 9\n",
        "df['racacor'] = df['racacor'].apply(lambda x: raca_troca[x])"
      ],
      "execution_count": null,
      "outputs": []
    },
    {
      "cell_type": "code",
      "metadata": {
        "id": "vXusYgJRRbTe",
        "colab": {
          "base_uri": "https://localhost:8080/",
          "height": 204
        },
        "outputId": "8fb451b5-a730-413c-cdfb-62449cb1a4a2"
      },
      "source": [
        "#MUDEI AQUI\n",
        "#Cria o dataframe tipo_mov para ser usado no topico 5\n",
        "tpmv_trocaB = {31:'Demissão sem justa causa', 43:'Desconsiderar', 60:'Desconsiderar', 33:'Desconsiderar', 99:'Desconsiderar', 32:'Demissão com justa causa', 40:'Desligamento a pedido', 45:'Término de contrato', 50:'Aposentadoria', 80:'Desligamento por transferência', 90:'Desligamento por Acordo', 98:'Desligamento de Tipo Ignorado', 10:'Admissão', 20:'Admissão', 25:'Admissão', 35:'Admissão', 70:'Admissão'}\n",
        "\n",
        "tipo_mov = pd.DataFrame(columns=['tipomovimentacao','racacor','sexo','idade'])\n",
        "\n",
        "tipo_mov['tipomovimentacao'] = df['tipomovimentacao']\n",
        "tipo_mov['racacor'] = df['racacor']\n",
        "tipo_mov['sexo'] = df['sexo']\n",
        "tipo_mov['idade'] = df['idade']\n",
        "\n",
        "tipo_mov.loc[tipo_mov.tipomovimentacao.isnull(), 'tipomovimentacao'] = 9\n",
        "tipo_mov['tipomovimentacao'] = tipo_mov['tipomovimentacao'].apply(lambda x: tpmv_trocaB[x])\n",
        "\n",
        "tipo_mov.sample(5)"
      ],
      "execution_count": null,
      "outputs": [
        {
          "output_type": "execute_result",
          "data": {
            "text/html": [
              "<div>\n",
              "<style scoped>\n",
              "    .dataframe tbody tr th:only-of-type {\n",
              "        vertical-align: middle;\n",
              "    }\n",
              "\n",
              "    .dataframe tbody tr th {\n",
              "        vertical-align: top;\n",
              "    }\n",
              "\n",
              "    .dataframe thead th {\n",
              "        text-align: right;\n",
              "    }\n",
              "</style>\n",
              "<table border=\"1\" class=\"dataframe\">\n",
              "  <thead>\n",
              "    <tr style=\"text-align: right;\">\n",
              "      <th></th>\n",
              "      <th>tipomovimentacao</th>\n",
              "      <th>racacor</th>\n",
              "      <th>sexo</th>\n",
              "      <th>idade</th>\n",
              "    </tr>\n",
              "  </thead>\n",
              "  <tbody>\n",
              "    <tr>\n",
              "      <th>577006</th>\n",
              "      <td>Admissão</td>\n",
              "      <td>Parda</td>\n",
              "      <td>Homem</td>\n",
              "      <td>36.0</td>\n",
              "    </tr>\n",
              "    <tr>\n",
              "      <th>1048202</th>\n",
              "      <td>Demissão sem justa causa</td>\n",
              "      <td>Parda</td>\n",
              "      <td>Homem</td>\n",
              "      <td>36.0</td>\n",
              "    </tr>\n",
              "    <tr>\n",
              "      <th>1688244</th>\n",
              "      <td>Demissão sem justa causa</td>\n",
              "      <td>Branca</td>\n",
              "      <td>Mulher</td>\n",
              "      <td>19.0</td>\n",
              "    </tr>\n",
              "    <tr>\n",
              "      <th>2897387</th>\n",
              "      <td>Demissão sem justa causa</td>\n",
              "      <td>Parda</td>\n",
              "      <td>Homem</td>\n",
              "      <td>30.0</td>\n",
              "    </tr>\n",
              "    <tr>\n",
              "      <th>917962</th>\n",
              "      <td>Demissão sem justa causa</td>\n",
              "      <td>Não informada</td>\n",
              "      <td>Homem</td>\n",
              "      <td>24.0</td>\n",
              "    </tr>\n",
              "  </tbody>\n",
              "</table>\n",
              "</div>"
            ],
            "text/plain": [
              "                 tipomovimentacao        racacor    sexo  idade\n",
              "577006                   Admissão          Parda   Homem   36.0\n",
              "1048202  Demissão sem justa causa          Parda   Homem   36.0\n",
              "1688244  Demissão sem justa causa         Branca  Mulher   19.0\n",
              "2897387  Demissão sem justa causa          Parda   Homem   30.0\n",
              "917962   Demissão sem justa causa  Não informada   Homem   24.0"
            ]
          },
          "metadata": {
            "tags": []
          },
          "execution_count": 147
        }
      ]
    },
    {
      "cell_type": "code",
      "metadata": {
        "id": "G51rzRIMnRdW"
      },
      "source": [
        "#MUDEI AQUI\n",
        "indexNames = tipo_mov[tipo_mov['tipomovimentacao'] == 'Admissão'].index\n",
        "tipo_mov.drop(indexNames , inplace=True)\n",
        "indexNames = tipo_mov[tipo_mov['tipomovimentacao'] == 'Desconsiderar'].index\n",
        "tipo_mov.drop(indexNames , inplace=True)"
      ],
      "execution_count": null,
      "outputs": []
    },
    {
      "cell_type": "code",
      "metadata": {
        "id": "DjdfLW3GnUxD"
      },
      "source": [
        "tpmv_troca = {31:'Demissão', 43:'Desconsiderar', 60:'Desconsiderar', 33:'Desconsiderar', 99:'Desconsiderar', 32:'Demissão', 40:'Demissão', 45:'Demissão', 50:'Demissão', 80:'Demissão', 90:'Demissão', 98:'Demissão', 10:'Admissão', 20:'Admissão', 25:'Admissão', 35:'Admissão', 70:'Admissão'}\n",
        " \n",
        "df.loc[(df.tipomovimentacao.isnull()), 'tipomovimentacao'] = 9\n",
        "df['tipomovimentacao'] = df['tipomovimentacao'].apply(lambda x: tpmv_troca[x])"
      ],
      "execution_count": null,
      "outputs": []
    },
    {
      "cell_type": "code",
      "metadata": {
        "id": "BdvmJfGqnX1h"
      },
      "source": [
        "#MUDEI AQUI\n",
        "#Organiza as idades em faixas \n",
        "tipo_mov.loc[tipo_mov.idade.isnull(), 'idade'] = 9\n",
        "tipo_mov.loc[tipo_mov.idade <= 20,'idade'] = 1\n",
        "tipo_mov.loc[(tipo_mov.idade >= 21) & (tipo_mov.idade <= 30),'idade'] = 2\n",
        "tipo_mov.loc[(tipo_mov.idade > 30) & (tipo_mov.idade <= 40),'idade'] = 3\n",
        "tipo_mov.loc[(tipo_mov.idade > 40) & (tipo_mov.idade <= 60),'idade'] = 4\n",
        "tipo_mov.loc[(tipo_mov.idade > 60) & (tipo_mov.idade <= 80),'idade'] = 5\n",
        "tipo_mov.loc[tipo_mov.idade > 80,'idade'] = 6"
      ],
      "execution_count": null,
      "outputs": []
    },
    {
      "cell_type": "code",
      "metadata": {
        "id": "Aqv8Gy0TnbSq"
      },
      "source": [
        "#Estilos usados no layout do gráfico \"Solarize_Light e bmh\"\n",
        "plt.style.use(\"Solarize_Light2\")"
      ],
      "execution_count": null,
      "outputs": []
    },
    {
      "cell_type": "code",
      "metadata": {
        "colab": {
          "base_uri": "https://localhost:8080/",
          "height": 522
        },
        "id": "Zm_hr4p6nfd-",
        "outputId": "4c0ec9ed-312b-4314-82ae-8d981dc3de29"
      },
      "source": [
        "#GRAFICOS DO TOPICO 5:\n",
        "Branca = tipo_mov.query('racacor == \"Branca\"').groupby('tipomovimentacao').size().sort_values().tail(7)\n",
        "Preta = tipo_mov.query('racacor == \"Preta\"').groupby('tipomovimentacao').size().sort_values().tail(7)\n",
        "Parda = tipo_mov.query('racacor == \"Parda\"').groupby('tipomovimentacao').size().sort_values().tail(7)\n",
        "Amarela = tipo_mov.query('racacor == \"Amarela\"').groupby('tipomovimentacao').size().sort_values().tail(7)\n",
        "Indígena = tipo_mov.query('racacor == \"Indígena\"').groupby('tipomovimentacao').size().sort_values().tail(7)\n",
        "\n",
        "Homem = tipo_mov.query('sexo == \"Homem\"').groupby('tipomovimentacao').size().sort_values().tail(7)\n",
        "Mulher = tipo_mov.query('sexo == \"Mulher\"').groupby('tipomovimentacao').size().sort_values().tail(7)\n",
        "\n",
        "n_homem = dict(Homem)\n",
        "n_mulher = dict(Mulher)\n",
        "n_preta = dict(Preta)\n",
        "n_branca = dict(Branca)\n",
        "n_parda = dict(Parda)\n",
        "n_amarela = dict(Amarela)\n",
        "n_indígena = dict(Indígena)\n",
        "\n",
        "\n",
        "dados = {}\n",
        "\n",
        "tipomovimentacao = list(n_mulher.keys()) + list(n_homem.keys()) + list(n_preta.keys()) + list(n_branca.keys()) + list(n_parda.keys()) + list(n_amarela.keys()) + list(n_indígena.keys())\n",
        "\n",
        "tipomovimentacao = list(dict.fromkeys(tipomovimentacao))\n",
        "dados_grafico = {'tipomovimentacao': [], 'Mulher': [], 'Homem': [],'Preta': [],'Branca': [],'Parda': [],'Amarela': [], 'Indígena': []}\n",
        "for tipomovimentacao in tipomovimentacao :\n",
        "    if(tipomovimentacao in n_mulher.keys() and tipomovimentacao in n_homem.keys() and tipomovimentacao in n_preta.keys() and tipomovimentacao in n_branca.keys() and tipomovimentacao in n_parda.keys() and tipomovimentacao in n_amarela.keys() and tipomovimentacao in n_indígena.keys()):\n",
        "        dados_grafico['tipomovimentacao'].append(tipomovimentacao)\n",
        "        dados_grafico['Homem'].append(n_homem[tipomovimentacao])\n",
        "        dados_grafico['Mulher'].append(n_mulher[tipomovimentacao])\n",
        "        dados_grafico['Preta'].append(n_preta[tipomovimentacao])\n",
        "        dados_grafico['Branca'].append(n_branca[tipomovimentacao])\n",
        "        dados_grafico['Parda'].append(n_parda[tipomovimentacao])\n",
        "        dados_grafico['Amarela'].append(n_amarela[tipomovimentacao])\n",
        "        dados_grafico['Indígena'].append(n_indígena[tipomovimentacao])\n",
        "        \n",
        "labels = dados_grafico['tipomovimentacao']\n",
        "Homem = dados_grafico['Homem']\n",
        "Mulher = dados_grafico['Mulher']\n",
        "Preta = dados_grafico['Preta']\n",
        "Branca = dados_grafico['Branca']\n",
        "Parda = dados_grafico['Parda']\n",
        "Amarela = dados_grafico['Amarela']\n",
        "Indígena = dados_grafico['Indígena']\n",
        "\n",
        "x = np.arange(len(labels)) \n",
        "width = 0.25\n",
        "\n",
        "fig, ax = plt.subplots(1,1,figsize=(15,8))\n",
        "rects1 = ax.bar(x + width/1.80, Homem, width, label='Homem', color='#2CA07F')\n",
        "rects2 = ax.bar(x - width/1.80, Mulher, width, label='Mulher', color = '#E04B4B')\n",
        "\n",
        "\n",
        "plt.xlabel('Tipo de Movimentação',color ='#2C79A0', fontsize=14, ha='center')\n",
        "plt.figtext(.1,.85,'Gênero',color ='k', fontsize=12, ha='center')\n",
        "ax.set_title('Causas de Demissão', fontsize=20,color ='#2C79A0')\n",
        "ax.set_xticks(x)\n",
        "ax.set_xticklabels(labels)\n",
        "plt.legend(loc=2,prop={'size':13})\n",
        "plt.style.use(\"bmh\")\n",
        "def autolabel(rects):\n",
        "    for rect in rects:\n",
        "        height = rect.get_height()\n",
        "        ax.annotate('{}'.format(height),\n",
        "                    xy=(rect.get_x() + rect.get_width() / 2, height),\n",
        "                    xytext=(0, 3),\n",
        "                    textcoords=\"offset points\",\n",
        "                    ha='center', va='bottom')\n",
        "\n",
        " \n",
        "\n",
        "\n",
        "autolabel(rects1)\n",
        "autolabel(rects2)\n",
        "plt.show()"
      ],
      "execution_count": null,
      "outputs": [
        {
          "output_type": "display_data",
          "data": {
            "image/png": "[encoded data removed]",
            "text/plain": [
              "<Figure size 1080x576 with 1 Axes>"
            ]
          },
          "metadata": {
            "tags": []
          }
        }
      ]
    },
    {
      "cell_type": "code",
      "metadata": {
        "id": "5MHD8FsYtlod"
      },
      "source": [
        ""
      ],
      "execution_count": null,
      "outputs": []
    },
    {
      "cell_type": "code",
      "metadata": {
        "colab": {
          "base_uri": "https://localhost:8080/",
          "height": 627
        },
        "id": "sHvnf9gZtzOI",
        "outputId": "dbc50b5d-fe1e-450f-8735-8320fa3c9c0a"
      },
      "source": [
        "Branca = tipo_mov.query('racacor == \"Branca\"').groupby('tipomovimentacao').size().sort_values().tail(7)\n",
        "Preta = tipo_mov.query('racacor == \"Preta\"').groupby('tipomovimentacao').size().sort_values().tail(7)\n",
        "Parda = tipo_mov.query('racacor == \"Parda\"').groupby('tipomovimentacao').size().sort_values().tail(7)\n",
        "Amarela = tipo_mov.query('racacor == \"Amarela\"').groupby('tipomovimentacao').size().sort_values().tail(7)\n",
        "Indígena = tipo_mov.query('racacor == \"Indígena\"').groupby('tipomovimentacao').size().sort_values().tail(7)\n",
        "\n",
        "Homem = tipo_mov.query('sexo == \"Homem\"').groupby('tipomovimentacao').size().sort_values().tail(7)\n",
        "Mulher = tipo_mov.query('sexo == \"Mulher\"').groupby('tipomovimentacao').size().sort_values().tail(7)\n",
        "\n",
        "n_homem = dict(Homem)\n",
        "n_mulher = dict(Mulher)\n",
        "n_preta = dict(Preta)\n",
        "n_branca = dict(Branca)\n",
        "n_parda = dict(Parda)\n",
        "n_amarela = dict(Amarela)\n",
        "n_indígena = dict(Indígena)\n",
        "\n",
        "\n",
        "dados = {}\n",
        "\n",
        "tipomovimentacao = list(n_mulher.keys()) + list(n_homem.keys()) + list(n_preta.keys()) + list(n_branca.keys()) + list(n_parda.keys()) + list(n_amarela.keys()) + list(n_indígena.keys())\n",
        "\n",
        "tipomovimentacao = list(dict.fromkeys(tipomovimentacao))\n",
        "dados_grafico = {'tipomovimentacao': [], 'Mulher': [], 'Homem': [],'Preta': [],'Branca': [],'Parda': [],'Amarela': [], 'Indígena': []}\n",
        "for tipomovimentacao in tipomovimentacao :\n",
        "    if(tipomovimentacao in n_mulher.keys() and tipomovimentacao in n_homem.keys() and tipomovimentacao in n_preta.keys() and tipomovimentacao in n_branca.keys() and tipomovimentacao in n_parda.keys() and tipomovimentacao in n_amarela.keys() and tipomovimentacao in n_indígena.keys()):\n",
        "        dados_grafico['tipomovimentacao'].append(tipomovimentacao)\n",
        "        dados_grafico['Homem'].append(n_homem[tipomovimentacao])\n",
        "        dados_grafico['Mulher'].append(n_mulher[tipomovimentacao])\n",
        "        dados_grafico['Preta'].append(n_preta[tipomovimentacao])\n",
        "        dados_grafico['Branca'].append(n_branca[tipomovimentacao])\n",
        "        dados_grafico['Parda'].append(n_parda[tipomovimentacao])\n",
        "        dados_grafico['Amarela'].append(n_amarela[tipomovimentacao])\n",
        "        dados_grafico['Indígena'].append(n_indígena[tipomovimentacao])\n",
        "        \n",
        "labels = dados_grafico['tipomovimentacao']\n",
        "Homem = dados_grafico['Homem']\n",
        "Mulher = dados_grafico['Mulher']\n",
        "Preta = dados_grafico['Preta']\n",
        "Branca = dados_grafico['Branca']\n",
        "Parda = dados_grafico['Parda']\n",
        "Amarela = dados_grafico['Amarela']\n",
        "Indígena = dados_grafico['Indígena']\n",
        "\n",
        "x = np.arange(len(labels)) \n",
        "width = 0.15\n",
        "\n",
        "fig, ax = plt.subplots(1,1,figsize=(18,10))\n",
        "\n",
        "rects3 = ax.bar(x + (width/1.80)-0.037, Preta, width, label='Preta', color = '#43355F')\n",
        "rects4 = ax.bar(x - (width/1.80)-0.026, Branca, width, label='Branca', color = '#22977B')\n",
        "rects5 = ax.bar(x + (width/1.80)+0.118, Parda, width, label='Parda', color = '#D1A074')\n",
        "rects6 = ax.bar(x - (width/1.80)-0.190, Amarela, width, label='Amarela', color = '#7487D1')\n",
        "rects7 = ax.bar(x + (width/1.80)+0.270, Indígena, width, label='Indígena', color = '#EC1616')\n",
        "\n",
        "plt.xlabel('Tipo de Movimentação',color ='#2C79A0', fontsize=14, ha='center')\n",
        "plt.figtext(.1,.85,'Raça/Cor',color ='k', fontsize=12, ha='center')\n",
        "ax.set_title('Causas de Demissão', fontsize=20,color ='#2C79A0')\n",
        "ax.set_xticks(x)\n",
        "ax.set_xticklabels(labels)\n",
        "plt.legend(loc=2,prop={'size':13})\n",
        "plt.style.use(\"bmh\")\n",
        "def autolabel(rects):\n",
        "    for rect in rects:\n",
        "        height = rect.get_height()\n",
        "        ax.annotate('{}'.format(height),\n",
        "                    xy=(rect.get_x() + rect.get_width() / 2, height),\n",
        "                    xytext=(0, 3),\n",
        "                    textcoords=\"offset points\",\n",
        "                    ha='center', va='bottom')\n",
        "\n",
        " \n",
        "\n",
        "\n",
        "\n",
        "autolabel(rects3)\n",
        "autolabel(rects4)\n",
        "autolabel(rects5)\n",
        "autolabel(rects6)\n",
        "autolabel(rects7)\n",
        "plt.show()"
      ],
      "execution_count": null,
      "outputs": [
        {
          "output_type": "display_data",
          "data": {
            "image/png": "[encoded data removed]",
            "text/plain": [
              "<Figure size 1296x720 with 1 Axes>"
            ]
          },
          "metadata": {
            "tags": []
          }
        }
      ]
    },
    {
      "cell_type": "code",
      "metadata": {
        "id": "_fOM71zen7OP"
      },
      "source": [
        ""
      ],
      "execution_count": null,
      "outputs": []
    },
    {
      "cell_type": "code",
      "metadata": {
        "colab": {
          "base_uri": "https://localhost:8080/",
          "height": 518
        },
        "id": "QDAc23UHzSmn",
        "outputId": "03ee8f47-3a46-4c24-d90f-0af4e80f2226"
      },
      "source": [
        "vinte = tipo_mov.query('idade == 1').groupby('tipomovimentacao').size().sort_values().tail(7)\n",
        "trinta = tipo_mov.query('idade == 2').groupby('tipomovimentacao').size().sort_values().tail(7)\n",
        "quarenta = tipo_mov.query('idade == 3').groupby('tipomovimentacao').size().sort_values().tail(7)\n",
        "sess = tipo_mov.query('idade == 4').groupby('tipomovimentacao').size().sort_values().tail(7)\n",
        "oit = tipo_mov.query('idade == 5').groupby('tipomovimentacao').size().sort_values().tail(7)\n",
        "maiorOit = tipo_mov.query('idade == 6').groupby('tipomovimentacao').size().sort_values().tail(7)\n",
        "\n",
        "n_vinte = dict(vinte)\n",
        "n_trinta = dict(trinta)\n",
        "n_quarenta = dict(quarenta)\n",
        "n_sess = dict(sess)\n",
        "n_oit = dict(oit)\n",
        "n_maiorOit = dict(maiorOit)\n",
        "\n",
        "dados = {}\n",
        "\n",
        "tipomovimentacao = list(n_vinte.keys()) + list(n_trinta.keys()) + list(n_quarenta.keys()) + list(n_sess.keys()) + list(n_oit.keys()) + list(n_maiorOit.keys())\n",
        "\n",
        "tipomovimentacao = list(dict.fromkeys(tipomovimentacao))\n",
        "dados_grafico = {'tipomovimentacao': [], 'vinte': [], 'trinta': [],'quarenta': [],'sess': [],'oit': [],'maiorOit': []}\n",
        "for tipomovimentacao in tipomovimentacao :\n",
        "    if(tipomovimentacao in n_vinte.keys() and tipomovimentacao in n_trinta.keys() and tipomovimentacao in n_quarenta.keys() and tipomovimentacao in n_sess.keys() and tipomovimentacao in n_oit.keys() and tipomovimentacao in n_maiorOit.keys()):\n",
        "        dados_grafico['tipomovimentacao'].append(tipomovimentacao)\n",
        "        dados_grafico['vinte'].append(n_vinte[tipomovimentacao])\n",
        "        dados_grafico['trinta'].append(n_trinta[tipomovimentacao])\n",
        "        dados_grafico['quarenta'].append(n_quarenta[tipomovimentacao])\n",
        "        dados_grafico['sess'].append(n_sess[tipomovimentacao])\n",
        "        dados_grafico['oit'].append(n_oit[tipomovimentacao])\n",
        "        dados_grafico['maiorOit'].append(n_maiorOit[tipomovimentacao])\n",
        "        \n",
        "labels = dados_grafico['tipomovimentacao']\n",
        "vinte = dados_grafico['vinte']\n",
        "trinta = dados_grafico['trinta']\n",
        "quarenta = dados_grafico['quarenta']\n",
        "sess = dados_grafico['sess']\n",
        "oit = dados_grafico['oit']\n",
        "maiorOit = dados_grafico['maiorOit']\n",
        "\n",
        "\n",
        "x = np.arange(len(labels)) \n",
        "width = 0.10\n",
        "\n",
        "fig, ax = plt.subplots(1,1,figsize=(18,8))\n",
        "\n",
        "rects1 = ax.bar(x + (width/1.80)+0.009, vinte, width, label='-20 anos', color='#2CA07F')\n",
        "rects2 = ax.bar(x - (width/1.80)+0.010, trinta, width, label='20-30 anos', color = '#E04B4B')\n",
        "rects3 = ax.bar(x + (width/1.80)+0.118, quarenta, width, label='30-40 anos', color = '#43355F')\n",
        "rects4 = ax.bar(x - (width/1.80)-0.1, sess, width, label='40-60 anos', color = '#2E86C1')\n",
        "rects5 = ax.bar(x + (width/1.80)+0.226, oit, width, label='60-80 anos', color = '#D1A074')\n",
        "rects6 = ax.bar(x - (width/1.80)-0.226, maiorOit, width, label='80- anos', color = '#7487D1')\n",
        "\n",
        "plt.xlabel('Tipo de Movimentação',color ='#2C79A0', fontsize=14, ha='center')\n",
        "plt.figtext(.155,.89,'Faixa Etária',color ='k', fontsize=12, ha='center')\n",
        "ax.set_title('Causas de Demissão', fontsize=20,color ='#2C79A0')\n",
        "ax.set_xticks(x)\n",
        "ax.set_xticklabels(labels)\n",
        "plt.legend(loc=2,prop={'size':13})\n",
        "plt.style.use(\"bmh\")\n",
        "def autolabel(rects):\n",
        "    for rect in rects:\n",
        "        height = rect.get_height()\n",
        "        ax.annotate('{}'.format(height),\n",
        "                    xy=(rect.get_x() + rect.get_width() / 2, height),\n",
        "                    xytext=(0, 3),\n",
        "                    textcoords=\"offset points\",\n",
        "                    ha='center', va='bottom')\n",
        "\n",
        " \n",
        "\n",
        "\n",
        "autolabel(rects1)\n",
        "autolabel(rects2)\n",
        "autolabel(rects3)\n",
        "autolabel(rects4)\n",
        "autolabel(rects5)\n",
        "autolabel(rects6)\n",
        "plt.show()"
      ],
      "execution_count": null,
      "outputs": [
        {
          "output_type": "display_data",
          "data": {
            "image/png": "[encoded data removed]",
            "text/plain": [
              "<Figure size 1296x576 with 1 Axes>"
            ]
          },
          "metadata": {
            "tags": []
          }
        }
      ]
    },
    {
      "cell_type": "code",
      "metadata": {
        "id": "D-DKCHbLdIy4"
      },
      "source": [
        ""
      ],
      "execution_count": null,
      "outputs": []
    }
  ]
}